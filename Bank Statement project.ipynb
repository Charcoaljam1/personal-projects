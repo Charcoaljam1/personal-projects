{
 "cells": [
  {
   "cell_type": "markdown",
   "id": "0514c26f-17bc-4139-beea-da7d51868ec8",
   "metadata": {},
   "source": [
    "### How JP spends his money\n",
    "\n",
    "This is a rough analysis of my spending habits using data from my Monzo bank statement."
   ]
  },
  {
   "cell_type": "markdown",
   "id": "facda3bc-fffb-4034-a4ba-3e743f663aae",
   "metadata": {},
   "source": [
    "First I will set up my environment with the libraries I will need for this analysis"
   ]
  },
  {
   "cell_type": "code",
   "execution_count": 111,
   "id": "9dce63c7-fff1-4dbe-a289-4e25469ce6dd",
   "metadata": {},
   "outputs": [],
   "source": [
    "# import pandas for data manipulation, seaborn and matplotlib for visualization\n",
    "import pandas as pd\n",
    "import matplotlib.pyplot as plt\n",
    "import seaborn as sns\n",
    "import plotly.express as px"
   ]
  },
  {
   "cell_type": "markdown",
   "id": "3b55fd0c-02e5-4d1a-9ee6-fd2cf62373d7",
   "metadata": {},
   "source": [
    "Then I will import my data"
   ]
  },
  {
   "cell_type": "code",
   "execution_count": 112,
   "id": "d5310f54-2c5c-4b09-a781-87b2fd069abc",
   "metadata": {},
   "outputs": [],
   "source": [
    "data = pd.read_csv('MonzoDataExport_30Jan2023-28Dec2024_2024-12-28_183408.csv')"
   ]
  },
  {
   "cell_type": "markdown",
   "id": "93716779-feb6-4e5f-9ea5-457668559b38",
   "metadata": {},
   "source": [
    "Now that my data is imported, I will check some features of the data to understand it better. How many rows and colums of data am I dealing with, what are the data types, are there missing values etc"
   ]
  },
  {
   "cell_type": "code",
   "execution_count": 113,
   "id": "76f8282e-c7ff-4c6f-80f6-4c75fadb4b9b",
   "metadata": {},
   "outputs": [
    {
     "data": {
      "text/html": [
       "<div>\n",
       "<style scoped>\n",
       "    .dataframe tbody tr th:only-of-type {\n",
       "        vertical-align: middle;\n",
       "    }\n",
       "\n",
       "    .dataframe tbody tr th {\n",
       "        vertical-align: top;\n",
       "    }\n",
       "\n",
       "    .dataframe thead th {\n",
       "        text-align: right;\n",
       "    }\n",
       "</style>\n",
       "<table border=\"1\" class=\"dataframe\">\n",
       "  <thead>\n",
       "    <tr style=\"text-align: right;\">\n",
       "      <th></th>\n",
       "      <th>Transaction ID</th>\n",
       "      <th>Date</th>\n",
       "      <th>Time</th>\n",
       "      <th>Type</th>\n",
       "      <th>Name</th>\n",
       "      <th>Emoji</th>\n",
       "      <th>Category</th>\n",
       "      <th>Amount</th>\n",
       "      <th>Currency</th>\n",
       "      <th>Local amount</th>\n",
       "      <th>Local currency</th>\n",
       "      <th>Notes and #tags</th>\n",
       "      <th>Address</th>\n",
       "      <th>Receipt</th>\n",
       "      <th>Description</th>\n",
       "      <th>Category split</th>\n",
       "      <th>Money Out</th>\n",
       "      <th>Money In</th>\n",
       "    </tr>\n",
       "  </thead>\n",
       "  <tbody>\n",
       "    <tr>\n",
       "      <th>0</th>\n",
       "      <td>tx_0000ATJC2iU0VSm985DVYY</td>\n",
       "      <td>05/03/2023</td>\n",
       "      <td>14:48:10</td>\n",
       "      <td>Faster payment</td>\n",
       "      <td>John-Paul Akame</td>\n",
       "      <td>NaN</td>\n",
       "      <td>Transfers</td>\n",
       "      <td>1.35</td>\n",
       "      <td>GBP</td>\n",
       "      <td>1.35</td>\n",
       "      <td>GBP</td>\n",
       "      <td>Monzo-CQHKS</td>\n",
       "      <td>NaN</td>\n",
       "      <td>NaN</td>\n",
       "      <td>Monzo-CQHKS</td>\n",
       "      <td>NaN</td>\n",
       "      <td>NaN</td>\n",
       "      <td>1.35</td>\n",
       "    </tr>\n",
       "    <tr>\n",
       "      <th>1</th>\n",
       "      <td>tx_0000ATJKqZvpNCwoijW60S</td>\n",
       "      <td>05/03/2023</td>\n",
       "      <td>16:26:49</td>\n",
       "      <td>Card payment</td>\n",
       "      <td>Poundland</td>\n",
       "      <td>💵</td>\n",
       "      <td>Groceries</td>\n",
       "      <td>-1.00</td>\n",
       "      <td>GBP</td>\n",
       "      <td>-1.00</td>\n",
       "      <td>GBP</td>\n",
       "      <td>NaN</td>\n",
       "      <td>Wellgate Shopping Centre</td>\n",
       "      <td>NaN</td>\n",
       "      <td>POUNDLAND LTD          DUNDEE        GBR</td>\n",
       "      <td>NaN</td>\n",
       "      <td>-1.0</td>\n",
       "      <td>NaN</td>\n",
       "    </tr>\n",
       "    <tr>\n",
       "      <th>2</th>\n",
       "      <td>tx_0000ATL9KVuE5z6wbskzgH</td>\n",
       "      <td>06/03/2023</td>\n",
       "      <td>13:27:11</td>\n",
       "      <td>Faster payment</td>\n",
       "      <td>J Akame</td>\n",
       "      <td>NaN</td>\n",
       "      <td>Transfers</td>\n",
       "      <td>1.00</td>\n",
       "      <td>GBP</td>\n",
       "      <td>1.00</td>\n",
       "      <td>GBP</td>\n",
       "      <td>Monzo-CMGZW</td>\n",
       "      <td>NaN</td>\n",
       "      <td>NaN</td>\n",
       "      <td>Monzo-CMGZW</td>\n",
       "      <td>NaN</td>\n",
       "      <td>NaN</td>\n",
       "      <td>1.00</td>\n",
       "    </tr>\n",
       "    <tr>\n",
       "      <th>3</th>\n",
       "      <td>tx_0000ATL9XUzinM9WrqmTvV</td>\n",
       "      <td>06/03/2023</td>\n",
       "      <td>13:29:32</td>\n",
       "      <td>Faster payment</td>\n",
       "      <td>Linda Scott</td>\n",
       "      <td>NaN</td>\n",
       "      <td>Bills</td>\n",
       "      <td>-1.00</td>\n",
       "      <td>GBP</td>\n",
       "      <td>-1.00</td>\n",
       "      <td>GBP</td>\n",
       "      <td>John</td>\n",
       "      <td>NaN</td>\n",
       "      <td>NaN</td>\n",
       "      <td>John</td>\n",
       "      <td>NaN</td>\n",
       "      <td>-1.0</td>\n",
       "      <td>NaN</td>\n",
       "    </tr>\n",
       "    <tr>\n",
       "      <th>4</th>\n",
       "      <td>tx_0000ATLDkeD0FQBZ1gWD0E</td>\n",
       "      <td>06/03/2023</td>\n",
       "      <td>14:16:44</td>\n",
       "      <td>Faster payment</td>\n",
       "      <td>John-Paul Akame</td>\n",
       "      <td>NaN</td>\n",
       "      <td>Transfers</td>\n",
       "      <td>0.45</td>\n",
       "      <td>GBP</td>\n",
       "      <td>0.45</td>\n",
       "      <td>GBP</td>\n",
       "      <td>Monzo-SJYLS</td>\n",
       "      <td>NaN</td>\n",
       "      <td>NaN</td>\n",
       "      <td>Monzo-SJYLS</td>\n",
       "      <td>NaN</td>\n",
       "      <td>NaN</td>\n",
       "      <td>0.45</td>\n",
       "    </tr>\n",
       "  </tbody>\n",
       "</table>\n",
       "</div>"
      ],
      "text/plain": [
       "              Transaction ID        Date      Time            Type  \\\n",
       "0  tx_0000ATJC2iU0VSm985DVYY  05/03/2023  14:48:10  Faster payment   \n",
       "1  tx_0000ATJKqZvpNCwoijW60S  05/03/2023  16:26:49    Card payment   \n",
       "2  tx_0000ATL9KVuE5z6wbskzgH  06/03/2023  13:27:11  Faster payment   \n",
       "3  tx_0000ATL9XUzinM9WrqmTvV  06/03/2023  13:29:32  Faster payment   \n",
       "4  tx_0000ATLDkeD0FQBZ1gWD0E  06/03/2023  14:16:44  Faster payment   \n",
       "\n",
       "              Name Emoji   Category  Amount Currency  Local amount  \\\n",
       "0  John-Paul Akame   NaN  Transfers    1.35      GBP          1.35   \n",
       "1        Poundland     💵  Groceries   -1.00      GBP         -1.00   \n",
       "2          J Akame   NaN  Transfers    1.00      GBP          1.00   \n",
       "3      Linda Scott   NaN      Bills   -1.00      GBP         -1.00   \n",
       "4  John-Paul Akame   NaN  Transfers    0.45      GBP          0.45   \n",
       "\n",
       "  Local currency Notes and #tags                   Address Receipt  \\\n",
       "0            GBP     Monzo-CQHKS                       NaN     NaN   \n",
       "1            GBP             NaN  Wellgate Shopping Centre     NaN   \n",
       "2            GBP     Monzo-CMGZW                       NaN     NaN   \n",
       "3            GBP            John                       NaN     NaN   \n",
       "4            GBP     Monzo-SJYLS                       NaN     NaN   \n",
       "\n",
       "                                Description  Category split  Money Out  \\\n",
       "0                               Monzo-CQHKS             NaN        NaN   \n",
       "1  POUNDLAND LTD          DUNDEE        GBR             NaN       -1.0   \n",
       "2                               Monzo-CMGZW             NaN        NaN   \n",
       "3                                      John             NaN       -1.0   \n",
       "4                               Monzo-SJYLS             NaN        NaN   \n",
       "\n",
       "   Money In  \n",
       "0      1.35  \n",
       "1       NaN  \n",
       "2      1.00  \n",
       "3       NaN  \n",
       "4      0.45  "
      ]
     },
     "execution_count": 113,
     "metadata": {},
     "output_type": "execute_result"
    }
   ],
   "source": [
    "# This code lets me see the first five rows of my dataset\n",
    "data.head()"
   ]
  },
  {
   "cell_type": "code",
   "execution_count": 114,
   "id": "18514c6c-2025-4aa1-8a6d-0730419d694c",
   "metadata": {},
   "outputs": [
    {
     "name": "stdout",
     "output_type": "stream",
     "text": [
      "<class 'pandas.core.frame.DataFrame'>\n",
      "RangeIndex: 3425 entries, 0 to 3424\n",
      "Data columns (total 18 columns):\n",
      " #   Column           Non-Null Count  Dtype  \n",
      "---  ------           --------------  -----  \n",
      " 0   Transaction ID   3425 non-null   object \n",
      " 1   Date             3425 non-null   object \n",
      " 2   Time             3425 non-null   object \n",
      " 3   Type             3425 non-null   object \n",
      " 4   Name             3341 non-null   object \n",
      " 5   Emoji            757 non-null    object \n",
      " 6   Category         3425 non-null   object \n",
      " 7   Amount           3425 non-null   float64\n",
      " 8   Currency         3425 non-null   object \n",
      " 9   Local amount     3425 non-null   float64\n",
      " 10  Local currency   3425 non-null   object \n",
      " 11  Notes and #tags  1409 non-null   object \n",
      " 12  Address          653 non-null    object \n",
      " 13  Receipt          9 non-null      object \n",
      " 14  Description      2027 non-null   object \n",
      " 15  Category split   0 non-null      float64\n",
      " 16  Money Out        2160 non-null   float64\n",
      " 17  Money In         1265 non-null   float64\n",
      "dtypes: float64(5), object(13)\n",
      "memory usage: 481.8+ KB\n"
     ]
    }
   ],
   "source": [
    "data.info()"
   ]
  },
  {
   "cell_type": "markdown",
   "id": "9876ad81-89a3-4482-891c-70eec591e2a1",
   "metadata": {},
   "source": [
    "Based on what I can see at the moment, I will need to make some changes to the data types of some columns. Some columns are better stored as date, time, and category, instead of strings"
   ]
  },
  {
   "cell_type": "code",
   "execution_count": 115,
   "id": "6cf77612-8dca-4b15-a4a4-1e3d64d9a263",
   "metadata": {},
   "outputs": [],
   "source": [
    "data['Date'] = pd.to_datetime(data['Date'], format='%d/%m/%Y')\n",
    "data['Time'] = pd.to_datetime(data['Time'], format='%H:%M:%S')\n",
    "data['Type'] = data['Type'].astype('category')\n",
    "data['Category'] = data['Category'].astype('category')"
   ]
  },
  {
   "cell_type": "markdown",
   "id": "08475029-d388-4794-b7c2-9c51645ee087",
   "metadata": {},
   "source": [
    "So I have converted the date and time columns into datetime datatypes, and I have converted the type and category columns into category datatypes"
   ]
  },
  {
   "cell_type": "code",
   "execution_count": 116,
   "id": "e3bbf679-93b7-4e4e-91fc-fcb976250097",
   "metadata": {},
   "outputs": [
    {
     "name": "stdout",
     "output_type": "stream",
     "text": [
      "<class 'pandas.core.frame.DataFrame'>\n",
      "RangeIndex: 3425 entries, 0 to 3424\n",
      "Data columns (total 18 columns):\n",
      " #   Column           Non-Null Count  Dtype         \n",
      "---  ------           --------------  -----         \n",
      " 0   Transaction ID   3425 non-null   object        \n",
      " 1   Date             3425 non-null   datetime64[ns]\n",
      " 2   Time             3425 non-null   datetime64[ns]\n",
      " 3   Type             3425 non-null   category      \n",
      " 4   Name             3341 non-null   object        \n",
      " 5   Emoji            757 non-null    object        \n",
      " 6   Category         3425 non-null   category      \n",
      " 7   Amount           3425 non-null   float64       \n",
      " 8   Currency         3425 non-null   object        \n",
      " 9   Local amount     3425 non-null   float64       \n",
      " 10  Local currency   3425 non-null   object        \n",
      " 11  Notes and #tags  1409 non-null   object        \n",
      " 12  Address          653 non-null    object        \n",
      " 13  Receipt          9 non-null      object        \n",
      " 14  Description      2027 non-null   object        \n",
      " 15  Category split   0 non-null      float64       \n",
      " 16  Money Out        2160 non-null   float64       \n",
      " 17  Money In         1265 non-null   float64       \n",
      "dtypes: category(2), datetime64[ns](2), float64(5), object(9)\n",
      "memory usage: 436.0+ KB\n"
     ]
    }
   ],
   "source": [
    "data.info()"
   ]
  },
  {
   "cell_type": "markdown",
   "id": "0286193a-1a68-4d90-bf86-f593c20835aa",
   "metadata": {},
   "source": [
    "Now, the next step is to drop the columns that I won't be using in this analysis. These columns include the Transaction ID, Emoji, Local Amount, Local Currency, Receipt, and Category split. I am removing these columns as they do not contain any data that will useful towards this analysis, or have repeated data"
   ]
  },
  {
   "cell_type": "code",
   "execution_count": 117,
   "id": "3922f9eb-7a41-4e7c-9f6a-d03477d4932e",
   "metadata": {},
   "outputs": [],
   "source": [
    "data.drop(['Transaction ID','Emoji','Local amount','Local currency', 'Receipt','Category split'], axis=1, inplace=True)"
   ]
  },
  {
   "cell_type": "code",
   "execution_count": 118,
   "id": "d6d04cf4-144c-493c-9e10-f0ccb4f1260a",
   "metadata": {},
   "outputs": [
    {
     "data": {
      "text/html": [
       "<div>\n",
       "<style scoped>\n",
       "    .dataframe tbody tr th:only-of-type {\n",
       "        vertical-align: middle;\n",
       "    }\n",
       "\n",
       "    .dataframe tbody tr th {\n",
       "        vertical-align: top;\n",
       "    }\n",
       "\n",
       "    .dataframe thead th {\n",
       "        text-align: right;\n",
       "    }\n",
       "</style>\n",
       "<table border=\"1\" class=\"dataframe\">\n",
       "  <thead>\n",
       "    <tr style=\"text-align: right;\">\n",
       "      <th></th>\n",
       "      <th>Date</th>\n",
       "      <th>Time</th>\n",
       "      <th>Type</th>\n",
       "      <th>Name</th>\n",
       "      <th>Category</th>\n",
       "      <th>Amount</th>\n",
       "      <th>Currency</th>\n",
       "      <th>Notes and #tags</th>\n",
       "      <th>Address</th>\n",
       "      <th>Description</th>\n",
       "      <th>Money Out</th>\n",
       "      <th>Money In</th>\n",
       "    </tr>\n",
       "  </thead>\n",
       "  <tbody>\n",
       "    <tr>\n",
       "      <th>320</th>\n",
       "      <td>2023-06-29</td>\n",
       "      <td>1900-01-01 05:42:52</td>\n",
       "      <td>Faster payment</td>\n",
       "      <td>John-Paul Akame</td>\n",
       "      <td>Charity</td>\n",
       "      <td>-64.29</td>\n",
       "      <td>GBP</td>\n",
       "      <td>50%</td>\n",
       "      <td>NaN</td>\n",
       "      <td>50% covenant</td>\n",
       "      <td>-64.29</td>\n",
       "      <td>NaN</td>\n",
       "    </tr>\n",
       "    <tr>\n",
       "      <th>3355</th>\n",
       "      <td>2024-12-21</td>\n",
       "      <td>1900-01-01 19:05:26</td>\n",
       "      <td>Pot transfer</td>\n",
       "      <td>Debt Pot</td>\n",
       "      <td>Transfers</td>\n",
       "      <td>-91.53</td>\n",
       "      <td>GBP</td>\n",
       "      <td>NaN</td>\n",
       "      <td>NaN</td>\n",
       "      <td>NaN</td>\n",
       "      <td>-91.53</td>\n",
       "      <td>NaN</td>\n",
       "    </tr>\n",
       "    <tr>\n",
       "      <th>1893</th>\n",
       "      <td>2024-05-16</td>\n",
       "      <td>1900-01-01 13:27:16</td>\n",
       "      <td>Card payment</td>\n",
       "      <td>Tesco</td>\n",
       "      <td>Groceries</td>\n",
       "      <td>-5.12</td>\n",
       "      <td>GBP</td>\n",
       "      <td>Bananas and Greek yogurt</td>\n",
       "      <td>Kingsway</td>\n",
       "      <td>TESCO STORE 2389       DUNDEE        GBR</td>\n",
       "      <td>-5.12</td>\n",
       "      <td>NaN</td>\n",
       "    </tr>\n",
       "    <tr>\n",
       "      <th>1383</th>\n",
       "      <td>2024-01-04</td>\n",
       "      <td>1900-01-01 21:03:41</td>\n",
       "      <td>Faster payment</td>\n",
       "      <td>John-Paul Akame</td>\n",
       "      <td>Family</td>\n",
       "      <td>-212.00</td>\n",
       "      <td>GBP</td>\n",
       "      <td>Boy's fees</td>\n",
       "      <td>NaN</td>\n",
       "      <td>Boy's fees</td>\n",
       "      <td>-212.00</td>\n",
       "      <td>NaN</td>\n",
       "    </tr>\n",
       "    <tr>\n",
       "      <th>1472</th>\n",
       "      <td>2024-01-20</td>\n",
       "      <td>1900-01-01 07:40:43</td>\n",
       "      <td>Pot transfer</td>\n",
       "      <td>Savings Pot</td>\n",
       "      <td>Transfers</td>\n",
       "      <td>3.00</td>\n",
       "      <td>GBP</td>\n",
       "      <td>NaN</td>\n",
       "      <td>NaN</td>\n",
       "      <td>NaN</td>\n",
       "      <td>NaN</td>\n",
       "      <td>3.0</td>\n",
       "    </tr>\n",
       "  </tbody>\n",
       "</table>\n",
       "</div>"
      ],
      "text/plain": [
       "           Date                Time            Type             Name  \\\n",
       "320  2023-06-29 1900-01-01 05:42:52  Faster payment  John-Paul Akame   \n",
       "3355 2024-12-21 1900-01-01 19:05:26    Pot transfer         Debt Pot   \n",
       "1893 2024-05-16 1900-01-01 13:27:16    Card payment            Tesco   \n",
       "1383 2024-01-04 1900-01-01 21:03:41  Faster payment  John-Paul Akame   \n",
       "1472 2024-01-20 1900-01-01 07:40:43    Pot transfer      Savings Pot   \n",
       "\n",
       "       Category  Amount Currency           Notes and #tags   Address  \\\n",
       "320     Charity  -64.29      GBP                      50%        NaN   \n",
       "3355  Transfers  -91.53      GBP                       NaN       NaN   \n",
       "1893  Groceries   -5.12      GBP  Bananas and Greek yogurt  Kingsway   \n",
       "1383     Family -212.00      GBP                Boy's fees       NaN   \n",
       "1472  Transfers    3.00      GBP                       NaN       NaN   \n",
       "\n",
       "                                   Description  Money Out  Money In  \n",
       "320                               50% covenant     -64.29       NaN  \n",
       "3355                                       NaN     -91.53       NaN  \n",
       "1893  TESCO STORE 2389       DUNDEE        GBR      -5.12       NaN  \n",
       "1383                                Boy's fees    -212.00       NaN  \n",
       "1472                                       NaN        NaN       3.0  "
      ]
     },
     "execution_count": 118,
     "metadata": {},
     "output_type": "execute_result"
    }
   ],
   "source": [
    "data.sample(5)"
   ]
  },
  {
   "cell_type": "markdown",
   "id": "b513974c-4b6c-4d8d-bd12-92de76223d9a",
   "metadata": {},
   "source": [
    "I do not like the way my time column is also showing date, so I will remove it. I also do not want to have the negative sign on my Money Out column"
   ]
  },
  {
   "cell_type": "code",
   "execution_count": 119,
   "id": "d4172447-7896-4813-8733-72cf747c36d9",
   "metadata": {},
   "outputs": [
    {
     "data": {
      "text/html": [
       "<div>\n",
       "<style scoped>\n",
       "    .dataframe tbody tr th:only-of-type {\n",
       "        vertical-align: middle;\n",
       "    }\n",
       "\n",
       "    .dataframe tbody tr th {\n",
       "        vertical-align: top;\n",
       "    }\n",
       "\n",
       "    .dataframe thead th {\n",
       "        text-align: right;\n",
       "    }\n",
       "</style>\n",
       "<table border=\"1\" class=\"dataframe\">\n",
       "  <thead>\n",
       "    <tr style=\"text-align: right;\">\n",
       "      <th></th>\n",
       "      <th>Date</th>\n",
       "      <th>Time</th>\n",
       "      <th>Type</th>\n",
       "      <th>Name</th>\n",
       "      <th>Category</th>\n",
       "      <th>Amount</th>\n",
       "      <th>Currency</th>\n",
       "      <th>Notes and #tags</th>\n",
       "      <th>Address</th>\n",
       "      <th>Description</th>\n",
       "      <th>Money Out</th>\n",
       "      <th>Money In</th>\n",
       "    </tr>\n",
       "  </thead>\n",
       "  <tbody>\n",
       "    <tr>\n",
       "      <th>0</th>\n",
       "      <td>2023-03-05</td>\n",
       "      <td>14:48:10</td>\n",
       "      <td>Faster payment</td>\n",
       "      <td>John-Paul Akame</td>\n",
       "      <td>Transfers</td>\n",
       "      <td>1.35</td>\n",
       "      <td>GBP</td>\n",
       "      <td>Monzo-CQHKS</td>\n",
       "      <td>NaN</td>\n",
       "      <td>Monzo-CQHKS</td>\n",
       "      <td>NaN</td>\n",
       "      <td>1.35</td>\n",
       "    </tr>\n",
       "    <tr>\n",
       "      <th>1</th>\n",
       "      <td>2023-03-05</td>\n",
       "      <td>16:26:49</td>\n",
       "      <td>Card payment</td>\n",
       "      <td>Poundland</td>\n",
       "      <td>Groceries</td>\n",
       "      <td>-1.00</td>\n",
       "      <td>GBP</td>\n",
       "      <td>NaN</td>\n",
       "      <td>Wellgate Shopping Centre</td>\n",
       "      <td>POUNDLAND LTD          DUNDEE        GBR</td>\n",
       "      <td>-1.0</td>\n",
       "      <td>NaN</td>\n",
       "    </tr>\n",
       "    <tr>\n",
       "      <th>2</th>\n",
       "      <td>2023-03-06</td>\n",
       "      <td>13:27:11</td>\n",
       "      <td>Faster payment</td>\n",
       "      <td>J Akame</td>\n",
       "      <td>Transfers</td>\n",
       "      <td>1.00</td>\n",
       "      <td>GBP</td>\n",
       "      <td>Monzo-CMGZW</td>\n",
       "      <td>NaN</td>\n",
       "      <td>Monzo-CMGZW</td>\n",
       "      <td>NaN</td>\n",
       "      <td>1.00</td>\n",
       "    </tr>\n",
       "    <tr>\n",
       "      <th>3</th>\n",
       "      <td>2023-03-06</td>\n",
       "      <td>13:29:32</td>\n",
       "      <td>Faster payment</td>\n",
       "      <td>Linda Scott</td>\n",
       "      <td>Bills</td>\n",
       "      <td>-1.00</td>\n",
       "      <td>GBP</td>\n",
       "      <td>John</td>\n",
       "      <td>NaN</td>\n",
       "      <td>John</td>\n",
       "      <td>-1.0</td>\n",
       "      <td>NaN</td>\n",
       "    </tr>\n",
       "    <tr>\n",
       "      <th>4</th>\n",
       "      <td>2023-03-06</td>\n",
       "      <td>14:16:44</td>\n",
       "      <td>Faster payment</td>\n",
       "      <td>John-Paul Akame</td>\n",
       "      <td>Transfers</td>\n",
       "      <td>0.45</td>\n",
       "      <td>GBP</td>\n",
       "      <td>Monzo-SJYLS</td>\n",
       "      <td>NaN</td>\n",
       "      <td>Monzo-SJYLS</td>\n",
       "      <td>NaN</td>\n",
       "      <td>0.45</td>\n",
       "    </tr>\n",
       "  </tbody>\n",
       "</table>\n",
       "</div>"
      ],
      "text/plain": [
       "        Date      Time            Type             Name   Category  Amount  \\\n",
       "0 2023-03-05  14:48:10  Faster payment  John-Paul Akame  Transfers    1.35   \n",
       "1 2023-03-05  16:26:49    Card payment        Poundland  Groceries   -1.00   \n",
       "2 2023-03-06  13:27:11  Faster payment          J Akame  Transfers    1.00   \n",
       "3 2023-03-06  13:29:32  Faster payment      Linda Scott      Bills   -1.00   \n",
       "4 2023-03-06  14:16:44  Faster payment  John-Paul Akame  Transfers    0.45   \n",
       "\n",
       "  Currency Notes and #tags                   Address  \\\n",
       "0      GBP     Monzo-CQHKS                       NaN   \n",
       "1      GBP             NaN  Wellgate Shopping Centre   \n",
       "2      GBP     Monzo-CMGZW                       NaN   \n",
       "3      GBP            John                       NaN   \n",
       "4      GBP     Monzo-SJYLS                       NaN   \n",
       "\n",
       "                                Description  Money Out  Money In  \n",
       "0                               Monzo-CQHKS        NaN      1.35  \n",
       "1  POUNDLAND LTD          DUNDEE        GBR       -1.0       NaN  \n",
       "2                               Monzo-CMGZW        NaN      1.00  \n",
       "3                                      John       -1.0       NaN  \n",
       "4                               Monzo-SJYLS        NaN      0.45  "
      ]
     },
     "execution_count": 119,
     "metadata": {},
     "output_type": "execute_result"
    }
   ],
   "source": [
    "data.Time = data.Time.dt.time\n",
    "data.head()"
   ]
  },
  {
   "cell_type": "code",
   "execution_count": 120,
   "id": "41e96d2a-4324-46d3-85f6-3c9ae4177a68",
   "metadata": {},
   "outputs": [
    {
     "data": {
      "text/html": [
       "<div>\n",
       "<style scoped>\n",
       "    .dataframe tbody tr th:only-of-type {\n",
       "        vertical-align: middle;\n",
       "    }\n",
       "\n",
       "    .dataframe tbody tr th {\n",
       "        vertical-align: top;\n",
       "    }\n",
       "\n",
       "    .dataframe thead th {\n",
       "        text-align: right;\n",
       "    }\n",
       "</style>\n",
       "<table border=\"1\" class=\"dataframe\">\n",
       "  <thead>\n",
       "    <tr style=\"text-align: right;\">\n",
       "      <th></th>\n",
       "      <th>Date</th>\n",
       "      <th>Time</th>\n",
       "      <th>Type</th>\n",
       "      <th>Name</th>\n",
       "      <th>Category</th>\n",
       "      <th>Amount</th>\n",
       "      <th>Currency</th>\n",
       "      <th>Notes and #tags</th>\n",
       "      <th>Address</th>\n",
       "      <th>Description</th>\n",
       "      <th>Money Out</th>\n",
       "      <th>Money In</th>\n",
       "    </tr>\n",
       "  </thead>\n",
       "  <tbody>\n",
       "    <tr>\n",
       "      <th>0</th>\n",
       "      <td>2023-03-05</td>\n",
       "      <td>14:48:10</td>\n",
       "      <td>Faster payment</td>\n",
       "      <td>John-Paul Akame</td>\n",
       "      <td>Transfers</td>\n",
       "      <td>1.35</td>\n",
       "      <td>GBP</td>\n",
       "      <td>Monzo-CQHKS</td>\n",
       "      <td>NaN</td>\n",
       "      <td>Monzo-CQHKS</td>\n",
       "      <td>NaN</td>\n",
       "      <td>1.35</td>\n",
       "    </tr>\n",
       "    <tr>\n",
       "      <th>1</th>\n",
       "      <td>2023-03-05</td>\n",
       "      <td>16:26:49</td>\n",
       "      <td>Card payment</td>\n",
       "      <td>Poundland</td>\n",
       "      <td>Groceries</td>\n",
       "      <td>-1.00</td>\n",
       "      <td>GBP</td>\n",
       "      <td>NaN</td>\n",
       "      <td>Wellgate Shopping Centre</td>\n",
       "      <td>POUNDLAND LTD          DUNDEE        GBR</td>\n",
       "      <td>1.0</td>\n",
       "      <td>NaN</td>\n",
       "    </tr>\n",
       "    <tr>\n",
       "      <th>2</th>\n",
       "      <td>2023-03-06</td>\n",
       "      <td>13:27:11</td>\n",
       "      <td>Faster payment</td>\n",
       "      <td>J Akame</td>\n",
       "      <td>Transfers</td>\n",
       "      <td>1.00</td>\n",
       "      <td>GBP</td>\n",
       "      <td>Monzo-CMGZW</td>\n",
       "      <td>NaN</td>\n",
       "      <td>Monzo-CMGZW</td>\n",
       "      <td>NaN</td>\n",
       "      <td>1.00</td>\n",
       "    </tr>\n",
       "    <tr>\n",
       "      <th>3</th>\n",
       "      <td>2023-03-06</td>\n",
       "      <td>13:29:32</td>\n",
       "      <td>Faster payment</td>\n",
       "      <td>Linda Scott</td>\n",
       "      <td>Bills</td>\n",
       "      <td>-1.00</td>\n",
       "      <td>GBP</td>\n",
       "      <td>John</td>\n",
       "      <td>NaN</td>\n",
       "      <td>John</td>\n",
       "      <td>1.0</td>\n",
       "      <td>NaN</td>\n",
       "    </tr>\n",
       "    <tr>\n",
       "      <th>4</th>\n",
       "      <td>2023-03-06</td>\n",
       "      <td>14:16:44</td>\n",
       "      <td>Faster payment</td>\n",
       "      <td>John-Paul Akame</td>\n",
       "      <td>Transfers</td>\n",
       "      <td>0.45</td>\n",
       "      <td>GBP</td>\n",
       "      <td>Monzo-SJYLS</td>\n",
       "      <td>NaN</td>\n",
       "      <td>Monzo-SJYLS</td>\n",
       "      <td>NaN</td>\n",
       "      <td>0.45</td>\n",
       "    </tr>\n",
       "  </tbody>\n",
       "</table>\n",
       "</div>"
      ],
      "text/plain": [
       "        Date      Time            Type             Name   Category  Amount  \\\n",
       "0 2023-03-05  14:48:10  Faster payment  John-Paul Akame  Transfers    1.35   \n",
       "1 2023-03-05  16:26:49    Card payment        Poundland  Groceries   -1.00   \n",
       "2 2023-03-06  13:27:11  Faster payment          J Akame  Transfers    1.00   \n",
       "3 2023-03-06  13:29:32  Faster payment      Linda Scott      Bills   -1.00   \n",
       "4 2023-03-06  14:16:44  Faster payment  John-Paul Akame  Transfers    0.45   \n",
       "\n",
       "  Currency Notes and #tags                   Address  \\\n",
       "0      GBP     Monzo-CQHKS                       NaN   \n",
       "1      GBP             NaN  Wellgate Shopping Centre   \n",
       "2      GBP     Monzo-CMGZW                       NaN   \n",
       "3      GBP            John                       NaN   \n",
       "4      GBP     Monzo-SJYLS                       NaN   \n",
       "\n",
       "                                Description  Money Out  Money In  \n",
       "0                               Monzo-CQHKS        NaN      1.35  \n",
       "1  POUNDLAND LTD          DUNDEE        GBR        1.0       NaN  \n",
       "2                               Monzo-CMGZW        NaN      1.00  \n",
       "3                                      John        1.0       NaN  \n",
       "4                               Monzo-SJYLS        NaN      0.45  "
      ]
     },
     "execution_count": 120,
     "metadata": {},
     "output_type": "execute_result"
    }
   ],
   "source": [
    "# Multiply the column by -1 to remove the negativity of the values in the column\n",
    "data['Money Out'] = data['Money Out'] * -1\n",
    "\n",
    "data.head()"
   ]
  },
  {
   "cell_type": "markdown",
   "id": "2cef0ca3-6e83-408d-88d9-c3669bc178b3",
   "metadata": {},
   "source": [
    "I will now handle the columns that have null values and missing data"
   ]
  },
  {
   "cell_type": "code",
   "execution_count": 121,
   "id": "f60ec4ae-9a19-4429-a5c3-1e4e97d3782d",
   "metadata": {},
   "outputs": [
    {
     "name": "stdout",
     "output_type": "stream",
     "text": [
      "Date                  0\n",
      "Time                  0\n",
      "Type                  0\n",
      "Name                 84\n",
      "Category              0\n",
      "Amount                0\n",
      "Currency              0\n",
      "Notes and #tags    2016\n",
      "Address            2772\n",
      "Description        1398\n",
      "Money Out          1265\n",
      "Money In           2160\n",
      "dtype: int64\n"
     ]
    }
   ],
   "source": [
    "print(data.isnull().sum())"
   ]
  },
  {
   "cell_type": "markdown",
   "id": "a839f368-cc37-480f-a922-16a070fd2c1a",
   "metadata": {},
   "source": [
    "The Notes and #tags, Address, Description, Money Out, and Money In columns have null values in them. Based on what I understand, some types of transactions do not have any notes and #tags whilst others have e.g. transfers and faster payments. Looking at it now, this column doesn't add that much information to the analysis. The column seems to serve as an adjective for the Description column. I can remove the column but, I will choose to leave it as it is since it might offer some insights into my spending habits no matter how small.\n",
    "\n",
    "Like the description column, some types of transactions do not come with location data. It seems to be only card payments that come with location data. I will replace all null values in the Address column with 'Phone' as this was most likely where the transaction was carried out. \n",
    "\n",
    "I will convert the null values in the money in and money out columns to 0"
   ]
  },
  {
   "cell_type": "markdown",
   "id": "df396767-63e3-4ab3-8018-54a5b4a82e06",
   "metadata": {},
   "source": [
    "#### Handling missing data and null values"
   ]
  },
  {
   "cell_type": "markdown",
   "id": "10ca27ef-1515-4da0-8e69-ce0bebb18b12",
   "metadata": {},
   "source": [
    "Since description is like the reference included in transactions, I want to see if the null values in the Description column are related to the Type of transaction that occurred"
   ]
  },
  {
   "cell_type": "code",
   "execution_count": 122,
   "id": "5c11fc13-afcc-4c09-be66-a4a71ba10a38",
   "metadata": {},
   "outputs": [
    {
     "data": {
      "text/plain": [
       "['Pot transfer', 'Monzo-to-Monzo']\n",
       "Categories (8, object): ['Bacs (Direct Credit)', 'Card payment', 'Direct Debit', 'Faster payment', 'Flex', 'Monzo-to-Monzo', 'Pot transfer', 'rewards']"
      ]
     },
     "execution_count": 122,
     "metadata": {},
     "output_type": "execute_result"
    }
   ],
   "source": [
    "data[data['Description'].isnull()]['Type'].unique()"
   ]
  },
  {
   "cell_type": "code",
   "execution_count": 123,
   "id": "8edd50fd-2385-4d40-97d2-70aeb9a7c404",
   "metadata": {},
   "outputs": [
    {
     "data": {
      "text/html": [
       "<div>\n",
       "<style scoped>\n",
       "    .dataframe tbody tr th:only-of-type {\n",
       "        vertical-align: middle;\n",
       "    }\n",
       "\n",
       "    .dataframe tbody tr th {\n",
       "        vertical-align: top;\n",
       "    }\n",
       "\n",
       "    .dataframe thead th {\n",
       "        text-align: right;\n",
       "    }\n",
       "</style>\n",
       "<table border=\"1\" class=\"dataframe\">\n",
       "  <thead>\n",
       "    <tr style=\"text-align: right;\">\n",
       "      <th></th>\n",
       "      <th>Date</th>\n",
       "      <th>Time</th>\n",
       "      <th>Type</th>\n",
       "      <th>Name</th>\n",
       "      <th>Category</th>\n",
       "      <th>Amount</th>\n",
       "      <th>Currency</th>\n",
       "      <th>Notes and #tags</th>\n",
       "      <th>Address</th>\n",
       "      <th>Description</th>\n",
       "      <th>Money Out</th>\n",
       "      <th>Money In</th>\n",
       "    </tr>\n",
       "  </thead>\n",
       "  <tbody>\n",
       "    <tr>\n",
       "      <th>240</th>\n",
       "      <td>2023-06-13</td>\n",
       "      <td>06:26:09</td>\n",
       "      <td>Monzo-to-Monzo</td>\n",
       "      <td>Temitayo Oniyelu</td>\n",
       "      <td>Gifts</td>\n",
       "      <td>-8.3</td>\n",
       "      <td>GBP</td>\n",
       "      <td>Wednesday</td>\n",
       "      <td>NaN</td>\n",
       "      <td>NaN</td>\n",
       "      <td>8.3</td>\n",
       "      <td>NaN</td>\n",
       "    </tr>\n",
       "    <tr>\n",
       "      <th>749</th>\n",
       "      <td>2023-08-29</td>\n",
       "      <td>07:53:33</td>\n",
       "      <td>Monzo-to-Monzo</td>\n",
       "      <td>Reign-El Mukoro</td>\n",
       "      <td>Gifts</td>\n",
       "      <td>-5.0</td>\n",
       "      <td>GBP</td>\n",
       "      <td>JP</td>\n",
       "      <td>NaN</td>\n",
       "      <td>NaN</td>\n",
       "      <td>5.0</td>\n",
       "      <td>NaN</td>\n",
       "    </tr>\n",
       "    <tr>\n",
       "      <th>767</th>\n",
       "      <td>2023-09-01</td>\n",
       "      <td>03:43:34</td>\n",
       "      <td>Monzo-to-Monzo</td>\n",
       "      <td>Temitayo Oniyelu</td>\n",
       "      <td>Finances</td>\n",
       "      <td>-10.0</td>\n",
       "      <td>GBP</td>\n",
       "      <td>Repaid the £10 I borrowed</td>\n",
       "      <td>NaN</td>\n",
       "      <td>NaN</td>\n",
       "      <td>10.0</td>\n",
       "      <td>NaN</td>\n",
       "    </tr>\n",
       "    <tr>\n",
       "      <th>884</th>\n",
       "      <td>2023-09-14</td>\n",
       "      <td>16:46:25</td>\n",
       "      <td>Monzo-to-Monzo</td>\n",
       "      <td>Temitayo Oniyelu</td>\n",
       "      <td>Shopping</td>\n",
       "      <td>-0.5</td>\n",
       "      <td>GBP</td>\n",
       "      <td>Money for slippers</td>\n",
       "      <td>NaN</td>\n",
       "      <td>NaN</td>\n",
       "      <td>0.5</td>\n",
       "      <td>NaN</td>\n",
       "    </tr>\n",
       "    <tr>\n",
       "      <th>908</th>\n",
       "      <td>2023-09-19</td>\n",
       "      <td>09:53:27</td>\n",
       "      <td>Monzo-to-Monzo</td>\n",
       "      <td>Temitayo Oniyelu</td>\n",
       "      <td>Expenses</td>\n",
       "      <td>-20.0</td>\n",
       "      <td>GBP</td>\n",
       "      <td>Refunded the borrowed money from Tayo for goin...</td>\n",
       "      <td>NaN</td>\n",
       "      <td>NaN</td>\n",
       "      <td>20.0</td>\n",
       "      <td>NaN</td>\n",
       "    </tr>\n",
       "    <tr>\n",
       "      <th>1637</th>\n",
       "      <td>2024-03-06</td>\n",
       "      <td>16:49:00</td>\n",
       "      <td>Monzo-to-Monzo</td>\n",
       "      <td>Temitayo Oniyelu</td>\n",
       "      <td>Expenses</td>\n",
       "      <td>-15.0</td>\n",
       "      <td>GBP</td>\n",
       "      <td>The money I borrowed to give mum and used to b...</td>\n",
       "      <td>NaN</td>\n",
       "      <td>NaN</td>\n",
       "      <td>15.0</td>\n",
       "      <td>NaN</td>\n",
       "    </tr>\n",
       "    <tr>\n",
       "      <th>2101</th>\n",
       "      <td>2024-06-27</td>\n",
       "      <td>10:36:50</td>\n",
       "      <td>Monzo-to-Monzo</td>\n",
       "      <td>Ndugatuda Maxwell</td>\n",
       "      <td>Gifts</td>\n",
       "      <td>-10.0</td>\n",
       "      <td>GBP</td>\n",
       "      <td>John-Paul Akame</td>\n",
       "      <td>NaN</td>\n",
       "      <td>NaN</td>\n",
       "      <td>10.0</td>\n",
       "      <td>NaN</td>\n",
       "    </tr>\n",
       "    <tr>\n",
       "      <th>2146</th>\n",
       "      <td>2024-07-04</td>\n",
       "      <td>16:15:19</td>\n",
       "      <td>Monzo-to-Monzo</td>\n",
       "      <td>Oluwatoyin Akinjiola</td>\n",
       "      <td>Finances</td>\n",
       "      <td>-2.0</td>\n",
       "      <td>GBP</td>\n",
       "      <td>NaN</td>\n",
       "      <td>NaN</td>\n",
       "      <td>NaN</td>\n",
       "      <td>2.0</td>\n",
       "      <td>NaN</td>\n",
       "    </tr>\n",
       "    <tr>\n",
       "      <th>2170</th>\n",
       "      <td>2024-07-13</td>\n",
       "      <td>16:12:13</td>\n",
       "      <td>Monzo-to-Monzo</td>\n",
       "      <td>Bidemi Abe</td>\n",
       "      <td>Gifts</td>\n",
       "      <td>-10.0</td>\n",
       "      <td>GBP</td>\n",
       "      <td>Pastor Tim</td>\n",
       "      <td>NaN</td>\n",
       "      <td>NaN</td>\n",
       "      <td>10.0</td>\n",
       "      <td>NaN</td>\n",
       "    </tr>\n",
       "  </tbody>\n",
       "</table>\n",
       "</div>"
      ],
      "text/plain": [
       "           Date      Time            Type                  Name  Category  \\\n",
       "240  2023-06-13  06:26:09  Monzo-to-Monzo      Temitayo Oniyelu     Gifts   \n",
       "749  2023-08-29  07:53:33  Monzo-to-Monzo       Reign-El Mukoro     Gifts   \n",
       "767  2023-09-01  03:43:34  Monzo-to-Monzo      Temitayo Oniyelu  Finances   \n",
       "884  2023-09-14  16:46:25  Monzo-to-Monzo      Temitayo Oniyelu  Shopping   \n",
       "908  2023-09-19  09:53:27  Monzo-to-Monzo      Temitayo Oniyelu  Expenses   \n",
       "1637 2024-03-06  16:49:00  Monzo-to-Monzo      Temitayo Oniyelu  Expenses   \n",
       "2101 2024-06-27  10:36:50  Monzo-to-Monzo     Ndugatuda Maxwell     Gifts   \n",
       "2146 2024-07-04  16:15:19  Monzo-to-Monzo  Oluwatoyin Akinjiola  Finances   \n",
       "2170 2024-07-13  16:12:13  Monzo-to-Monzo            Bidemi Abe     Gifts   \n",
       "\n",
       "      Amount Currency                                    Notes and #tags  \\\n",
       "240     -8.3      GBP                                          Wednesday   \n",
       "749     -5.0      GBP                                                 JP   \n",
       "767    -10.0      GBP                         Repaid the £10 I borrowed    \n",
       "884     -0.5      GBP                                Money for slippers    \n",
       "908    -20.0      GBP  Refunded the borrowed money from Tayo for goin...   \n",
       "1637   -15.0      GBP  The money I borrowed to give mum and used to b...   \n",
       "2101   -10.0      GBP                                    John-Paul Akame   \n",
       "2146    -2.0      GBP                                                NaN   \n",
       "2170   -10.0      GBP                                         Pastor Tim   \n",
       "\n",
       "     Address Description  Money Out  Money In  \n",
       "240      NaN         NaN        8.3       NaN  \n",
       "749      NaN         NaN        5.0       NaN  \n",
       "767      NaN         NaN       10.0       NaN  \n",
       "884      NaN         NaN        0.5       NaN  \n",
       "908      NaN         NaN       20.0       NaN  \n",
       "1637     NaN         NaN       15.0       NaN  \n",
       "2101     NaN         NaN       10.0       NaN  \n",
       "2146     NaN         NaN        2.0       NaN  \n",
       "2170     NaN         NaN       10.0       NaN  "
      ]
     },
     "execution_count": 123,
     "metadata": {},
     "output_type": "execute_result"
    }
   ],
   "source": [
    "data[data.Type=='Monzo-to-Monzo']"
   ]
  },
  {
   "cell_type": "markdown",
   "id": "eb708549-ed3f-4794-af2b-b52ac6cf9285",
   "metadata": {},
   "source": [
    "From the above, I can see that two unique types of transactions do not have a description: pot transfers and monzo-to-monzo transfers. I will fill the null values in their respective description column with the transaction type."
   ]
  },
  {
   "cell_type": "code",
   "execution_count": 124,
   "id": "952ada60-3985-446a-937a-0624b9c3ce48",
   "metadata": {},
   "outputs": [],
   "source": [
    "# Fills the null values of the dataframe slice with a string and assigns the result back to the dataframe slice\n",
    "data.loc[data.Type=='Monzo-to-Monzo', 'Description'] = data.loc[data.Type=='Monzo-to-Monzo', 'Description'].fillna('Monzo-to-Monzo')\n",
    "data.loc[data.Type=='Pot transfer', 'Description'] = data.loc[data.Type=='Pot transfer', 'Description'].fillna('Pot transfer')"
   ]
  },
  {
   "cell_type": "markdown",
   "id": "e552cb22-7e0b-4cba-a657-7654b1a4868c",
   "metadata": {},
   "source": [
    "I will replace the null values in the money out and money in columns to 0. I will also change the null values of the Address column to 'Mobile Phone', as these transactions were not card payments and happened through the bank app."
   ]
  },
  {
   "cell_type": "code",
   "execution_count": 125,
   "id": "7d0399d6-4eff-49d7-a64a-bb87dac6a3cc",
   "metadata": {},
   "outputs": [
    {
     "data": {
      "text/html": [
       "<div>\n",
       "<style scoped>\n",
       "    .dataframe tbody tr th:only-of-type {\n",
       "        vertical-align: middle;\n",
       "    }\n",
       "\n",
       "    .dataframe tbody tr th {\n",
       "        vertical-align: top;\n",
       "    }\n",
       "\n",
       "    .dataframe thead th {\n",
       "        text-align: right;\n",
       "    }\n",
       "</style>\n",
       "<table border=\"1\" class=\"dataframe\">\n",
       "  <thead>\n",
       "    <tr style=\"text-align: right;\">\n",
       "      <th></th>\n",
       "      <th>Date</th>\n",
       "      <th>Time</th>\n",
       "      <th>Type</th>\n",
       "      <th>Name</th>\n",
       "      <th>Category</th>\n",
       "      <th>Amount</th>\n",
       "      <th>Currency</th>\n",
       "      <th>Notes and #tags</th>\n",
       "      <th>Address</th>\n",
       "      <th>Description</th>\n",
       "      <th>Money Out</th>\n",
       "      <th>Money In</th>\n",
       "    </tr>\n",
       "  </thead>\n",
       "  <tbody>\n",
       "    <tr>\n",
       "      <th>0</th>\n",
       "      <td>2023-03-05</td>\n",
       "      <td>14:48:10</td>\n",
       "      <td>Faster payment</td>\n",
       "      <td>John-Paul Akame</td>\n",
       "      <td>Transfers</td>\n",
       "      <td>1.35</td>\n",
       "      <td>GBP</td>\n",
       "      <td>Monzo-CQHKS</td>\n",
       "      <td>Mobile Phone</td>\n",
       "      <td>Monzo-CQHKS</td>\n",
       "      <td>0.0</td>\n",
       "      <td>1.35</td>\n",
       "    </tr>\n",
       "    <tr>\n",
       "      <th>1</th>\n",
       "      <td>2023-03-05</td>\n",
       "      <td>16:26:49</td>\n",
       "      <td>Card payment</td>\n",
       "      <td>Poundland</td>\n",
       "      <td>Groceries</td>\n",
       "      <td>-1.00</td>\n",
       "      <td>GBP</td>\n",
       "      <td>NaN</td>\n",
       "      <td>Wellgate Shopping Centre</td>\n",
       "      <td>POUNDLAND LTD          DUNDEE        GBR</td>\n",
       "      <td>1.0</td>\n",
       "      <td>0.00</td>\n",
       "    </tr>\n",
       "    <tr>\n",
       "      <th>2</th>\n",
       "      <td>2023-03-06</td>\n",
       "      <td>13:27:11</td>\n",
       "      <td>Faster payment</td>\n",
       "      <td>J Akame</td>\n",
       "      <td>Transfers</td>\n",
       "      <td>1.00</td>\n",
       "      <td>GBP</td>\n",
       "      <td>Monzo-CMGZW</td>\n",
       "      <td>Mobile Phone</td>\n",
       "      <td>Monzo-CMGZW</td>\n",
       "      <td>0.0</td>\n",
       "      <td>1.00</td>\n",
       "    </tr>\n",
       "    <tr>\n",
       "      <th>3</th>\n",
       "      <td>2023-03-06</td>\n",
       "      <td>13:29:32</td>\n",
       "      <td>Faster payment</td>\n",
       "      <td>Linda Scott</td>\n",
       "      <td>Bills</td>\n",
       "      <td>-1.00</td>\n",
       "      <td>GBP</td>\n",
       "      <td>John</td>\n",
       "      <td>Mobile Phone</td>\n",
       "      <td>John</td>\n",
       "      <td>1.0</td>\n",
       "      <td>0.00</td>\n",
       "    </tr>\n",
       "    <tr>\n",
       "      <th>4</th>\n",
       "      <td>2023-03-06</td>\n",
       "      <td>14:16:44</td>\n",
       "      <td>Faster payment</td>\n",
       "      <td>John-Paul Akame</td>\n",
       "      <td>Transfers</td>\n",
       "      <td>0.45</td>\n",
       "      <td>GBP</td>\n",
       "      <td>Monzo-SJYLS</td>\n",
       "      <td>Mobile Phone</td>\n",
       "      <td>Monzo-SJYLS</td>\n",
       "      <td>0.0</td>\n",
       "      <td>0.45</td>\n",
       "    </tr>\n",
       "  </tbody>\n",
       "</table>\n",
       "</div>"
      ],
      "text/plain": [
       "        Date      Time            Type             Name   Category  Amount  \\\n",
       "0 2023-03-05  14:48:10  Faster payment  John-Paul Akame  Transfers    1.35   \n",
       "1 2023-03-05  16:26:49    Card payment        Poundland  Groceries   -1.00   \n",
       "2 2023-03-06  13:27:11  Faster payment          J Akame  Transfers    1.00   \n",
       "3 2023-03-06  13:29:32  Faster payment      Linda Scott      Bills   -1.00   \n",
       "4 2023-03-06  14:16:44  Faster payment  John-Paul Akame  Transfers    0.45   \n",
       "\n",
       "  Currency Notes and #tags                   Address  \\\n",
       "0      GBP     Monzo-CQHKS              Mobile Phone   \n",
       "1      GBP             NaN  Wellgate Shopping Centre   \n",
       "2      GBP     Monzo-CMGZW              Mobile Phone   \n",
       "3      GBP            John              Mobile Phone   \n",
       "4      GBP     Monzo-SJYLS              Mobile Phone   \n",
       "\n",
       "                                Description  Money Out  Money In  \n",
       "0                               Monzo-CQHKS        0.0      1.35  \n",
       "1  POUNDLAND LTD          DUNDEE        GBR        1.0      0.00  \n",
       "2                               Monzo-CMGZW        0.0      1.00  \n",
       "3                                      John        1.0      0.00  \n",
       "4                               Monzo-SJYLS        0.0      0.45  "
      ]
     },
     "execution_count": 125,
     "metadata": {},
     "output_type": "execute_result"
    }
   ],
   "source": [
    "data[['Money In', 'Money Out']] = data[['Money In', 'Money Out']].fillna(0)\n",
    "data.Address.fillna('Mobile Phone', inplace = True)\n",
    "data.head()"
   ]
  },
  {
   "cell_type": "code",
   "execution_count": 126,
   "id": "bc9b2168-5770-4ac7-bd05-93e3f0ed99e4",
   "metadata": {},
   "outputs": [
    {
     "data": {
      "text/html": [
       "<div>\n",
       "<style scoped>\n",
       "    .dataframe tbody tr th:only-of-type {\n",
       "        vertical-align: middle;\n",
       "    }\n",
       "\n",
       "    .dataframe tbody tr th {\n",
       "        vertical-align: top;\n",
       "    }\n",
       "\n",
       "    .dataframe thead th {\n",
       "        text-align: right;\n",
       "    }\n",
       "</style>\n",
       "<table border=\"1\" class=\"dataframe\">\n",
       "  <thead>\n",
       "    <tr style=\"text-align: right;\">\n",
       "      <th></th>\n",
       "      <th>Date</th>\n",
       "      <th>Time</th>\n",
       "      <th>Type</th>\n",
       "      <th>Name</th>\n",
       "      <th>Category</th>\n",
       "      <th>Amount</th>\n",
       "      <th>Currency</th>\n",
       "      <th>Notes and #tags</th>\n",
       "      <th>Address</th>\n",
       "      <th>Description</th>\n",
       "      <th>Money Out</th>\n",
       "      <th>Money In</th>\n",
       "    </tr>\n",
       "  </thead>\n",
       "  <tbody>\n",
       "    <tr>\n",
       "      <th>1612</th>\n",
       "      <td>2024-02-26</td>\n",
       "      <td>17:41:37</td>\n",
       "      <td>rewards</td>\n",
       "      <td>NaN</td>\n",
       "      <td>Income</td>\n",
       "      <td>0.33</td>\n",
       "      <td>GBP</td>\n",
       "      <td>NaN</td>\n",
       "      <td>Mobile Phone</td>\n",
       "      <td>Cashback</td>\n",
       "      <td>0.00</td>\n",
       "      <td>0.33</td>\n",
       "    </tr>\n",
       "    <tr>\n",
       "      <th>1827</th>\n",
       "      <td>2024-04-23</td>\n",
       "      <td>15:36:57</td>\n",
       "      <td>Flex</td>\n",
       "      <td>NaN</td>\n",
       "      <td>Transfers</td>\n",
       "      <td>-5.66</td>\n",
       "      <td>GBP</td>\n",
       "      <td>Extra payment</td>\n",
       "      <td>Mobile Phone</td>\n",
       "      <td>Flex</td>\n",
       "      <td>5.66</td>\n",
       "      <td>0.00</td>\n",
       "    </tr>\n",
       "    <tr>\n",
       "      <th>1834</th>\n",
       "      <td>2024-04-24</td>\n",
       "      <td>15:13:09</td>\n",
       "      <td>Flex</td>\n",
       "      <td>NaN</td>\n",
       "      <td>Transfers</td>\n",
       "      <td>-10.00</td>\n",
       "      <td>GBP</td>\n",
       "      <td>Extra payment</td>\n",
       "      <td>Mobile Phone</td>\n",
       "      <td>Flex</td>\n",
       "      <td>10.00</td>\n",
       "      <td>0.00</td>\n",
       "    </tr>\n",
       "    <tr>\n",
       "      <th>1835</th>\n",
       "      <td>2024-04-24</td>\n",
       "      <td>15:13:25</td>\n",
       "      <td>Flex</td>\n",
       "      <td>NaN</td>\n",
       "      <td>Transfers</td>\n",
       "      <td>-1.78</td>\n",
       "      <td>GBP</td>\n",
       "      <td>Early payment towards Lebara, Greggs</td>\n",
       "      <td>Mobile Phone</td>\n",
       "      <td>Flex</td>\n",
       "      <td>1.78</td>\n",
       "      <td>0.00</td>\n",
       "    </tr>\n",
       "    <tr>\n",
       "      <th>1842</th>\n",
       "      <td>2024-04-28</td>\n",
       "      <td>16:32:10</td>\n",
       "      <td>rewards</td>\n",
       "      <td>NaN</td>\n",
       "      <td>Income</td>\n",
       "      <td>0.78</td>\n",
       "      <td>GBP</td>\n",
       "      <td>NaN</td>\n",
       "      <td>Mobile Phone</td>\n",
       "      <td>Cashback</td>\n",
       "      <td>0.00</td>\n",
       "      <td>0.78</td>\n",
       "    </tr>\n",
       "    <tr>\n",
       "      <th>...</th>\n",
       "      <td>...</td>\n",
       "      <td>...</td>\n",
       "      <td>...</td>\n",
       "      <td>...</td>\n",
       "      <td>...</td>\n",
       "      <td>...</td>\n",
       "      <td>...</td>\n",
       "      <td>...</td>\n",
       "      <td>...</td>\n",
       "      <td>...</td>\n",
       "      <td>...</td>\n",
       "      <td>...</td>\n",
       "    </tr>\n",
       "    <tr>\n",
       "      <th>3399</th>\n",
       "      <td>2024-12-24</td>\n",
       "      <td>18:06:43</td>\n",
       "      <td>Flex</td>\n",
       "      <td>NaN</td>\n",
       "      <td>Transfers</td>\n",
       "      <td>-2.00</td>\n",
       "      <td>GBP</td>\n",
       "      <td>Early payment towards Aldi</td>\n",
       "      <td>Mobile Phone</td>\n",
       "      <td>Flex</td>\n",
       "      <td>2.00</td>\n",
       "      <td>0.00</td>\n",
       "    </tr>\n",
       "    <tr>\n",
       "      <th>3401</th>\n",
       "      <td>2024-12-24</td>\n",
       "      <td>18:10:03</td>\n",
       "      <td>Flex</td>\n",
       "      <td>NaN</td>\n",
       "      <td>Transfers</td>\n",
       "      <td>-9.85</td>\n",
       "      <td>GBP</td>\n",
       "      <td>Extra payment towards Aldi</td>\n",
       "      <td>Mobile Phone</td>\n",
       "      <td>Flex</td>\n",
       "      <td>9.85</td>\n",
       "      <td>0.00</td>\n",
       "    </tr>\n",
       "    <tr>\n",
       "      <th>3402</th>\n",
       "      <td>2024-12-24</td>\n",
       "      <td>18:10:20</td>\n",
       "      <td>Flex</td>\n",
       "      <td>NaN</td>\n",
       "      <td>Transfers</td>\n",
       "      <td>-4.00</td>\n",
       "      <td>GBP</td>\n",
       "      <td>Extra payment towards Tesco</td>\n",
       "      <td>Mobile Phone</td>\n",
       "      <td>Flex</td>\n",
       "      <td>4.00</td>\n",
       "      <td>0.00</td>\n",
       "    </tr>\n",
       "    <tr>\n",
       "      <th>3403</th>\n",
       "      <td>2024-12-24</td>\n",
       "      <td>18:10:39</td>\n",
       "      <td>Flex</td>\n",
       "      <td>NaN</td>\n",
       "      <td>Transfers</td>\n",
       "      <td>-4.00</td>\n",
       "      <td>GBP</td>\n",
       "      <td>Extra payment towards Xplore Dundee</td>\n",
       "      <td>Mobile Phone</td>\n",
       "      <td>Flex</td>\n",
       "      <td>4.00</td>\n",
       "      <td>0.00</td>\n",
       "    </tr>\n",
       "    <tr>\n",
       "      <th>3404</th>\n",
       "      <td>2024-12-24</td>\n",
       "      <td>18:11:07</td>\n",
       "      <td>Flex</td>\n",
       "      <td>NaN</td>\n",
       "      <td>Transfers</td>\n",
       "      <td>-2.55</td>\n",
       "      <td>GBP</td>\n",
       "      <td>Extra payment towards Tesco</td>\n",
       "      <td>Mobile Phone</td>\n",
       "      <td>Flex</td>\n",
       "      <td>2.55</td>\n",
       "      <td>0.00</td>\n",
       "    </tr>\n",
       "  </tbody>\n",
       "</table>\n",
       "<p>84 rows × 12 columns</p>\n",
       "</div>"
      ],
      "text/plain": [
       "           Date      Time     Type Name   Category  Amount Currency  \\\n",
       "1612 2024-02-26  17:41:37  rewards  NaN     Income    0.33      GBP   \n",
       "1827 2024-04-23  15:36:57     Flex  NaN  Transfers   -5.66      GBP   \n",
       "1834 2024-04-24  15:13:09     Flex  NaN  Transfers  -10.00      GBP   \n",
       "1835 2024-04-24  15:13:25     Flex  NaN  Transfers   -1.78      GBP   \n",
       "1842 2024-04-28  16:32:10  rewards  NaN     Income    0.78      GBP   \n",
       "...         ...       ...      ...  ...        ...     ...      ...   \n",
       "3399 2024-12-24  18:06:43     Flex  NaN  Transfers   -2.00      GBP   \n",
       "3401 2024-12-24  18:10:03     Flex  NaN  Transfers   -9.85      GBP   \n",
       "3402 2024-12-24  18:10:20     Flex  NaN  Transfers   -4.00      GBP   \n",
       "3403 2024-12-24  18:10:39     Flex  NaN  Transfers   -4.00      GBP   \n",
       "3404 2024-12-24  18:11:07     Flex  NaN  Transfers   -2.55      GBP   \n",
       "\n",
       "                           Notes and #tags       Address Description  \\\n",
       "1612                                   NaN  Mobile Phone    Cashback   \n",
       "1827                         Extra payment  Mobile Phone        Flex   \n",
       "1834                         Extra payment  Mobile Phone        Flex   \n",
       "1835  Early payment towards Lebara, Greggs  Mobile Phone        Flex   \n",
       "1842                                   NaN  Mobile Phone    Cashback   \n",
       "...                                    ...           ...         ...   \n",
       "3399            Early payment towards Aldi  Mobile Phone        Flex   \n",
       "3401            Extra payment towards Aldi  Mobile Phone        Flex   \n",
       "3402           Extra payment towards Tesco  Mobile Phone        Flex   \n",
       "3403  Extra payment towards Xplore Dundee   Mobile Phone        Flex   \n",
       "3404           Extra payment towards Tesco  Mobile Phone        Flex   \n",
       "\n",
       "      Money Out  Money In  \n",
       "1612       0.00      0.33  \n",
       "1827       5.66      0.00  \n",
       "1834      10.00      0.00  \n",
       "1835       1.78      0.00  \n",
       "1842       0.00      0.78  \n",
       "...         ...       ...  \n",
       "3399       2.00      0.00  \n",
       "3401       9.85      0.00  \n",
       "3402       4.00      0.00  \n",
       "3403       4.00      0.00  \n",
       "3404       2.55      0.00  \n",
       "\n",
       "[84 rows x 12 columns]"
      ]
     },
     "execution_count": 126,
     "metadata": {},
     "output_type": "execute_result"
    }
   ],
   "source": [
    "data.loc[data['Name'].isnull()]"
   ]
  },
  {
   "cell_type": "code",
   "execution_count": 127,
   "id": "b5c09879-89de-44da-8e24-381083cbbca4",
   "metadata": {},
   "outputs": [
    {
     "data": {
      "text/html": [
       "<div>\n",
       "<style scoped>\n",
       "    .dataframe tbody tr th:only-of-type {\n",
       "        vertical-align: middle;\n",
       "    }\n",
       "\n",
       "    .dataframe tbody tr th {\n",
       "        vertical-align: top;\n",
       "    }\n",
       "\n",
       "    .dataframe thead th {\n",
       "        text-align: right;\n",
       "    }\n",
       "</style>\n",
       "<table border=\"1\" class=\"dataframe\">\n",
       "  <thead>\n",
       "    <tr style=\"text-align: right;\">\n",
       "      <th></th>\n",
       "      <th>Date</th>\n",
       "      <th>Time</th>\n",
       "      <th>Type</th>\n",
       "      <th>Name</th>\n",
       "      <th>Category</th>\n",
       "      <th>Amount</th>\n",
       "      <th>Currency</th>\n",
       "      <th>Notes and #tags</th>\n",
       "      <th>Address</th>\n",
       "      <th>Description</th>\n",
       "      <th>Money Out</th>\n",
       "      <th>Money In</th>\n",
       "    </tr>\n",
       "  </thead>\n",
       "  <tbody>\n",
       "    <tr>\n",
       "      <th>1612</th>\n",
       "      <td>2024-02-26</td>\n",
       "      <td>17:41:37</td>\n",
       "      <td>rewards</td>\n",
       "      <td>Cashback</td>\n",
       "      <td>Income</td>\n",
       "      <td>0.33</td>\n",
       "      <td>GBP</td>\n",
       "      <td>NaN</td>\n",
       "      <td>Mobile Phone</td>\n",
       "      <td>Cashback</td>\n",
       "      <td>0.0</td>\n",
       "      <td>0.33</td>\n",
       "    </tr>\n",
       "    <tr>\n",
       "      <th>1842</th>\n",
       "      <td>2024-04-28</td>\n",
       "      <td>16:32:10</td>\n",
       "      <td>rewards</td>\n",
       "      <td>Cashback</td>\n",
       "      <td>Income</td>\n",
       "      <td>0.78</td>\n",
       "      <td>GBP</td>\n",
       "      <td>NaN</td>\n",
       "      <td>Mobile Phone</td>\n",
       "      <td>Cashback</td>\n",
       "      <td>0.0</td>\n",
       "      <td>0.78</td>\n",
       "    </tr>\n",
       "    <tr>\n",
       "      <th>1970</th>\n",
       "      <td>2024-05-31</td>\n",
       "      <td>15:34:30</td>\n",
       "      <td>rewards</td>\n",
       "      <td>Cashback</td>\n",
       "      <td>Income</td>\n",
       "      <td>0.05</td>\n",
       "      <td>GBP</td>\n",
       "      <td>NaN</td>\n",
       "      <td>Mobile Phone</td>\n",
       "      <td>Cashback</td>\n",
       "      <td>0.0</td>\n",
       "      <td>0.05</td>\n",
       "    </tr>\n",
       "    <tr>\n",
       "      <th>2050</th>\n",
       "      <td>2024-06-14</td>\n",
       "      <td>17:09:50</td>\n",
       "      <td>rewards</td>\n",
       "      <td>Cashback</td>\n",
       "      <td>Income</td>\n",
       "      <td>0.24</td>\n",
       "      <td>GBP</td>\n",
       "      <td>NaN</td>\n",
       "      <td>Mobile Phone</td>\n",
       "      <td>Cashback</td>\n",
       "      <td>0.0</td>\n",
       "      <td>0.24</td>\n",
       "    </tr>\n",
       "    <tr>\n",
       "      <th>2626</th>\n",
       "      <td>2024-09-19</td>\n",
       "      <td>20:52:49</td>\n",
       "      <td>rewards</td>\n",
       "      <td>Cashback</td>\n",
       "      <td>Income</td>\n",
       "      <td>0.17</td>\n",
       "      <td>GBP</td>\n",
       "      <td>NaN</td>\n",
       "      <td>Mobile Phone</td>\n",
       "      <td>Cashback</td>\n",
       "      <td>0.0</td>\n",
       "      <td>0.17</td>\n",
       "    </tr>\n",
       "    <tr>\n",
       "      <th>2876</th>\n",
       "      <td>2024-10-16</td>\n",
       "      <td>05:13:18</td>\n",
       "      <td>rewards</td>\n",
       "      <td>Cashback</td>\n",
       "      <td>Income</td>\n",
       "      <td>0.01</td>\n",
       "      <td>GBP</td>\n",
       "      <td>NaN</td>\n",
       "      <td>Mobile Phone</td>\n",
       "      <td>Cashback</td>\n",
       "      <td>0.0</td>\n",
       "      <td>0.01</td>\n",
       "    </tr>\n",
       "    <tr>\n",
       "      <th>2883</th>\n",
       "      <td>2024-10-16</td>\n",
       "      <td>13:24:12</td>\n",
       "      <td>rewards</td>\n",
       "      <td>Cashback</td>\n",
       "      <td>Income</td>\n",
       "      <td>0.21</td>\n",
       "      <td>GBP</td>\n",
       "      <td>NaN</td>\n",
       "      <td>Mobile Phone</td>\n",
       "      <td>Cashback</td>\n",
       "      <td>0.0</td>\n",
       "      <td>0.21</td>\n",
       "    </tr>\n",
       "    <tr>\n",
       "      <th>3301</th>\n",
       "      <td>2024-12-12</td>\n",
       "      <td>20:12:35</td>\n",
       "      <td>rewards</td>\n",
       "      <td>Cashback</td>\n",
       "      <td>Income</td>\n",
       "      <td>0.11</td>\n",
       "      <td>GBP</td>\n",
       "      <td>NaN</td>\n",
       "      <td>Mobile Phone</td>\n",
       "      <td>Cashback</td>\n",
       "      <td>0.0</td>\n",
       "      <td>0.11</td>\n",
       "    </tr>\n",
       "  </tbody>\n",
       "</table>\n",
       "</div>"
      ],
      "text/plain": [
       "           Date      Time     Type      Name Category  Amount Currency  \\\n",
       "1612 2024-02-26  17:41:37  rewards  Cashback   Income    0.33      GBP   \n",
       "1842 2024-04-28  16:32:10  rewards  Cashback   Income    0.78      GBP   \n",
       "1970 2024-05-31  15:34:30  rewards  Cashback   Income    0.05      GBP   \n",
       "2050 2024-06-14  17:09:50  rewards  Cashback   Income    0.24      GBP   \n",
       "2626 2024-09-19  20:52:49  rewards  Cashback   Income    0.17      GBP   \n",
       "2876 2024-10-16  05:13:18  rewards  Cashback   Income    0.01      GBP   \n",
       "2883 2024-10-16  13:24:12  rewards  Cashback   Income    0.21      GBP   \n",
       "3301 2024-12-12  20:12:35  rewards  Cashback   Income    0.11      GBP   \n",
       "\n",
       "     Notes and #tags       Address Description  Money Out  Money In  \n",
       "1612             NaN  Mobile Phone    Cashback        0.0      0.33  \n",
       "1842             NaN  Mobile Phone    Cashback        0.0      0.78  \n",
       "1970             NaN  Mobile Phone    Cashback        0.0      0.05  \n",
       "2050             NaN  Mobile Phone    Cashback        0.0      0.24  \n",
       "2626             NaN  Mobile Phone    Cashback        0.0      0.17  \n",
       "2876             NaN  Mobile Phone    Cashback        0.0      0.01  \n",
       "2883             NaN  Mobile Phone    Cashback        0.0      0.21  \n",
       "3301             NaN  Mobile Phone    Cashback        0.0      0.11  "
      ]
     },
     "execution_count": 127,
     "metadata": {},
     "output_type": "execute_result"
    }
   ],
   "source": [
    "data.loc[data['Type'] == 'rewards', 'Name'] = data.loc[data['Type'] == 'rewards', 'Name'].fillna('Cashback')\n",
    "data.loc[data['Type'] == 'Flex', 'Name'] = data.loc[data['Type'] == 'Flex', 'Name'].fillna('Credit card')\n",
    "data.loc[data['Type'] == 'rewards']"
   ]
  },
  {
   "cell_type": "code",
   "execution_count": 128,
   "id": "1c6528cc-75da-4764-a3f8-48a15c05d198",
   "metadata": {},
   "outputs": [
    {
     "data": {
      "text/plain": [
       "Date                  0\n",
       "Time                  0\n",
       "Type                  0\n",
       "Name                  0\n",
       "Category              0\n",
       "Amount                0\n",
       "Currency              0\n",
       "Notes and #tags    2016\n",
       "Address               0\n",
       "Description           0\n",
       "Money Out             0\n",
       "Money In              0\n",
       "dtype: int64"
      ]
     },
     "execution_count": 128,
     "metadata": {},
     "output_type": "execute_result"
    }
   ],
   "source": [
    "data.isnull().sum()"
   ]
  },
  {
   "cell_type": "markdown",
   "id": "f6e12dd6-398e-4422-b5d2-7b15ab60d687",
   "metadata": {},
   "source": [
    "Now that I have handled the missing values in my dataset, I will check if there are any duplicate rows in the data"
   ]
  },
  {
   "cell_type": "code",
   "execution_count": 129,
   "id": "cff0f598-5152-465f-a811-1655f6493e64",
   "metadata": {},
   "outputs": [
    {
     "data": {
      "text/html": [
       "<div>\n",
       "<style scoped>\n",
       "    .dataframe tbody tr th:only-of-type {\n",
       "        vertical-align: middle;\n",
       "    }\n",
       "\n",
       "    .dataframe tbody tr th {\n",
       "        vertical-align: top;\n",
       "    }\n",
       "\n",
       "    .dataframe thead th {\n",
       "        text-align: right;\n",
       "    }\n",
       "</style>\n",
       "<table border=\"1\" class=\"dataframe\">\n",
       "  <thead>\n",
       "    <tr style=\"text-align: right;\">\n",
       "      <th></th>\n",
       "      <th>Date</th>\n",
       "      <th>Time</th>\n",
       "      <th>Type</th>\n",
       "      <th>Name</th>\n",
       "      <th>Category</th>\n",
       "      <th>Amount</th>\n",
       "      <th>Currency</th>\n",
       "      <th>Notes and #tags</th>\n",
       "      <th>Address</th>\n",
       "      <th>Description</th>\n",
       "      <th>Money Out</th>\n",
       "      <th>Money In</th>\n",
       "    </tr>\n",
       "  </thead>\n",
       "  <tbody>\n",
       "  </tbody>\n",
       "</table>\n",
       "</div>"
      ],
      "text/plain": [
       "Empty DataFrame\n",
       "Columns: [Date, Time, Type, Name, Category, Amount, Currency, Notes and #tags, Address, Description, Money Out, Money In]\n",
       "Index: []"
      ]
     },
     "execution_count": 129,
     "metadata": {},
     "output_type": "execute_result"
    }
   ],
   "source": [
    "data[data.duplicated()]"
   ]
  },
  {
   "cell_type": "code",
   "execution_count": 130,
   "id": "6191c1dc-ae89-4b34-8481-799dd79d89a9",
   "metadata": {},
   "outputs": [
    {
     "data": {
      "text/html": [
       "<div>\n",
       "<style scoped>\n",
       "    .dataframe tbody tr th:only-of-type {\n",
       "        vertical-align: middle;\n",
       "    }\n",
       "\n",
       "    .dataframe tbody tr th {\n",
       "        vertical-align: top;\n",
       "    }\n",
       "\n",
       "    .dataframe thead th {\n",
       "        text-align: right;\n",
       "    }\n",
       "</style>\n",
       "<table border=\"1\" class=\"dataframe\">\n",
       "  <thead>\n",
       "    <tr style=\"text-align: right;\">\n",
       "      <th></th>\n",
       "      <th>Date</th>\n",
       "      <th>Amount</th>\n",
       "      <th>Money Out</th>\n",
       "      <th>Money In</th>\n",
       "    </tr>\n",
       "  </thead>\n",
       "  <tbody>\n",
       "    <tr>\n",
       "      <th>count</th>\n",
       "      <td>3425</td>\n",
       "      <td>3425.000000</td>\n",
       "      <td>3425.000000</td>\n",
       "      <td>3425.000000</td>\n",
       "    </tr>\n",
       "    <tr>\n",
       "      <th>mean</th>\n",
       "      <td>2024-03-13 23:20:53.956204544</td>\n",
       "      <td>0.000631</td>\n",
       "      <td>26.608015</td>\n",
       "      <td>26.608645</td>\n",
       "    </tr>\n",
       "    <tr>\n",
       "      <th>min</th>\n",
       "      <td>2023-03-05 00:00:00</td>\n",
       "      <td>-5081.130000</td>\n",
       "      <td>0.000000</td>\n",
       "      <td>0.000000</td>\n",
       "    </tr>\n",
       "    <tr>\n",
       "      <th>25%</th>\n",
       "      <td>2023-09-10 00:00:00</td>\n",
       "      <td>-11.470000</td>\n",
       "      <td>0.000000</td>\n",
       "      <td>0.000000</td>\n",
       "    </tr>\n",
       "    <tr>\n",
       "      <th>50%</th>\n",
       "      <td>2024-03-28 00:00:00</td>\n",
       "      <td>-1.000000</td>\n",
       "      <td>1.000000</td>\n",
       "      <td>0.000000</td>\n",
       "    </tr>\n",
       "    <tr>\n",
       "      <th>75%</th>\n",
       "      <td>2024-09-12 00:00:00</td>\n",
       "      <td>5.000000</td>\n",
       "      <td>11.470000</td>\n",
       "      <td>5.000000</td>\n",
       "    </tr>\n",
       "    <tr>\n",
       "      <th>max</th>\n",
       "      <td>2024-12-28 00:00:00</td>\n",
       "      <td>4000.580000</td>\n",
       "      <td>5081.130000</td>\n",
       "      <td>4000.580000</td>\n",
       "    </tr>\n",
       "    <tr>\n",
       "      <th>std</th>\n",
       "      <td>NaN</td>\n",
       "      <td>185.610428</td>\n",
       "      <td>127.793956</td>\n",
       "      <td>129.242082</td>\n",
       "    </tr>\n",
       "  </tbody>\n",
       "</table>\n",
       "</div>"
      ],
      "text/plain": [
       "                                Date       Amount    Money Out     Money In\n",
       "count                           3425  3425.000000  3425.000000  3425.000000\n",
       "mean   2024-03-13 23:20:53.956204544     0.000631    26.608015    26.608645\n",
       "min              2023-03-05 00:00:00 -5081.130000     0.000000     0.000000\n",
       "25%              2023-09-10 00:00:00   -11.470000     0.000000     0.000000\n",
       "50%              2024-03-28 00:00:00    -1.000000     1.000000     0.000000\n",
       "75%              2024-09-12 00:00:00     5.000000    11.470000     5.000000\n",
       "max              2024-12-28 00:00:00  4000.580000  5081.130000  4000.580000\n",
       "std                              NaN   185.610428   127.793956   129.242082"
      ]
     },
     "execution_count": 130,
     "metadata": {},
     "output_type": "execute_result"
    }
   ],
   "source": [
    "data.describe()"
   ]
  },
  {
   "cell_type": "markdown",
   "id": "2fcf22da-3a21-4856-a021-1645721f9365",
   "metadata": {},
   "source": [
    "As there are no duplicates, I can now move on to analysing and visualising my data\n",
    "\n",
    "---\n"
   ]
  },
  {
   "cell_type": "markdown",
   "id": "c09f2c74-f621-4f8e-9317-d74f9482ca62",
   "metadata": {},
   "source": [
    "## Analysis\n",
    "For this analysis I will only be analysing my 2024 data"
   ]
  },
  {
   "cell_type": "markdown",
   "id": "7b835e24-4f87-4937-b44b-df2bb67a4c76",
   "metadata": {},
   "source": [
    "First, I will create some new sets of columns: month, day, and hour. This will make it possible for me to group my spendings based on these variables. I believe I will be able to glean more insights into my spending pattern this way"
   ]
  },
  {
   "cell_type": "code",
   "execution_count": 131,
   "id": "35a330ba-f92e-491a-9e6c-11c800f47206",
   "metadata": {},
   "outputs": [
    {
     "data": {
      "text/html": [
       "<div>\n",
       "<style scoped>\n",
       "    .dataframe tbody tr th:only-of-type {\n",
       "        vertical-align: middle;\n",
       "    }\n",
       "\n",
       "    .dataframe tbody tr th {\n",
       "        vertical-align: top;\n",
       "    }\n",
       "\n",
       "    .dataframe thead th {\n",
       "        text-align: right;\n",
       "    }\n",
       "</style>\n",
       "<table border=\"1\" class=\"dataframe\">\n",
       "  <thead>\n",
       "    <tr style=\"text-align: right;\">\n",
       "      <th></th>\n",
       "      <th>Date</th>\n",
       "      <th>Time</th>\n",
       "      <th>Type</th>\n",
       "      <th>Name</th>\n",
       "      <th>Category</th>\n",
       "      <th>Amount</th>\n",
       "      <th>Currency</th>\n",
       "      <th>Notes and #tags</th>\n",
       "      <th>Address</th>\n",
       "      <th>Description</th>\n",
       "      <th>Money Out</th>\n",
       "      <th>Money In</th>\n",
       "      <th>Month</th>\n",
       "      <th>Day</th>\n",
       "      <th>Hour</th>\n",
       "      <th>Year</th>\n",
       "    </tr>\n",
       "  </thead>\n",
       "  <tbody>\n",
       "    <tr>\n",
       "      <th>0</th>\n",
       "      <td>2023-03-05</td>\n",
       "      <td>14:48:10</td>\n",
       "      <td>Faster payment</td>\n",
       "      <td>John-Paul Akame</td>\n",
       "      <td>Transfers</td>\n",
       "      <td>1.35</td>\n",
       "      <td>GBP</td>\n",
       "      <td>Monzo-CQHKS</td>\n",
       "      <td>Mobile Phone</td>\n",
       "      <td>Monzo-CQHKS</td>\n",
       "      <td>0.0</td>\n",
       "      <td>1.35</td>\n",
       "      <td>March</td>\n",
       "      <td>Sunday</td>\n",
       "      <td>2pm</td>\n",
       "      <td>2023</td>\n",
       "    </tr>\n",
       "    <tr>\n",
       "      <th>1</th>\n",
       "      <td>2023-03-05</td>\n",
       "      <td>16:26:49</td>\n",
       "      <td>Card payment</td>\n",
       "      <td>Poundland</td>\n",
       "      <td>Groceries</td>\n",
       "      <td>-1.00</td>\n",
       "      <td>GBP</td>\n",
       "      <td>NaN</td>\n",
       "      <td>Wellgate Shopping Centre</td>\n",
       "      <td>POUNDLAND LTD          DUNDEE        GBR</td>\n",
       "      <td>1.0</td>\n",
       "      <td>0.00</td>\n",
       "      <td>March</td>\n",
       "      <td>Sunday</td>\n",
       "      <td>4pm</td>\n",
       "      <td>2023</td>\n",
       "    </tr>\n",
       "    <tr>\n",
       "      <th>2</th>\n",
       "      <td>2023-03-06</td>\n",
       "      <td>13:27:11</td>\n",
       "      <td>Faster payment</td>\n",
       "      <td>J Akame</td>\n",
       "      <td>Transfers</td>\n",
       "      <td>1.00</td>\n",
       "      <td>GBP</td>\n",
       "      <td>Monzo-CMGZW</td>\n",
       "      <td>Mobile Phone</td>\n",
       "      <td>Monzo-CMGZW</td>\n",
       "      <td>0.0</td>\n",
       "      <td>1.00</td>\n",
       "      <td>March</td>\n",
       "      <td>Monday</td>\n",
       "      <td>1pm</td>\n",
       "      <td>2023</td>\n",
       "    </tr>\n",
       "    <tr>\n",
       "      <th>3</th>\n",
       "      <td>2023-03-06</td>\n",
       "      <td>13:29:32</td>\n",
       "      <td>Faster payment</td>\n",
       "      <td>Linda Scott</td>\n",
       "      <td>Bills</td>\n",
       "      <td>-1.00</td>\n",
       "      <td>GBP</td>\n",
       "      <td>John</td>\n",
       "      <td>Mobile Phone</td>\n",
       "      <td>John</td>\n",
       "      <td>1.0</td>\n",
       "      <td>0.00</td>\n",
       "      <td>March</td>\n",
       "      <td>Monday</td>\n",
       "      <td>1pm</td>\n",
       "      <td>2023</td>\n",
       "    </tr>\n",
       "    <tr>\n",
       "      <th>4</th>\n",
       "      <td>2023-03-06</td>\n",
       "      <td>14:16:44</td>\n",
       "      <td>Faster payment</td>\n",
       "      <td>John-Paul Akame</td>\n",
       "      <td>Transfers</td>\n",
       "      <td>0.45</td>\n",
       "      <td>GBP</td>\n",
       "      <td>Monzo-SJYLS</td>\n",
       "      <td>Mobile Phone</td>\n",
       "      <td>Monzo-SJYLS</td>\n",
       "      <td>0.0</td>\n",
       "      <td>0.45</td>\n",
       "      <td>March</td>\n",
       "      <td>Monday</td>\n",
       "      <td>2pm</td>\n",
       "      <td>2023</td>\n",
       "    </tr>\n",
       "  </tbody>\n",
       "</table>\n",
       "</div>"
      ],
      "text/plain": [
       "        Date      Time            Type             Name   Category  Amount  \\\n",
       "0 2023-03-05  14:48:10  Faster payment  John-Paul Akame  Transfers    1.35   \n",
       "1 2023-03-05  16:26:49    Card payment        Poundland  Groceries   -1.00   \n",
       "2 2023-03-06  13:27:11  Faster payment          J Akame  Transfers    1.00   \n",
       "3 2023-03-06  13:29:32  Faster payment      Linda Scott      Bills   -1.00   \n",
       "4 2023-03-06  14:16:44  Faster payment  John-Paul Akame  Transfers    0.45   \n",
       "\n",
       "  Currency Notes and #tags                   Address  \\\n",
       "0      GBP     Monzo-CQHKS              Mobile Phone   \n",
       "1      GBP             NaN  Wellgate Shopping Centre   \n",
       "2      GBP     Monzo-CMGZW              Mobile Phone   \n",
       "3      GBP            John              Mobile Phone   \n",
       "4      GBP     Monzo-SJYLS              Mobile Phone   \n",
       "\n",
       "                                Description  Money Out  Money In  Month  \\\n",
       "0                               Monzo-CQHKS        0.0      1.35  March   \n",
       "1  POUNDLAND LTD          DUNDEE        GBR        1.0      0.00  March   \n",
       "2                               Monzo-CMGZW        0.0      1.00  March   \n",
       "3                                      John        1.0      0.00  March   \n",
       "4                               Monzo-SJYLS        0.0      0.45  March   \n",
       "\n",
       "      Day Hour  Year  \n",
       "0  Sunday  2pm  2023  \n",
       "1  Sunday  4pm  2023  \n",
       "2  Monday  1pm  2023  \n",
       "3  Monday  1pm  2023  \n",
       "4  Monday  2pm  2023  "
      ]
     },
     "execution_count": 131,
     "metadata": {},
     "output_type": "execute_result"
    }
   ],
   "source": [
    "data['Month'] = data.Date.dt.month_name()\n",
    "data['Day'] = data.Date.dt.day_name()\n",
    "data['Hour'] = data.Time.apply(lambda x: f\"{x.hour % 12 or 12}{'am' if x.hour < 12 else 'pm'}\")\n",
    "data['Year'] = data.Date.dt.year\n",
    "\n",
    "data.head()"
   ]
  },
  {
   "cell_type": "code",
   "execution_count": 132,
   "id": "ed4744fb-d721-4703-9caa-f3e81c65009c",
   "metadata": {},
   "outputs": [],
   "source": [
    "data_2024 = data[data.Year == 2024]"
   ]
  },
  {
   "cell_type": "markdown",
   "id": "b2a169fc-80c3-4340-8299-f5175bac8245",
   "metadata": {},
   "source": [
    "### 1.What is my average monthly income, and how does it fluctuate monthly?"
   ]
  },
  {
   "cell_type": "code",
   "execution_count": 133,
   "id": "50206a1d-3866-4c97-9d94-45dbb3a31b5a",
   "metadata": {},
   "outputs": [
    {
     "name": "stdout",
     "output_type": "stream",
     "text": [
      "['Groceries', 'Savings', 'Transfers', 'Transport', 'Shopping', 'Eating out', 'Income', 'Family', 'Bills', 'Charity', 'Expenses', 'General', 'Entertainment', 'Personal care', 'Gifts', 'Finances']\n"
     ]
    }
   ],
   "source": [
    "print(data_2024.Category.unique().tolist())"
   ]
  },
  {
   "cell_type": "code",
   "execution_count": 134,
   "id": "db7401ff-6ce6-4cd7-91f5-323eb9bf8a53",
   "metadata": {},
   "outputs": [],
   "source": [
    "salary = data_2024[(data_2024['Category'] == 'Income') & (data_2024['Name'] == 'Greggs') | (data_2024['Name'] == 'Adecco')]"
   ]
  },
  {
   "cell_type": "code",
   "execution_count": 135,
   "id": "0a8c0070-befc-46b4-9045-296736d01c1c",
   "metadata": {},
   "outputs": [
    {
     "data": {
      "text/html": [
       "<div>\n",
       "<style scoped>\n",
       "    .dataframe tbody tr th:only-of-type {\n",
       "        vertical-align: middle;\n",
       "    }\n",
       "\n",
       "    .dataframe tbody tr th {\n",
       "        vertical-align: top;\n",
       "    }\n",
       "\n",
       "    .dataframe thead th {\n",
       "        text-align: right;\n",
       "    }\n",
       "</style>\n",
       "<table border=\"1\" class=\"dataframe\">\n",
       "  <thead>\n",
       "    <tr style=\"text-align: right;\">\n",
       "      <th></th>\n",
       "      <th>Date</th>\n",
       "      <th>Time</th>\n",
       "      <th>Type</th>\n",
       "      <th>Name</th>\n",
       "      <th>Category</th>\n",
       "      <th>Amount</th>\n",
       "      <th>Currency</th>\n",
       "      <th>Notes and #tags</th>\n",
       "      <th>Address</th>\n",
       "      <th>Description</th>\n",
       "      <th>Money Out</th>\n",
       "      <th>Money In</th>\n",
       "      <th>Month</th>\n",
       "      <th>Day</th>\n",
       "      <th>Hour</th>\n",
       "      <th>Year</th>\n",
       "    </tr>\n",
       "  </thead>\n",
       "  <tbody>\n",
       "    <tr>\n",
       "      <th>1376</th>\n",
       "      <td>2024-01-04</td>\n",
       "      <td>21:01:33</td>\n",
       "      <td>Bacs (Direct Credit)</td>\n",
       "      <td>Greggs</td>\n",
       "      <td>Income</td>\n",
       "      <td>519.45</td>\n",
       "      <td>GBP</td>\n",
       "      <td>1000 0015108700</td>\n",
       "      <td>Mobile Phone</td>\n",
       "      <td>1000 0015108700</td>\n",
       "      <td>0.0</td>\n",
       "      <td>519.45</td>\n",
       "      <td>January</td>\n",
       "      <td>Thursday</td>\n",
       "      <td>9pm</td>\n",
       "      <td>2024</td>\n",
       "    </tr>\n",
       "    <tr>\n",
       "      <th>1406</th>\n",
       "      <td>2024-01-10</td>\n",
       "      <td>21:34:35</td>\n",
       "      <td>Bacs (Direct Credit)</td>\n",
       "      <td>Greggs</td>\n",
       "      <td>Income</td>\n",
       "      <td>581.75</td>\n",
       "      <td>GBP</td>\n",
       "      <td>1000 0015108700</td>\n",
       "      <td>Mobile Phone</td>\n",
       "      <td>1000 0015108700</td>\n",
       "      <td>0.0</td>\n",
       "      <td>581.75</td>\n",
       "      <td>January</td>\n",
       "      <td>Wednesday</td>\n",
       "      <td>9pm</td>\n",
       "      <td>2024</td>\n",
       "    </tr>\n",
       "    <tr>\n",
       "      <th>1436</th>\n",
       "      <td>2024-01-14</td>\n",
       "      <td>08:23:19</td>\n",
       "      <td>Faster payment</td>\n",
       "      <td>John Akame</td>\n",
       "      <td>Transfers</td>\n",
       "      <td>0.25</td>\n",
       "      <td>GBP</td>\n",
       "      <td>Monzo-YQKCZ</td>\n",
       "      <td>Mobile Phone</td>\n",
       "      <td>Monzo-YQKCZ</td>\n",
       "      <td>0.0</td>\n",
       "      <td>0.25</td>\n",
       "      <td>January</td>\n",
       "      <td>Sunday</td>\n",
       "      <td>8am</td>\n",
       "      <td>2024</td>\n",
       "    </tr>\n",
       "    <tr>\n",
       "      <th>1448</th>\n",
       "      <td>2024-01-16</td>\n",
       "      <td>23:59:27</td>\n",
       "      <td>Faster payment</td>\n",
       "      <td>Jean Esingle</td>\n",
       "      <td>Bills</td>\n",
       "      <td>300.00</td>\n",
       "      <td>GBP</td>\n",
       "      <td>Sent from Monzo</td>\n",
       "      <td>Mobile Phone</td>\n",
       "      <td>Sent from Monzo</td>\n",
       "      <td>0.0</td>\n",
       "      <td>300.00</td>\n",
       "      <td>January</td>\n",
       "      <td>Tuesday</td>\n",
       "      <td>11pm</td>\n",
       "      <td>2024</td>\n",
       "    </tr>\n",
       "    <tr>\n",
       "      <th>1457</th>\n",
       "      <td>2024-01-17</td>\n",
       "      <td>19:59:21</td>\n",
       "      <td>Bacs (Direct Credit)</td>\n",
       "      <td>Greggs</td>\n",
       "      <td>Income</td>\n",
       "      <td>297.64</td>\n",
       "      <td>GBP</td>\n",
       "      <td>1000 0015108700</td>\n",
       "      <td>Mobile Phone</td>\n",
       "      <td>1000 0015108700</td>\n",
       "      <td>0.0</td>\n",
       "      <td>297.64</td>\n",
       "      <td>January</td>\n",
       "      <td>Wednesday</td>\n",
       "      <td>7pm</td>\n",
       "      <td>2024</td>\n",
       "    </tr>\n",
       "    <tr>\n",
       "      <th>...</th>\n",
       "      <td>...</td>\n",
       "      <td>...</td>\n",
       "      <td>...</td>\n",
       "      <td>...</td>\n",
       "      <td>...</td>\n",
       "      <td>...</td>\n",
       "      <td>...</td>\n",
       "      <td>...</td>\n",
       "      <td>...</td>\n",
       "      <td>...</td>\n",
       "      <td>...</td>\n",
       "      <td>...</td>\n",
       "      <td>...</td>\n",
       "      <td>...</td>\n",
       "      <td>...</td>\n",
       "      <td>...</td>\n",
       "    </tr>\n",
       "    <tr>\n",
       "      <th>3382</th>\n",
       "      <td>2024-12-23</td>\n",
       "      <td>21:52:19</td>\n",
       "      <td>Faster payment</td>\n",
       "      <td>J Akame</td>\n",
       "      <td>Savings</td>\n",
       "      <td>30.00</td>\n",
       "      <td>GBP</td>\n",
       "      <td>Monzo-DJMKS</td>\n",
       "      <td>Mobile Phone</td>\n",
       "      <td>Monzo-DJMKS</td>\n",
       "      <td>0.0</td>\n",
       "      <td>30.00</td>\n",
       "      <td>December</td>\n",
       "      <td>Monday</td>\n",
       "      <td>9pm</td>\n",
       "      <td>2024</td>\n",
       "    </tr>\n",
       "    <tr>\n",
       "      <th>3389</th>\n",
       "      <td>2024-12-24</td>\n",
       "      <td>17:53:45</td>\n",
       "      <td>Bacs (Direct Credit)</td>\n",
       "      <td>Greggs</td>\n",
       "      <td>Income</td>\n",
       "      <td>354.23</td>\n",
       "      <td>GBP</td>\n",
       "      <td>1000 0015108700</td>\n",
       "      <td>Mobile Phone</td>\n",
       "      <td>1000 0015108700</td>\n",
       "      <td>0.0</td>\n",
       "      <td>354.23</td>\n",
       "      <td>December</td>\n",
       "      <td>Tuesday</td>\n",
       "      <td>5pm</td>\n",
       "      <td>2024</td>\n",
       "    </tr>\n",
       "    <tr>\n",
       "      <th>3395</th>\n",
       "      <td>2024-12-24</td>\n",
       "      <td>18:03:17</td>\n",
       "      <td>Pot transfer</td>\n",
       "      <td>Safety Net  Pot</td>\n",
       "      <td>Savings</td>\n",
       "      <td>106.27</td>\n",
       "      <td>GBP</td>\n",
       "      <td>NaN</td>\n",
       "      <td>Mobile Phone</td>\n",
       "      <td>Pot transfer</td>\n",
       "      <td>0.0</td>\n",
       "      <td>106.27</td>\n",
       "      <td>December</td>\n",
       "      <td>Tuesday</td>\n",
       "      <td>6pm</td>\n",
       "      <td>2024</td>\n",
       "    </tr>\n",
       "    <tr>\n",
       "      <th>3400</th>\n",
       "      <td>2024-12-24</td>\n",
       "      <td>18:09:03</td>\n",
       "      <td>Faster payment</td>\n",
       "      <td>J Akame</td>\n",
       "      <td>Savings</td>\n",
       "      <td>20.00</td>\n",
       "      <td>GBP</td>\n",
       "      <td>Monzo-ZCMBV</td>\n",
       "      <td>Mobile Phone</td>\n",
       "      <td>Monzo-ZCMBV</td>\n",
       "      <td>0.0</td>\n",
       "      <td>20.00</td>\n",
       "      <td>December</td>\n",
       "      <td>Tuesday</td>\n",
       "      <td>6pm</td>\n",
       "      <td>2024</td>\n",
       "    </tr>\n",
       "    <tr>\n",
       "      <th>3422</th>\n",
       "      <td>2024-12-28</td>\n",
       "      <td>16:18:39</td>\n",
       "      <td>Pot transfer</td>\n",
       "      <td>Safety Net  Pot</td>\n",
       "      <td>Savings</td>\n",
       "      <td>5.00</td>\n",
       "      <td>GBP</td>\n",
       "      <td>NaN</td>\n",
       "      <td>Mobile Phone</td>\n",
       "      <td>Pot transfer</td>\n",
       "      <td>0.0</td>\n",
       "      <td>5.00</td>\n",
       "      <td>December</td>\n",
       "      <td>Saturday</td>\n",
       "      <td>4pm</td>\n",
       "      <td>2024</td>\n",
       "    </tr>\n",
       "  </tbody>\n",
       "</table>\n",
       "<p>246 rows × 16 columns</p>\n",
       "</div>"
      ],
      "text/plain": [
       "           Date      Time                  Type             Name   Category  \\\n",
       "1376 2024-01-04  21:01:33  Bacs (Direct Credit)           Greggs     Income   \n",
       "1406 2024-01-10  21:34:35  Bacs (Direct Credit)           Greggs     Income   \n",
       "1436 2024-01-14  08:23:19        Faster payment       John Akame  Transfers   \n",
       "1448 2024-01-16  23:59:27        Faster payment     Jean Esingle      Bills   \n",
       "1457 2024-01-17  19:59:21  Bacs (Direct Credit)           Greggs     Income   \n",
       "...         ...       ...                   ...              ...        ...   \n",
       "3382 2024-12-23  21:52:19        Faster payment          J Akame    Savings   \n",
       "3389 2024-12-24  17:53:45  Bacs (Direct Credit)           Greggs     Income   \n",
       "3395 2024-12-24  18:03:17          Pot transfer  Safety Net  Pot    Savings   \n",
       "3400 2024-12-24  18:09:03        Faster payment          J Akame    Savings   \n",
       "3422 2024-12-28  16:18:39          Pot transfer  Safety Net  Pot    Savings   \n",
       "\n",
       "      Amount Currency  Notes and #tags       Address      Description  \\\n",
       "1376  519.45      GBP  1000 0015108700  Mobile Phone  1000 0015108700   \n",
       "1406  581.75      GBP  1000 0015108700  Mobile Phone  1000 0015108700   \n",
       "1436    0.25      GBP      Monzo-YQKCZ  Mobile Phone      Monzo-YQKCZ   \n",
       "1448  300.00      GBP  Sent from Monzo  Mobile Phone  Sent from Monzo   \n",
       "1457  297.64      GBP  1000 0015108700  Mobile Phone  1000 0015108700   \n",
       "...      ...      ...              ...           ...              ...   \n",
       "3382   30.00      GBP      Monzo-DJMKS  Mobile Phone      Monzo-DJMKS   \n",
       "3389  354.23      GBP  1000 0015108700  Mobile Phone  1000 0015108700   \n",
       "3395  106.27      GBP              NaN  Mobile Phone     Pot transfer   \n",
       "3400   20.00      GBP      Monzo-ZCMBV  Mobile Phone      Monzo-ZCMBV   \n",
       "3422    5.00      GBP              NaN  Mobile Phone     Pot transfer   \n",
       "\n",
       "      Money Out  Money In     Month        Day  Hour  Year  \n",
       "1376        0.0    519.45   January   Thursday   9pm  2024  \n",
       "1406        0.0    581.75   January  Wednesday   9pm  2024  \n",
       "1436        0.0      0.25   January     Sunday   8am  2024  \n",
       "1448        0.0    300.00   January    Tuesday  11pm  2024  \n",
       "1457        0.0    297.64   January  Wednesday   7pm  2024  \n",
       "...         ...       ...       ...        ...   ...   ...  \n",
       "3382        0.0     30.00  December     Monday   9pm  2024  \n",
       "3389        0.0    354.23  December    Tuesday   5pm  2024  \n",
       "3395        0.0    106.27  December    Tuesday   6pm  2024  \n",
       "3400        0.0     20.00  December    Tuesday   6pm  2024  \n",
       "3422        0.0      5.00  December   Saturday   4pm  2024  \n",
       "\n",
       "[246 rows x 16 columns]"
      ]
     },
     "execution_count": 135,
     "metadata": {},
     "output_type": "execute_result"
    }
   ],
   "source": [
    "data_2024[(data_2024['Category'] == 'Income')|((data_2024['Money In']>0) & ((data_2024['Type'] != 'Pot transfer')|(data_2024['Category'] == 'Savings')))]"
   ]
  },
  {
   "cell_type": "code",
   "execution_count": 136,
   "id": "a51587d9-3ac9-4cc6-a47e-4647111c5916",
   "metadata": {},
   "outputs": [
    {
     "data": {
      "text/plain": [
       "count      12.000000\n",
       "mean     1991.973333\n",
       "std       378.309470\n",
       "min      1430.660000\n",
       "25%      1753.257500\n",
       "50%      1879.760000\n",
       "75%      2381.582500\n",
       "max      2569.850000\n",
       "Name: Amount, dtype: float64"
      ]
     },
     "execution_count": 136,
     "metadata": {},
     "output_type": "execute_result"
    }
   ],
   "source": [
    "monthly_salary = salary.groupby('Month')['Amount'].sum()\n",
    "monthly_salary.describe()"
   ]
  },
  {
   "cell_type": "code",
   "execution_count": 137,
   "id": "57196af7-712a-44e5-bbe2-82e6ed1e396e",
   "metadata": {},
   "outputs": [
    {
     "data": {
      "image/png": "[encoded data removed]",
      "text/plain": [
       "<Figure size 640x480 with 1 Axes>"
      ]
     },
     "metadata": {},
     "output_type": "display_data"
    }
   ],
   "source": [
    "sns.kdeplot(monthly_salary)\n",
    "plt.axvline(monthly_salary.mean(), color = 'b', linestyle = '-', linewidth=0.5, label = 'mean salary')\n",
    "plt.axvline(monthly_salary.mean() + monthly_salary.std(), color = 'r', linestyle = '-.', linewidth=0.5, label = '1 standard deviation')\n",
    "plt.axvline(monthly_salary.mean() - monthly_salary.std(), color = 'r', linestyle = '-.', linewidth=0.5)\n",
    "plt.xlabel('Amount (£)')\n",
    "plt.legend()\n",
    "plt.show()"
   ]
  },
  {
   "cell_type": "markdown",
   "id": "343a54f5-29d0-4e93-8fa2-2746d80ef13b",
   "metadata": {},
   "source": [
    "Based on the above, my average monthly income is £1,991.97. My pay also fluctuates by $\\pm$£378 monthly"
   ]
  },
  {
   "cell_type": "markdown",
   "id": "0f423369-5153-4e08-9502-5149c0b4b218",
   "metadata": {},
   "source": [
    "---\n",
    "### 2.What percentage of my income am I saving versus spending each month?"
   ]
  },
  {
   "cell_type": "markdown",
   "id": "80a09578-16f3-4ecc-92d6-9bd8f9ee13ec",
   "metadata": {},
   "source": [
    "First I will drop the Transfers column as they were transfers I made between my accounts and between pots because they will distort my analysis. The transfers I made to my accounts, which are not savings, were just to hold money till the time I needed them"
   ]
  },
  {
   "cell_type": "code",
   "execution_count": 138,
   "id": "91ed7cbb-42f6-402d-a3eb-10895ca5b67a",
   "metadata": {},
   "outputs": [
    {
     "data": {
      "text/html": [
       "<div>\n",
       "<style scoped>\n",
       "    .dataframe tbody tr th:only-of-type {\n",
       "        vertical-align: middle;\n",
       "    }\n",
       "\n",
       "    .dataframe tbody tr th {\n",
       "        vertical-align: top;\n",
       "    }\n",
       "\n",
       "    .dataframe thead th {\n",
       "        text-align: right;\n",
       "    }\n",
       "</style>\n",
       "<table border=\"1\" class=\"dataframe\">\n",
       "  <thead>\n",
       "    <tr style=\"text-align: right;\">\n",
       "      <th>Category</th>\n",
       "      <th>Bills</th>\n",
       "      <th>Charity</th>\n",
       "      <th>Eating out</th>\n",
       "      <th>Entertainment</th>\n",
       "      <th>Expenses</th>\n",
       "      <th>Family</th>\n",
       "      <th>Finances</th>\n",
       "      <th>General</th>\n",
       "      <th>Gifts</th>\n",
       "      <th>Groceries</th>\n",
       "      <th>Holidays</th>\n",
       "      <th>Income</th>\n",
       "      <th>Personal care</th>\n",
       "      <th>Savings</th>\n",
       "      <th>Shit food</th>\n",
       "      <th>Shopping</th>\n",
       "      <th>Transport</th>\n",
       "    </tr>\n",
       "    <tr>\n",
       "      <th>Month</th>\n",
       "      <th></th>\n",
       "      <th></th>\n",
       "      <th></th>\n",
       "      <th></th>\n",
       "      <th></th>\n",
       "      <th></th>\n",
       "      <th></th>\n",
       "      <th></th>\n",
       "      <th></th>\n",
       "      <th></th>\n",
       "      <th></th>\n",
       "      <th></th>\n",
       "      <th></th>\n",
       "      <th></th>\n",
       "      <th></th>\n",
       "      <th></th>\n",
       "      <th></th>\n",
       "    </tr>\n",
       "  </thead>\n",
       "  <tbody>\n",
       "    <tr>\n",
       "      <th>April</th>\n",
       "      <td>1247.00</td>\n",
       "      <td>203.17</td>\n",
       "      <td>17.34</td>\n",
       "      <td>13.30</td>\n",
       "      <td>1632.00</td>\n",
       "      <td>588.00</td>\n",
       "      <td>500.0</td>\n",
       "      <td>2078.55</td>\n",
       "      <td>0.00</td>\n",
       "      <td>57.79</td>\n",
       "      <td>0.0</td>\n",
       "      <td>0.0</td>\n",
       "      <td>0.00</td>\n",
       "      <td>280.00</td>\n",
       "      <td>0.0</td>\n",
       "      <td>0.00</td>\n",
       "      <td>5.00</td>\n",
       "    </tr>\n",
       "    <tr>\n",
       "      <th>August</th>\n",
       "      <td>434.00</td>\n",
       "      <td>249.49</td>\n",
       "      <td>21.49</td>\n",
       "      <td>8.95</td>\n",
       "      <td>0.00</td>\n",
       "      <td>467.00</td>\n",
       "      <td>1501.0</td>\n",
       "      <td>0.00</td>\n",
       "      <td>15.00</td>\n",
       "      <td>83.73</td>\n",
       "      <td>0.0</td>\n",
       "      <td>0.0</td>\n",
       "      <td>0.00</td>\n",
       "      <td>27.18</td>\n",
       "      <td>0.0</td>\n",
       "      <td>22.00</td>\n",
       "      <td>24.80</td>\n",
       "    </tr>\n",
       "    <tr>\n",
       "      <th>December</th>\n",
       "      <td>574.65</td>\n",
       "      <td>257.65</td>\n",
       "      <td>18.54</td>\n",
       "      <td>50.00</td>\n",
       "      <td>0.00</td>\n",
       "      <td>885.43</td>\n",
       "      <td>2.0</td>\n",
       "      <td>10.00</td>\n",
       "      <td>0.00</td>\n",
       "      <td>104.61</td>\n",
       "      <td>0.0</td>\n",
       "      <td>0.0</td>\n",
       "      <td>11.00</td>\n",
       "      <td>613.17</td>\n",
       "      <td>0.0</td>\n",
       "      <td>32.97</td>\n",
       "      <td>56.00</td>\n",
       "    </tr>\n",
       "    <tr>\n",
       "      <th>February</th>\n",
       "      <td>2518.30</td>\n",
       "      <td>124.05</td>\n",
       "      <td>15.49</td>\n",
       "      <td>23.20</td>\n",
       "      <td>30.00</td>\n",
       "      <td>107.00</td>\n",
       "      <td>0.0</td>\n",
       "      <td>14.50</td>\n",
       "      <td>30.00</td>\n",
       "      <td>38.29</td>\n",
       "      <td>0.0</td>\n",
       "      <td>0.0</td>\n",
       "      <td>68.00</td>\n",
       "      <td>78.24</td>\n",
       "      <td>0.0</td>\n",
       "      <td>11.99</td>\n",
       "      <td>109.79</td>\n",
       "    </tr>\n",
       "    <tr>\n",
       "      <th>January</th>\n",
       "      <td>781.81</td>\n",
       "      <td>128.44</td>\n",
       "      <td>14.13</td>\n",
       "      <td>0.00</td>\n",
       "      <td>20.00</td>\n",
       "      <td>359.00</td>\n",
       "      <td>0.0</td>\n",
       "      <td>0.40</td>\n",
       "      <td>0.00</td>\n",
       "      <td>61.01</td>\n",
       "      <td>0.0</td>\n",
       "      <td>0.0</td>\n",
       "      <td>0.00</td>\n",
       "      <td>128.41</td>\n",
       "      <td>0.0</td>\n",
       "      <td>24.38</td>\n",
       "      <td>69.69</td>\n",
       "    </tr>\n",
       "    <tr>\n",
       "      <th>July</th>\n",
       "      <td>459.99</td>\n",
       "      <td>208.07</td>\n",
       "      <td>9.08</td>\n",
       "      <td>12.25</td>\n",
       "      <td>16.00</td>\n",
       "      <td>303.79</td>\n",
       "      <td>470.0</td>\n",
       "      <td>0.00</td>\n",
       "      <td>10.00</td>\n",
       "      <td>46.96</td>\n",
       "      <td>0.0</td>\n",
       "      <td>0.0</td>\n",
       "      <td>0.01</td>\n",
       "      <td>326.08</td>\n",
       "      <td>0.0</td>\n",
       "      <td>0.00</td>\n",
       "      <td>0.00</td>\n",
       "    </tr>\n",
       "    <tr>\n",
       "      <th>June</th>\n",
       "      <td>420.00</td>\n",
       "      <td>208.90</td>\n",
       "      <td>2.40</td>\n",
       "      <td>0.00</td>\n",
       "      <td>0.01</td>\n",
       "      <td>339.00</td>\n",
       "      <td>250.0</td>\n",
       "      <td>0.00</td>\n",
       "      <td>10.00</td>\n",
       "      <td>11.50</td>\n",
       "      <td>0.0</td>\n",
       "      <td>0.0</td>\n",
       "      <td>14.99</td>\n",
       "      <td>241.44</td>\n",
       "      <td>0.0</td>\n",
       "      <td>8.00</td>\n",
       "      <td>0.00</td>\n",
       "    </tr>\n",
       "    <tr>\n",
       "      <th>March</th>\n",
       "      <td>6402.34</td>\n",
       "      <td>120.82</td>\n",
       "      <td>29.24</td>\n",
       "      <td>0.00</td>\n",
       "      <td>115.00</td>\n",
       "      <td>265.00</td>\n",
       "      <td>0.0</td>\n",
       "      <td>26.00</td>\n",
       "      <td>20.00</td>\n",
       "      <td>75.17</td>\n",
       "      <td>0.0</td>\n",
       "      <td>0.0</td>\n",
       "      <td>0.00</td>\n",
       "      <td>0.87</td>\n",
       "      <td>0.0</td>\n",
       "      <td>0.00</td>\n",
       "      <td>0.00</td>\n",
       "    </tr>\n",
       "    <tr>\n",
       "      <th>May</th>\n",
       "      <td>395.00</td>\n",
       "      <td>275.21</td>\n",
       "      <td>4.85</td>\n",
       "      <td>0.00</td>\n",
       "      <td>815.00</td>\n",
       "      <td>239.00</td>\n",
       "      <td>0.0</td>\n",
       "      <td>0.00</td>\n",
       "      <td>0.00</td>\n",
       "      <td>31.42</td>\n",
       "      <td>0.0</td>\n",
       "      <td>0.0</td>\n",
       "      <td>26.99</td>\n",
       "      <td>30.09</td>\n",
       "      <td>0.0</td>\n",
       "      <td>0.00</td>\n",
       "      <td>0.00</td>\n",
       "    </tr>\n",
       "    <tr>\n",
       "      <th>November</th>\n",
       "      <td>593.50</td>\n",
       "      <td>201.50</td>\n",
       "      <td>25.21</td>\n",
       "      <td>0.00</td>\n",
       "      <td>0.00</td>\n",
       "      <td>384.00</td>\n",
       "      <td>250.0</td>\n",
       "      <td>0.00</td>\n",
       "      <td>45.55</td>\n",
       "      <td>52.92</td>\n",
       "      <td>0.0</td>\n",
       "      <td>0.0</td>\n",
       "      <td>0.00</td>\n",
       "      <td>571.81</td>\n",
       "      <td>0.0</td>\n",
       "      <td>0.00</td>\n",
       "      <td>76.40</td>\n",
       "    </tr>\n",
       "    <tr>\n",
       "      <th>October</th>\n",
       "      <td>344.00</td>\n",
       "      <td>325.12</td>\n",
       "      <td>62.95</td>\n",
       "      <td>81.50</td>\n",
       "      <td>0.00</td>\n",
       "      <td>357.10</td>\n",
       "      <td>565.0</td>\n",
       "      <td>0.00</td>\n",
       "      <td>11.33</td>\n",
       "      <td>59.89</td>\n",
       "      <td>0.0</td>\n",
       "      <td>0.0</td>\n",
       "      <td>43.89</td>\n",
       "      <td>666.21</td>\n",
       "      <td>0.0</td>\n",
       "      <td>50.84</td>\n",
       "      <td>52.40</td>\n",
       "    </tr>\n",
       "    <tr>\n",
       "      <th>September</th>\n",
       "      <td>579.00</td>\n",
       "      <td>247.24</td>\n",
       "      <td>43.86</td>\n",
       "      <td>23.99</td>\n",
       "      <td>0.00</td>\n",
       "      <td>449.91</td>\n",
       "      <td>500.0</td>\n",
       "      <td>0.00</td>\n",
       "      <td>50.00</td>\n",
       "      <td>78.29</td>\n",
       "      <td>0.0</td>\n",
       "      <td>0.0</td>\n",
       "      <td>0.00</td>\n",
       "      <td>710.31</td>\n",
       "      <td>0.0</td>\n",
       "      <td>8.99</td>\n",
       "      <td>29.20</td>\n",
       "    </tr>\n",
       "  </tbody>\n",
       "</table>\n",
       "</div>"
      ],
      "text/plain": [
       "Category     Bills  Charity  Eating out  Entertainment  Expenses  Family  \\\n",
       "Month                                                                      \n",
       "April      1247.00   203.17       17.34          13.30   1632.00  588.00   \n",
       "August      434.00   249.49       21.49           8.95      0.00  467.00   \n",
       "December    574.65   257.65       18.54          50.00      0.00  885.43   \n",
       "February   2518.30   124.05       15.49          23.20     30.00  107.00   \n",
       "January     781.81   128.44       14.13           0.00     20.00  359.00   \n",
       "July        459.99   208.07        9.08          12.25     16.00  303.79   \n",
       "June        420.00   208.90        2.40           0.00      0.01  339.00   \n",
       "March      6402.34   120.82       29.24           0.00    115.00  265.00   \n",
       "May         395.00   275.21        4.85           0.00    815.00  239.00   \n",
       "November    593.50   201.50       25.21           0.00      0.00  384.00   \n",
       "October     344.00   325.12       62.95          81.50      0.00  357.10   \n",
       "September   579.00   247.24       43.86          23.99      0.00  449.91   \n",
       "\n",
       "Category   Finances  General  Gifts  Groceries  Holidays  Income  \\\n",
       "Month                                                              \n",
       "April         500.0  2078.55   0.00      57.79       0.0     0.0   \n",
       "August       1501.0     0.00  15.00      83.73       0.0     0.0   \n",
       "December        2.0    10.00   0.00     104.61       0.0     0.0   \n",
       "February        0.0    14.50  30.00      38.29       0.0     0.0   \n",
       "January         0.0     0.40   0.00      61.01       0.0     0.0   \n",
       "July          470.0     0.00  10.00      46.96       0.0     0.0   \n",
       "June          250.0     0.00  10.00      11.50       0.0     0.0   \n",
       "March           0.0    26.00  20.00      75.17       0.0     0.0   \n",
       "May             0.0     0.00   0.00      31.42       0.0     0.0   \n",
       "November      250.0     0.00  45.55      52.92       0.0     0.0   \n",
       "October       565.0     0.00  11.33      59.89       0.0     0.0   \n",
       "September     500.0     0.00  50.00      78.29       0.0     0.0   \n",
       "\n",
       "Category   Personal care  Savings  Shit food  Shopping  Transport  \n",
       "Month                                                              \n",
       "April               0.00   280.00        0.0      0.00       5.00  \n",
       "August              0.00    27.18        0.0     22.00      24.80  \n",
       "December           11.00   613.17        0.0     32.97      56.00  \n",
       "February           68.00    78.24        0.0     11.99     109.79  \n",
       "January             0.00   128.41        0.0     24.38      69.69  \n",
       "July                0.01   326.08        0.0      0.00       0.00  \n",
       "June               14.99   241.44        0.0      8.00       0.00  \n",
       "March               0.00     0.87        0.0      0.00       0.00  \n",
       "May                26.99    30.09        0.0      0.00       0.00  \n",
       "November            0.00   571.81        0.0      0.00      76.40  \n",
       "October            43.89   666.21        0.0     50.84      52.40  \n",
       "September           0.00   710.31        0.0      8.99      29.20  "
      ]
     },
     "execution_count": 138,
     "metadata": {},
     "output_type": "execute_result"
    }
   ],
   "source": [
    "data_2024_pivot = data_2024.groupby(['Month', 'Category'], observed=False)['Money Out'].sum()\\\n",
    ".reset_index()\\\n",
    ".pivot(columns='Category', index = 'Month', values = 'Money Out')\\\n",
    ".drop(columns='Transfers')\n",
    "\n",
    "data_2024_pivot"
   ]
  },
  {
   "cell_type": "code",
   "execution_count": 139,
   "id": "e6d33789-5b00-44e2-8a9a-920b82dad3e7",
   "metadata": {},
   "outputs": [],
   "source": [
    "data_2024_pivot['Total Expenses'] = data_2024_pivot.drop(columns=['Savings']).sum(axis=1)"
   ]
  },
  {
   "cell_type": "code",
   "execution_count": 140,
   "id": "2861314f-476b-476f-8327-1f3b0c58cd7c",
   "metadata": {},
   "outputs": [],
   "source": [
    "data_2024_pivot['Income'] = monthly_salary.values\n",
    "data_2024_pivot['Savings Rate'] = (data_2024_pivot['Savings']/data_2024_pivot['Income']) * 100"
   ]
  },
  {
   "cell_type": "code",
   "execution_count": 141,
   "id": "49a9c5fa-127f-4d91-ae23-cd77c0fafd1c",
   "metadata": {},
   "outputs": [
    {
     "data": {
      "image/png": "[encoded data removed]",
      "text/plain": [
       "<Figure size 1200x600 with 1 Axes>"
      ]
     },
     "metadata": {},
     "output_type": "display_data"
    }
   ],
   "source": [
    "month_order = [\"January\", \"February\", \"March\", \"April\", \"May\", \"June\", \n",
    "               \"July\", \"August\", \"September\", \"October\", \"November\", \"December\"]\n",
    "\n",
    "plt.figure(figsize=(12,6))\n",
    "sns.barplot(data_2024_pivot, y='Savings Rate', x=data_2024_pivot.index, order=month_order)\n",
    "plt.ylabel('Savings Rate (%)')\n",
    "plt.title('Percentage of Income Saved by Month')\n",
    "\n",
    "plt.show()\n"
   ]
  },
  {
   "cell_type": "code",
   "execution_count": 142,
   "id": "898148b7-a665-4e3c-bc59-93f20b2bd24e",
   "metadata": {},
   "outputs": [
    {
     "data": {
      "image/png": "[encoded data removed]",
      "text/plain": [
       "<Figure size 1200x600 with 1 Axes>"
      ]
     },
     "metadata": {},
     "output_type": "display_data"
    }
   ],
   "source": [
    "data_long = data_2024_pivot.reset_index().melt(id_vars='Month', value_vars=['Savings', 'Total Expenses', 'Income'], \n",
    "                                               var_name='Category', value_name='Amount')\n",
    "\n",
    "# Plot the bar chart\n",
    "plt.figure(figsize=(12, 6))\n",
    "sns.barplot(data=data_long, x='Month', y='Amount', hue='Category', order=month_order)\n",
    "plt.title('Comparison of Savings and Total Expenses by Month')\n",
    "plt.ylabel('Amount')\n",
    "plt.xlabel('Month')\n",
    "plt.xticks(rotation=45)\n",
    "plt.show()"
   ]
  },
  {
   "cell_type": "markdown",
   "id": "3d39e21d-5ac2-4bc4-82b0-8b95dbdf7442",
   "metadata": {},
   "source": [
    "The above seems weird, as I am spending way more than I am earning. The reason why this happened is because I have received transfers from people which aren't categorised as income, since my income is just what I receive from my employers. What I would do now is to include the total inflow of money I have received to get a proper view of how things look"
   ]
  },
  {
   "cell_type": "code",
   "execution_count": 143,
   "id": "1147cb7e-ffb6-4a8d-84e8-b25ec15a9265",
   "metadata": {},
   "outputs": [
    {
     "data": {
      "text/plain": [
       "Month\n",
       "April        6328.72\n",
       "August       4019.75\n",
       "December     2741.40\n",
       "February     2359.85\n",
       "January      2083.48\n",
       "July         1925.25\n",
       "June         2180.76\n",
       "March        7410.51\n",
       "May          3783.65\n",
       "November     2288.25\n",
       "October      3510.67\n",
       "September    3372.87\n",
       "Name: Amount, dtype: float64"
      ]
     },
     "execution_count": 143,
     "metadata": {},
     "output_type": "execute_result"
    }
   ],
   "source": [
    "# Create a filter to subset the data to include rows where the Category is Income, or the Money In is greater than 0 and the Type isn't a Pot transfer \n",
    "filter = data_2024[(data_2024['Category'] == 'Income')|\n",
    "                 ((data_2024['Money In']>0) & ((data_2024['Type'] != 'Pot transfer')))]\n",
    "money_in = filter.groupby('Month')['Amount'].sum()\n",
    "money_in"
   ]
  },
  {
   "cell_type": "code",
   "execution_count": 144,
   "id": "be3d1b11-242c-4b43-8c31-0660b4f075ef",
   "metadata": {},
   "outputs": [
    {
     "data": {
      "image/png": "[encoded data removed]",
      "text/plain": [
       "<Figure size 1200x600 with 1 Axes>"
      ]
     },
     "metadata": {},
     "output_type": "display_data"
    }
   ],
   "source": [
    "data_2024_pivot['Total Inflow'] = money_in.values\n",
    "\n",
    "data_long = data_2024_pivot.reset_index().melt(id_vars='Month', value_vars=['Savings', 'Total Expenses', 'Total Inflow'], \n",
    "                                               var_name='Category', value_name='Amount')\n",
    "\n",
    "plt.figure(figsize=(12, 6))\n",
    "sns.barplot(data=data_long, x='Month', y='Amount', hue='Category', order=month_order)\n",
    "plt.title('Comparison of Savings, Inflows, and Total Expenses by Month')\n",
    "plt.ylabel('Amount')\n",
    "plt.xlabel('Month')\n",
    "plt.xticks(rotation=45)\n",
    "plt.show()"
   ]
  },
  {
   "cell_type": "markdown",
   "id": "6cd9342a-7e81-482a-8d81-4a75f8be894b",
   "metadata": {},
   "source": [
    "Now, the chart is looking more reasonable. I would like to clarify that in months where my savings and total expenses are greater than the total income, I used what was left over from the previous month. \n",
    "\n",
    "Also, there is something weird with the data in May. I know I did not receive that much money during that period. So, I will check the inflows in May to find out what is going on. "
   ]
  },
  {
   "cell_type": "code",
   "execution_count": 145,
   "id": "6a74b839-8759-454b-9b83-4e292b783d87",
   "metadata": {},
   "outputs": [
    {
     "data": {
      "text/html": [
       "<div>\n",
       "<style scoped>\n",
       "    .dataframe tbody tr th:only-of-type {\n",
       "        vertical-align: middle;\n",
       "    }\n",
       "\n",
       "    .dataframe tbody tr th {\n",
       "        vertical-align: top;\n",
       "    }\n",
       "\n",
       "    .dataframe thead th {\n",
       "        text-align: right;\n",
       "    }\n",
       "</style>\n",
       "<table border=\"1\" class=\"dataframe\">\n",
       "  <thead>\n",
       "    <tr style=\"text-align: right;\">\n",
       "      <th></th>\n",
       "      <th>Date</th>\n",
       "      <th>Time</th>\n",
       "      <th>Type</th>\n",
       "      <th>Name</th>\n",
       "      <th>Category</th>\n",
       "      <th>Amount</th>\n",
       "      <th>Currency</th>\n",
       "      <th>Notes and #tags</th>\n",
       "      <th>Address</th>\n",
       "      <th>Description</th>\n",
       "      <th>Money Out</th>\n",
       "      <th>Money In</th>\n",
       "      <th>Month</th>\n",
       "      <th>Day</th>\n",
       "      <th>Hour</th>\n",
       "      <th>Year</th>\n",
       "    </tr>\n",
       "  </thead>\n",
       "  <tbody>\n",
       "    <tr>\n",
       "      <th>1850</th>\n",
       "      <td>2024-05-02</td>\n",
       "      <td>00:00:28</td>\n",
       "      <td>Bacs (Direct Credit)</td>\n",
       "      <td>Greggs</td>\n",
       "      <td>Income</td>\n",
       "      <td>351.27</td>\n",
       "      <td>GBP</td>\n",
       "      <td>1000 0015108700</td>\n",
       "      <td>Mobile Phone</td>\n",
       "      <td>1000 0015108700</td>\n",
       "      <td>0.0</td>\n",
       "      <td>351.27</td>\n",
       "      <td>May</td>\n",
       "      <td>Thursday</td>\n",
       "      <td>12am</td>\n",
       "      <td>2024</td>\n",
       "    </tr>\n",
       "    <tr>\n",
       "      <th>1861</th>\n",
       "      <td>2024-05-10</td>\n",
       "      <td>00:01:51</td>\n",
       "      <td>Bacs (Direct Credit)</td>\n",
       "      <td>Greggs</td>\n",
       "      <td>Income</td>\n",
       "      <td>284.85</td>\n",
       "      <td>GBP</td>\n",
       "      <td>1000 0015108700</td>\n",
       "      <td>Mobile Phone</td>\n",
       "      <td>1000 0015108700</td>\n",
       "      <td>0.0</td>\n",
       "      <td>284.85</td>\n",
       "      <td>May</td>\n",
       "      <td>Friday</td>\n",
       "      <td>12am</td>\n",
       "      <td>2024</td>\n",
       "    </tr>\n",
       "    <tr>\n",
       "      <th>1869</th>\n",
       "      <td>2024-05-10</td>\n",
       "      <td>15:33:51</td>\n",
       "      <td>Faster payment</td>\n",
       "      <td>LEMFI</td>\n",
       "      <td>Transfers</td>\n",
       "      <td>1595.75</td>\n",
       "      <td>GBP</td>\n",
       "      <td>64274cdf-e28b</td>\n",
       "      <td>Mobile Phone</td>\n",
       "      <td>64274cdf-e28b</td>\n",
       "      <td>0.0</td>\n",
       "      <td>1595.75</td>\n",
       "      <td>May</td>\n",
       "      <td>Friday</td>\n",
       "      <td>3pm</td>\n",
       "      <td>2024</td>\n",
       "    </tr>\n",
       "    <tr>\n",
       "      <th>1877</th>\n",
       "      <td>2024-05-15</td>\n",
       "      <td>19:29:33</td>\n",
       "      <td>Bacs (Direct Credit)</td>\n",
       "      <td>Greggs</td>\n",
       "      <td>Income</td>\n",
       "      <td>433.57</td>\n",
       "      <td>GBP</td>\n",
       "      <td>1000 0015108700</td>\n",
       "      <td>Mobile Phone</td>\n",
       "      <td>1000 0015108700</td>\n",
       "      <td>0.0</td>\n",
       "      <td>433.57</td>\n",
       "      <td>May</td>\n",
       "      <td>Wednesday</td>\n",
       "      <td>7pm</td>\n",
       "      <td>2024</td>\n",
       "    </tr>\n",
       "    <tr>\n",
       "      <th>1882</th>\n",
       "      <td>2024-05-15</td>\n",
       "      <td>19:32:55</td>\n",
       "      <td>Faster payment</td>\n",
       "      <td>AKAME J</td>\n",
       "      <td>Transfers</td>\n",
       "      <td>384.00</td>\n",
       "      <td>GBP</td>\n",
       "      <td>MONZO-WDXPZ</td>\n",
       "      <td>Mobile Phone</td>\n",
       "      <td>MONZO-WDXPZ</td>\n",
       "      <td>0.0</td>\n",
       "      <td>384.00</td>\n",
       "      <td>May</td>\n",
       "      <td>Wednesday</td>\n",
       "      <td>7pm</td>\n",
       "      <td>2024</td>\n",
       "    </tr>\n",
       "    <tr>\n",
       "      <th>1919</th>\n",
       "      <td>2024-05-23</td>\n",
       "      <td>00:00:07</td>\n",
       "      <td>Bacs (Direct Credit)</td>\n",
       "      <td>Greggs</td>\n",
       "      <td>Income</td>\n",
       "      <td>300.87</td>\n",
       "      <td>GBP</td>\n",
       "      <td>1000 0015108700</td>\n",
       "      <td>Mobile Phone</td>\n",
       "      <td>1000 0015108700</td>\n",
       "      <td>0.0</td>\n",
       "      <td>300.87</td>\n",
       "      <td>May</td>\n",
       "      <td>Thursday</td>\n",
       "      <td>12am</td>\n",
       "      <td>2024</td>\n",
       "    </tr>\n",
       "    <tr>\n",
       "      <th>1939</th>\n",
       "      <td>2024-05-25</td>\n",
       "      <td>09:26:52</td>\n",
       "      <td>Faster payment</td>\n",
       "      <td>Adekola Adesokan</td>\n",
       "      <td>Bills</td>\n",
       "      <td>10.00</td>\n",
       "      <td>GBP</td>\n",
       "      <td>Sent from Revolut</td>\n",
       "      <td>Mobile Phone</td>\n",
       "      <td>Sent from Revolut</td>\n",
       "      <td>0.0</td>\n",
       "      <td>10.00</td>\n",
       "      <td>May</td>\n",
       "      <td>Saturday</td>\n",
       "      <td>9am</td>\n",
       "      <td>2024</td>\n",
       "    </tr>\n",
       "    <tr>\n",
       "      <th>1942</th>\n",
       "      <td>2024-05-25</td>\n",
       "      <td>14:47:04</td>\n",
       "      <td>Faster payment</td>\n",
       "      <td>AKAME J</td>\n",
       "      <td>Transfers</td>\n",
       "      <td>5.00</td>\n",
       "      <td>GBP</td>\n",
       "      <td>MONZO-WTYVG</td>\n",
       "      <td>Mobile Phone</td>\n",
       "      <td>MONZO-WTYVG</td>\n",
       "      <td>0.0</td>\n",
       "      <td>5.00</td>\n",
       "      <td>May</td>\n",
       "      <td>Saturday</td>\n",
       "      <td>2pm</td>\n",
       "      <td>2024</td>\n",
       "    </tr>\n",
       "    <tr>\n",
       "      <th>1949</th>\n",
       "      <td>2024-05-30</td>\n",
       "      <td>15:43:09</td>\n",
       "      <td>Bacs (Direct Credit)</td>\n",
       "      <td>Greggs</td>\n",
       "      <td>Income</td>\n",
       "      <td>408.20</td>\n",
       "      <td>GBP</td>\n",
       "      <td>1000 0015108700</td>\n",
       "      <td>Mobile Phone</td>\n",
       "      <td>1000 0015108700</td>\n",
       "      <td>0.0</td>\n",
       "      <td>408.20</td>\n",
       "      <td>May</td>\n",
       "      <td>Thursday</td>\n",
       "      <td>3pm</td>\n",
       "      <td>2024</td>\n",
       "    </tr>\n",
       "    <tr>\n",
       "      <th>1967</th>\n",
       "      <td>2024-05-31</td>\n",
       "      <td>10:37:08</td>\n",
       "      <td>Faster payment</td>\n",
       "      <td>AKAME J</td>\n",
       "      <td>Transfers</td>\n",
       "      <td>10.00</td>\n",
       "      <td>GBP</td>\n",
       "      <td>MONZO-PZHBG</td>\n",
       "      <td>Mobile Phone</td>\n",
       "      <td>MONZO-PZHBG</td>\n",
       "      <td>0.0</td>\n",
       "      <td>10.00</td>\n",
       "      <td>May</td>\n",
       "      <td>Friday</td>\n",
       "      <td>10am</td>\n",
       "      <td>2024</td>\n",
       "    </tr>\n",
       "    <tr>\n",
       "      <th>1970</th>\n",
       "      <td>2024-05-31</td>\n",
       "      <td>15:34:30</td>\n",
       "      <td>rewards</td>\n",
       "      <td>Cashback</td>\n",
       "      <td>Income</td>\n",
       "      <td>0.05</td>\n",
       "      <td>GBP</td>\n",
       "      <td>NaN</td>\n",
       "      <td>Mobile Phone</td>\n",
       "      <td>Cashback</td>\n",
       "      <td>0.0</td>\n",
       "      <td>0.05</td>\n",
       "      <td>May</td>\n",
       "      <td>Friday</td>\n",
       "      <td>3pm</td>\n",
       "      <td>2024</td>\n",
       "    </tr>\n",
       "    <tr>\n",
       "      <th>1971</th>\n",
       "      <td>2024-05-31</td>\n",
       "      <td>15:35:42</td>\n",
       "      <td>Faster payment</td>\n",
       "      <td>AKAME J</td>\n",
       "      <td>Transfers</td>\n",
       "      <td>0.09</td>\n",
       "      <td>GBP</td>\n",
       "      <td>MONZO-ZJCWR</td>\n",
       "      <td>Mobile Phone</td>\n",
       "      <td>MONZO-ZJCWR</td>\n",
       "      <td>0.0</td>\n",
       "      <td>0.09</td>\n",
       "      <td>May</td>\n",
       "      <td>Friday</td>\n",
       "      <td>3pm</td>\n",
       "      <td>2024</td>\n",
       "    </tr>\n",
       "  </tbody>\n",
       "</table>\n",
       "</div>"
      ],
      "text/plain": [
       "           Date      Time                  Type              Name   Category  \\\n",
       "1850 2024-05-02  00:00:28  Bacs (Direct Credit)            Greggs     Income   \n",
       "1861 2024-05-10  00:01:51  Bacs (Direct Credit)            Greggs     Income   \n",
       "1869 2024-05-10  15:33:51        Faster payment             LEMFI  Transfers   \n",
       "1877 2024-05-15  19:29:33  Bacs (Direct Credit)            Greggs     Income   \n",
       "1882 2024-05-15  19:32:55        Faster payment           AKAME J  Transfers   \n",
       "1919 2024-05-23  00:00:07  Bacs (Direct Credit)            Greggs     Income   \n",
       "1939 2024-05-25  09:26:52        Faster payment  Adekola Adesokan      Bills   \n",
       "1942 2024-05-25  14:47:04        Faster payment           AKAME J  Transfers   \n",
       "1949 2024-05-30  15:43:09  Bacs (Direct Credit)            Greggs     Income   \n",
       "1967 2024-05-31  10:37:08        Faster payment           AKAME J  Transfers   \n",
       "1970 2024-05-31  15:34:30               rewards          Cashback     Income   \n",
       "1971 2024-05-31  15:35:42        Faster payment           AKAME J  Transfers   \n",
       "\n",
       "       Amount Currency    Notes and #tags       Address        Description  \\\n",
       "1850   351.27      GBP    1000 0015108700  Mobile Phone    1000 0015108700   \n",
       "1861   284.85      GBP    1000 0015108700  Mobile Phone    1000 0015108700   \n",
       "1869  1595.75      GBP      64274cdf-e28b  Mobile Phone      64274cdf-e28b   \n",
       "1877   433.57      GBP    1000 0015108700  Mobile Phone    1000 0015108700   \n",
       "1882   384.00      GBP        MONZO-WDXPZ  Mobile Phone        MONZO-WDXPZ   \n",
       "1919   300.87      GBP    1000 0015108700  Mobile Phone    1000 0015108700   \n",
       "1939    10.00      GBP  Sent from Revolut  Mobile Phone  Sent from Revolut   \n",
       "1942     5.00      GBP        MONZO-WTYVG  Mobile Phone        MONZO-WTYVG   \n",
       "1949   408.20      GBP    1000 0015108700  Mobile Phone    1000 0015108700   \n",
       "1967    10.00      GBP        MONZO-PZHBG  Mobile Phone        MONZO-PZHBG   \n",
       "1970     0.05      GBP                NaN  Mobile Phone           Cashback   \n",
       "1971     0.09      GBP        MONZO-ZJCWR  Mobile Phone        MONZO-ZJCWR   \n",
       "\n",
       "      Money Out  Money In Month        Day  Hour  Year  \n",
       "1850        0.0    351.27   May   Thursday  12am  2024  \n",
       "1861        0.0    284.85   May     Friday  12am  2024  \n",
       "1869        0.0   1595.75   May     Friday   3pm  2024  \n",
       "1877        0.0    433.57   May  Wednesday   7pm  2024  \n",
       "1882        0.0    384.00   May  Wednesday   7pm  2024  \n",
       "1919        0.0    300.87   May   Thursday  12am  2024  \n",
       "1939        0.0     10.00   May   Saturday   9am  2024  \n",
       "1942        0.0      5.00   May   Saturday   2pm  2024  \n",
       "1949        0.0    408.20   May   Thursday   3pm  2024  \n",
       "1967        0.0     10.00   May     Friday  10am  2024  \n",
       "1970        0.0      0.05   May     Friday   3pm  2024  \n",
       "1971        0.0      0.09   May     Friday   3pm  2024  "
      ]
     },
     "execution_count": 145,
     "metadata": {},
     "output_type": "execute_result"
    }
   ],
   "source": [
    "filter[filter['Month'] =='May']"
   ]
  },
  {
   "cell_type": "markdown",
   "id": "d2e98470-1fa6-4ce3-9f5a-11d0896b00fa",
   "metadata": {},
   "source": [
    "I have seen where the issue came from. I had someone mistakenly send some to money to me which I returned. That is what is messing up with the analysis. What I will do now is to drop that row."
   ]
  },
  {
   "cell_type": "code",
   "execution_count": 146,
   "id": "cf06cd1c-197f-4e61-8343-ae4ef80991f2",
   "metadata": {},
   "outputs": [],
   "source": [
    "data_2024 = data_2024.drop(1869)"
   ]
  },
  {
   "cell_type": "code",
   "execution_count": 147,
   "id": "9314492d-d37c-4323-9a20-d44620b3af63",
   "metadata": {},
   "outputs": [],
   "source": [
    "data_2024_pivot = data_2024.groupby(['Month', 'Category'], observed=False)['Money Out'].sum()\\\n",
    ".reset_index()\\\n",
    ".pivot(columns='Category', index = 'Month', values = 'Money Out')\\\n",
    ".drop(columns='Transfers')"
   ]
  },
  {
   "cell_type": "code",
   "execution_count": 148,
   "id": "bd0de69d-5fa4-4708-9576-2f8a56cff79b",
   "metadata": {},
   "outputs": [],
   "source": [
    "filter = data_2024[(data_2024['Category'] == 'Income')|((data_2024['Money In']>0) & ((data_2024['Type'] != 'Pot transfer')&(data_2024['Category'] == 'Savings')))|((data_2024['Money In']>0) & ((data_2024['Type'] != 'Pot transfer')))]\n",
    "money_in = filter.groupby('Month')['Amount'].sum()"
   ]
  },
  {
   "cell_type": "code",
   "execution_count": 149,
   "id": "a2ecdc6e-0bc3-4492-8d97-ee028e1308ab",
   "metadata": {},
   "outputs": [
    {
     "data": {
      "image/png": "[encoded data removed]",
      "text/plain": [
       "<Figure size 1200x600 with 1 Axes>"
      ]
     },
     "metadata": {},
     "output_type": "display_data"
    }
   ],
   "source": [
    "data_2024_pivot['Total Expenses'] = data_2024_pivot.drop(columns=['Savings']).sum(axis=1)\n",
    "data_2024_pivot['Total Inflow'] = money_in.values\n",
    "\n",
    "data_long = data_2024_pivot.reset_index().melt(id_vars='Month', value_vars=['Savings', 'Total Expenses', 'Total Inflow'], \n",
    "                                               var_name='Category', value_name='Amount')\n",
    "\n",
    "# Plot the bar chart\n",
    "plt.figure(figsize=(12, 6))\n",
    "sns.barplot(data=data_long, x='Month', y='Amount', hue='Category', order=month_order)\n",
    "plt.title('Comparison of Savings, Inflows, and Total Expenses by Month')\n",
    "plt.ylabel('Amount')\n",
    "plt.xlabel('Month')\n",
    "plt.xticks(rotation=45)\n",
    "plt.show()"
   ]
  },
  {
   "cell_type": "markdown",
   "id": "74d0780e-0165-4f63-9f70-153f94b9c0f3",
   "metadata": {},
   "source": [
    "---\n",
    "### 3.What are my top 5 spending categories?"
   ]
  },
  {
   "cell_type": "code",
   "execution_count": 150,
   "id": "70e383ef-6a27-4539-afe0-d1985d50d808",
   "metadata": {},
   "outputs": [
    {
     "data": {
      "text/html": [
       "<div>\n",
       "<style scoped>\n",
       "    .dataframe tbody tr th:only-of-type {\n",
       "        vertical-align: middle;\n",
       "    }\n",
       "\n",
       "    .dataframe tbody tr th {\n",
       "        vertical-align: top;\n",
       "    }\n",
       "\n",
       "    .dataframe thead th {\n",
       "        text-align: right;\n",
       "    }\n",
       "</style>\n",
       "<table border=\"1\" class=\"dataframe\">\n",
       "  <thead>\n",
       "    <tr style=\"text-align: right;\">\n",
       "      <th></th>\n",
       "      <th>Category</th>\n",
       "      <th>Money Out</th>\n",
       "    </tr>\n",
       "  </thead>\n",
       "  <tbody>\n",
       "    <tr>\n",
       "      <th>0</th>\n",
       "      <td>Bills</td>\n",
       "      <td>14749.59</td>\n",
       "    </tr>\n",
       "    <tr>\n",
       "      <th>5</th>\n",
       "      <td>Family</td>\n",
       "      <td>4744.23</td>\n",
       "    </tr>\n",
       "    <tr>\n",
       "      <th>6</th>\n",
       "      <td>Finances</td>\n",
       "      <td>4038.00</td>\n",
       "    </tr>\n",
       "    <tr>\n",
       "      <th>13</th>\n",
       "      <td>Savings</td>\n",
       "      <td>3673.81</td>\n",
       "    </tr>\n",
       "    <tr>\n",
       "      <th>4</th>\n",
       "      <td>Expenses</td>\n",
       "      <td>2628.01</td>\n",
       "    </tr>\n",
       "  </tbody>\n",
       "</table>\n",
       "</div>"
      ],
      "text/plain": [
       "    Category  Money Out\n",
       "0      Bills   14749.59\n",
       "5     Family    4744.23\n",
       "6   Finances    4038.00\n",
       "13   Savings    3673.81\n",
       "4   Expenses    2628.01"
      ]
     },
     "execution_count": 150,
     "metadata": {},
     "output_type": "execute_result"
    }
   ],
   "source": [
    "category_spend = data_2024.groupby('Category', observed=False)['Money Out'].sum().drop(index='Transfers').reset_index().sort_values(by='Money Out', ascending=False)\n",
    "category_spend.head(5)"
   ]
  },
  {
   "cell_type": "markdown",
   "id": "ce58ad3a-d263-4627-ae7d-a4b3e744c8bd",
   "metadata": {},
   "source": [
    "---\n",
    "### 4.Do I tend to spend more on certain days of the week or times of the month?"
   ]
  },
  {
   "cell_type": "code",
   "execution_count": 151,
   "id": "a577b263-091a-45d2-9bc4-3c8e5c274d7f",
   "metadata": {},
   "outputs": [
    {
     "data": {
      "image/png": "[encoded data removed]",
      "text/plain": [
       "<Figure size 1400x1000 with 2 Axes>"
      ]
     },
     "metadata": {},
     "output_type": "display_data"
    }
   ],
   "source": [
    "day_order = ['Sunday', 'Monday', 'Tuesday', 'Wednesday', 'Thursday', 'Friday', 'Saturday']\n",
    "data_2024['Day'] = pd.Categorical(data_2024['Day'], categories=day_order, ordered=True)\n",
    "time_order = ['12am','1am','2am','3am','4am','5am','6am','7am','8am','9am','10am','11am','12pm','1pm','2pm','3pm','4pm','5pm','6pm','7pm','8pm','9pm','10pm','11pm']\n",
    "data_2024['Hour'] = pd.Categorical(data_2024['Hour'], categories=time_order, ordered=True)\n",
    "\n",
    "heatmap_data = data_2024.pivot_table(index='Day', columns='Hour', values='Money Out', aggfunc='sum')\n",
    "\n",
    "plt.figure(figsize=(14, 10))\n",
    "sns.heatmap(heatmap_data, cmap='Reds', annot=True, fmt='.1f', annot_kws={\"size\": 8})\n",
    "plt.title('Total Breakdown of 2024 Spending', fontsize=16, fontweight='bold')\n",
    "plt.xticks(rotation=45)\n",
    "plt.yticks(rotation=0)\n",
    "plt.savefig('2023_spending_heatmap.png', dpi=300, bbox_inches='tight')\n",
    "plt.show()"
   ]
  },
  {
   "cell_type": "markdown",
   "id": "89bb82e0-12de-4ef3-af92-737918f211f6",
   "metadata": {},
   "source": [
    "It seems I spend the most on Wednesday and Thursday. This is because I receive my weekly pay on Thursday. Also, with my bank, Monzo, I am able to receive to my paycheck a day earlier on Wednesdays from 4pm. \n",
    "\n",
    "Seeing I spend a lot on Wednesday and Thursday, I will like to see which categories make up the bulk of my transactions on these days."
   ]
  },
  {
   "cell_type": "code",
   "execution_count": 152,
   "id": "45d08355-8ec1-4205-b9b4-91dbb5bdaeda",
   "metadata": {},
   "outputs": [
    {
     "data": {
      "image/png": "[encoded data removed]",
      "text/plain": [
       "<Figure size 1400x1000 with 2 Axes>"
      ]
     },
     "metadata": {},
     "output_type": "display_data"
    }
   ],
   "source": [
    "\n",
    "heatmap_data = data_2024.pivot_table(index='Day', columns='Category', values='Money Out', aggfunc='sum')\n",
    "\n",
    "plt.figure(figsize=(14, 10))\n",
    "sns.heatmap(heatmap_data, cmap='Reds', annot=True, fmt='.1f', annot_kws={\"size\": 8})\n",
    "plt.title('Heatmap of Category Spending by Day', fontsize=16, fontweight='bold')\n",
    "plt.xticks(rotation=45)\n",
    "plt.yticks(rotation=0)\n",
    "plt.savefig('2023_spending_heatmap.png', dpi=300, bbox_inches='tight')\n",
    "plt.show()"
   ]
  },
  {
   "cell_type": "markdown",
   "id": "ddd67a47-3877-47d1-ada7-2bdf8709c8c5",
   "metadata": {},
   "source": [
    "From the above, the majority of my transactions on Wednesday and Thursday, are paying my bills, carrying out transfers to my pots or other accounts, putting money in savings, and sorting family"
   ]
  },
  {
   "cell_type": "code",
   "execution_count": 153,
   "id": "634bc507-ee5d-4ce0-ae94-1a573f722cb8",
   "metadata": {},
   "outputs": [],
   "source": [
    "data_2024_tree = data_2024[data_2024['Category']!='Transfers']"
   ]
  },
  {
   "cell_type": "code",
   "execution_count": 154,
   "id": "e3bb5cd8-d86a-4c15-81e3-f44be1227857",
   "metadata": {},
   "outputs": [
    {
     "name": "stderr",
     "output_type": "stream",
     "text": [
      "C:\\Users\\Dell XPS 13\\AppData\\Local\\Programs\\Python\\Python312\\Lib\\site-packages\\plotly\\express\\_core.py:1699: FutureWarning:\n",
      "\n",
      "The default of observed=False is deprecated and will be changed to True in a future version of pandas. Pass observed=False to retain current behavior or observed=True to adopt the future default and silence this warning.\n",
      "\n"
     ]
    },
    {
     "data": {
      "application/vnd.plotly.v1+json": {
       "config": {
        "plotlyServerURL": "https://plot.ly"
       },
       "data": [
        {
         "branchvalues": "total",
         "customdata": [
          [
           null
          ],
          [
           null
          ],
          [
           null
          ],
          [
           "Shopping"
          ],
          [
           "Finances"
          ],
          [
           null
          ],
          [
           "Finances"
          ],
          [
           null
          ],
          [
           "Eating out"
          ],
          [
           "Eating out"
          ],
          [
           "General"
          ],
          [
           null
          ],
          [
           null
          ],
          [
           "Gifts"
          ],
          [
           null
          ],
          [
           "Gifts"
          ],
          [
           null
          ],
          [
           null
          ],
          [
           "Gifts"
          ],
          [
           "(?)"
          ],
          [
           "Groceries"
          ],
          [
           "Savings"
          ],
          [
           "Savings"
          ],
          [
           null
          ],
          [
           "Savings"
          ],
          [
           null
          ],
          [
           "Charity"
          ],
          [
           "Income"
          ],
          [
           "Savings"
          ],
          [
           "Income"
          ],
          [
           null
          ],
          [
           "Expenses"
          ],
          [
           null
          ],
          [
           null
          ],
          [
           "Income"
          ],
          [
           null
          ],
          [
           null
          ],
          [
           null
          ],
          [
           "Savings"
          ],
          [
           "Family"
          ],
          [
           "Gifts"
          ],
          [
           "Groceries"
          ],
          [
           "(?)"
          ],
          [
           "Entertainment"
          ],
          [
           "(?)"
          ],
          [
           "Bills"
          ],
          [
           "Personal care"
          ],
          [
           null
          ],
          [
           null
          ],
          [
           "(?)"
          ],
          [
           "Savings"
          ],
          [
           "Bills"
          ],
          [
           "Finances"
          ],
          [
           "Finances"
          ],
          [
           "Bills"
          ],
          [
           "Groceries"
          ],
          [
           "Groceries"
          ],
          [
           "(?)"
          ],
          [
           "Savings"
          ],
          [
           null
          ],
          [
           null
          ],
          [
           null
          ],
          [
           null
          ],
          [
           "Charity"
          ],
          [
           "(?)"
          ],
          [
           "Income"
          ],
          [
           null
          ],
          [
           null
          ],
          [
           "(?)"
          ],
          [
           null
          ],
          [
           "Entertainment"
          ],
          [
           null
          ],
          [
           "Personal care"
          ],
          [
           null
          ],
          [
           "Shopping"
          ],
          [
           "Entertainment"
          ],
          [
           "Personal care"
          ],
          [
           "Shopping"
          ],
          [
           "Shopping"
          ],
          [
           "Expenses"
          ],
          [
           "(?)"
          ],
          [
           "Family"
          ],
          [
           "Entertainment"
          ],
          [
           null
          ],
          [
           "Expenses"
          ],
          [
           "Income"
          ],
          [
           null
          ],
          [
           null
          ],
          [
           null
          ],
          [
           "Income"
          ],
          [
           "Income"
          ],
          [
           null
          ],
          [
           null
          ],
          [
           null
          ],
          [
           null
          ],
          [
           "Finances"
          ],
          [
           "Savings"
          ],
          [
           null
          ],
          [
           "Personal care"
          ],
          [
           "Family"
          ],
          [
           null
          ],
          [
           "Family"
          ],
          [
           "Income"
          ],
          [
           "Finances"
          ],
          [
           "Transport"
          ],
          [
           "Transport"
          ],
          [
           "Family"
          ],
          [
           null
          ],
          [
           null
          ],
          [
           "Savings"
          ],
          [
           "Eating out"
          ],
          [
           "(?)"
          ],
          [
           null
          ],
          [
           "Savings"
          ],
          [
           null
          ],
          [
           "Transport"
          ],
          [
           "General"
          ],
          [
           "Bills"
          ],
          [
           "Gifts"
          ],
          [
           "Bills"
          ],
          [
           null
          ],
          [
           null
          ],
          [
           null
          ],
          [
           null
          ],
          [
           "(?)"
          ],
          [
           "Shopping"
          ],
          [
           "Groceries"
          ],
          [
           null
          ],
          [
           null
          ],
          [
           null
          ],
          [
           "Groceries"
          ],
          [
           "Family"
          ],
          [
           "Income"
          ],
          [
           "Income"
          ],
          [
           null
          ],
          [
           null
          ],
          [
           "General"
          ],
          [
           "Personal care"
          ],
          [
           "Shopping"
          ],
          [
           "Transport"
          ],
          [
           "Shopping"
          ],
          [
           "Shopping"
          ],
          [
           null
          ],
          [
           "Transport"
          ],
          [
           "Transport"
          ],
          [
           "Transport"
          ],
          [
           "Transport"
          ],
          [
           "Savings"
          ],
          [
           null
          ],
          [
           null
          ],
          [
           null
          ],
          [
           "Bills"
          ],
          [
           null
          ],
          [
           "Bills"
          ],
          [
           "Charity"
          ],
          [
           "Charity"
          ],
          [
           "Eating out"
          ],
          [
           "Eating out"
          ],
          [
           "Eating out"
          ],
          [
           "Entertainment"
          ],
          [
           null
          ],
          [
           "Entertainment"
          ],
          [
           "Entertainment"
          ],
          [
           "Expenses"
          ],
          [
           "Family"
          ],
          [
           "Finances"
          ],
          [
           "Finances"
          ],
          [
           "General"
          ],
          [
           "Expenses"
          ],
          [
           "Groceries"
          ],
          [
           "Income"
          ],
          [
           null
          ],
          [
           "(?)"
          ],
          [
           "Family"
          ],
          [
           null
          ],
          [
           "Family"
          ],
          [
           null
          ],
          [
           "Savings"
          ],
          [
           "General"
          ],
          [
           "Charity"
          ],
          [
           null
          ],
          [
           null
          ],
          [
           "Transport"
          ],
          [
           "Bills"
          ],
          [
           "Gifts"
          ],
          [
           "Income"
          ],
          [
           "Entertainment"
          ],
          [
           "Personal care"
          ],
          [
           "Groceries"
          ],
          [
           null
          ],
          [
           "General"
          ],
          [
           "Eating out"
          ],
          [
           "Bills"
          ],
          [
           "Bills"
          ],
          [
           "Charity"
          ],
          [
           "Charity"
          ],
          [
           "Groceries"
          ],
          [
           "Charity"
          ],
          [
           "General"
          ],
          [
           "(?)"
          ],
          [
           "Eating out"
          ],
          [
           "Eating out"
          ],
          [
           "Gifts"
          ],
          [
           "Eating out"
          ],
          [
           "Expenses"
          ],
          [
           "Family"
          ],
          [
           null
          ],
          [
           "Family"
          ],
          [
           "Eating out"
          ],
          [
           null
          ],
          [
           "Eating out"
          ],
          [
           "Bills"
          ],
          [
           "Charity"
          ],
          [
           "Bills"
          ],
          [
           "Family"
          ],
          [
           "Gifts"
          ],
          [
           null
          ],
          [
           "Charity"
          ],
          [
           "Groceries"
          ],
          [
           null
          ],
          [
           null
          ],
          [
           "Charity"
          ],
          [
           "Charity"
          ],
          [
           "Gifts"
          ],
          [
           "Groceries"
          ],
          [
           "Groceries"
          ],
          [
           null
          ],
          [
           "Expenses"
          ]
         ],
         "domain": {
          "x": [
           0,
           1
          ],
          "y": [
           0,
           1
          ]
         },
         "hovertemplate": "<b>%{parent}<br></b>%{label}<br>£%{value:.2f}<extra></extra>",
         "hovertext": [
          null,
          null,
          null,
          "Shopping",
          "Finances",
          null,
          "Finances",
          null,
          "Eating out",
          "Eating out",
          "General",
          null,
          null,
          "Gifts",
          null,
          "Gifts",
          null,
          null,
          "Gifts",
          "(?)",
          "Groceries",
          "Savings",
          "Savings",
          null,
          "Savings",
          null,
          "Charity",
          "Income",
          "Savings",
          "Income",
          null,
          "Expenses",
          null,
          null,
          "Income",
          null,
          null,
          null,
          "Savings",
          "Family",
          "Gifts",
          "Groceries",
          "(?)",
          "Entertainment",
          "(?)",
          "Bills",
          "Personal care",
          null,
          null,
          "(?)",
          "Savings",
          "Bills",
          "Finances",
          "Finances",
          "Bills",
          "Groceries",
          "Groceries",
          "(?)",
          "Savings",
          null,
          null,
          null,
          null,
          "Charity",
          "(?)",
          "Income",
          null,
          null,
          "(?)",
          null,
          "Entertainment",
          null,
          "Personal care",
          null,
          "Shopping",
          "Entertainment",
          "Personal care",
          "Shopping",
          "Shopping",
          "Expenses",
          "(?)",
          "Family",
          "Entertainment",
          null,
          "Expenses",
          "Income",
          null,
          null,
          null,
          "Income",
          "Income",
          null,
          null,
          null,
          null,
          "Finances",
          "Savings",
          null,
          "Personal care",
          "Family",
          null,
          "Family",
          "Income",
          "Finances",
          "Transport",
          "Transport",
          "Family",
          null,
          null,
          "Savings",
          "Eating out",
          "(?)",
          null,
          "Savings",
          null,
          "Transport",
          "General",
          "Bills",
          "Gifts",
          "Bills",
          null,
          null,
          null,
          null,
          "(?)",
          "Shopping",
          "Groceries",
          null,
          null,
          null,
          "Groceries",
          "Family",
          "Income",
          "Income",
          null,
          null,
          "General",
          "Personal care",
          "Shopping",
          "Transport",
          "Shopping",
          "Shopping",
          null,
          "Transport",
          "Transport",
          "Transport",
          "Transport",
          "Savings",
          null,
          null,
          null,
          "Bills",
          null,
          "Bills",
          "Charity",
          "Charity",
          "Eating out",
          "Eating out",
          "Eating out",
          "Entertainment",
          null,
          "Entertainment",
          "Entertainment",
          "Expenses",
          "Family",
          "Finances",
          "Finances",
          "General",
          "Expenses",
          "Groceries",
          "Income",
          null,
          "(?)",
          "Family",
          null,
          "Family",
          null,
          "Savings",
          "General",
          "Charity",
          null,
          null,
          "Transport",
          "Bills",
          "Gifts",
          "Income",
          "Entertainment",
          "Personal care",
          "Groceries",
          null,
          "General",
          "Eating out",
          "Bills",
          "Bills",
          "Charity",
          "Charity",
          "Groceries",
          "Charity",
          "General",
          "(?)",
          "Eating out",
          "Eating out",
          "Gifts",
          "Eating out",
          "Expenses",
          "Family",
          null,
          "Family",
          "Eating out",
          null,
          "Eating out",
          "Bills",
          "Charity",
          "Bills",
          "Family",
          "Gifts",
          null,
          "Charity",
          "Groceries",
          null,
          null,
          "Charity",
          "Charity",
          "Gifts",
          "Groceries",
          "Groceries",
          null,
          "Expenses"
         ],
         "ids": [
          "February/Finances",
          "December/Transfers",
          "September/Expenses",
          "February/Shopping",
          "December/Finances",
          "March/Personal care",
          "October/Finances",
          "September/Shit food",
          "December/Eating out",
          "August/Eating out",
          "April/General",
          "October/Shit food",
          "July/Transfers",
          "August/Gifts",
          "December/Gifts",
          "February/Gifts",
          "March/Entertainment",
          "May/Holidays",
          "March/Gifts",
          "November",
          "December/Groceries",
          "November/Savings",
          "May/Savings",
          "April/Holidays",
          "February/Savings",
          "June/Holidays",
          "January/Charity",
          "May/Income",
          "April/Savings",
          "March/Income",
          "August/Expenses",
          "June/Expenses",
          "March/Shopping",
          "February/Shit food",
          "January/Income",
          "March/Finances",
          "November/Shit food",
          "January/Shit food",
          "October/Savings",
          "February/Family",
          "April/Gifts",
          "July/Groceries",
          "April",
          "July/Entertainment",
          "February",
          "January/Bills",
          "October/Personal care",
          "September/Personal care",
          "November/Holidays",
          "July",
          "August/Savings",
          "March/Bills",
          "July/Finances",
          "June/Finances",
          "May/Bills",
          "November/Groceries",
          "March/Groceries",
          "December",
          "September/Savings",
          "April/Shit food",
          "June/Shit food",
          "August/Shit food",
          "December/Shit food",
          "December/Charity",
          "August",
          "July/Income",
          "November/Personal care",
          "June/Transfers",
          "May",
          "January/Entertainment",
          "February/Entertainment",
          "January/Personal care",
          "February/Personal care",
          "April/Transfers",
          "September/Shopping",
          "August/Entertainment",
          "December/Personal care",
          "October/Shopping",
          "November/Shopping",
          "July/Expenses",
          "March",
          "November/Family",
          "April/Entertainment",
          "May/Shopping",
          "May/Expenses",
          "September/Income",
          "October/Expenses",
          "May/Transfers",
          "November/Transfers",
          "October/Income",
          "November/Income",
          "October/Transfers",
          "July/Shopping",
          "May/Finances",
          "May/Gifts",
          "November/Finances",
          "July/Savings",
          "December/Holidays",
          "June/Personal care",
          "March/Family",
          "July/General",
          "June/Family",
          "April/Income",
          "April/Finances",
          "April/Transport",
          "August/Transport",
          "August/Family",
          "July/Holidays",
          "November/Expenses",
          "January/Savings",
          "January/Eating out",
          "January",
          "August/Personal care",
          "June/Savings",
          "December/Expenses",
          "November/Transport",
          "January/General",
          "October/Bills",
          "June/Gifts",
          "September/Bills",
          "June/Transport",
          "May/Shit food",
          "January/Transfers",
          "January/Gifts",
          "June",
          "June/Shopping",
          "June/Groceries",
          "March/Transfers",
          "March/Transport",
          "August/Holidays",
          "September/Groceries",
          "May/Family",
          "February/Income",
          "December/Income",
          "November/General",
          "May/General",
          "March/General",
          "May/Personal care",
          "January/Shopping",
          "December/Transport",
          "December/Shopping",
          "August/Shopping",
          "April/Shopping",
          "October/Transport",
          "February/Transport",
          "January/Transport",
          "July/Transport",
          "March/Savings",
          "July/Shit food",
          "September/Transfers",
          "May/Transport",
          "April/Bills",
          "April/Personal care",
          "June/Bills",
          "February/Charity",
          "March/Charity",
          "July/Eating out",
          "March/Eating out",
          "October/Eating out",
          "December/Entertainment",
          "June/Entertainment",
          "November/Entertainment",
          "October/Entertainment",
          "March/Expenses",
          "July/Family",
          "August/Finances",
          "September/Finances",
          "February/General",
          "January/Expenses",
          "January/Groceries",
          "August/Income",
          "October/Holidays",
          "September",
          "December/Family",
          "August/Transfers",
          "October/Family",
          "January/Holidays",
          "December/Savings",
          "August/General",
          "September/Charity",
          "September/Holidays",
          "March/Shit food",
          "September/Transport",
          "November/Bills",
          "July/Gifts",
          "June/Income",
          "September/Entertainment",
          "July/Personal care",
          "October/Groceries",
          "February/Holidays",
          "June/General",
          "April/Eating out",
          "August/Bills",
          "July/Bills",
          "August/Charity",
          "June/Charity",
          "April/Groceries",
          "May/Charity",
          "December/General",
          "October",
          "June/Eating out",
          "November/Eating out",
          "October/Gifts",
          "September/Eating out",
          "April/Expenses",
          "September/Family",
          "February/Transfers",
          "January/Family",
          "May/Eating out",
          "March/Holidays",
          "February/Eating out",
          "February/Bills",
          "July/Charity",
          "December/Bills",
          "April/Family",
          "November/Gifts",
          "September/General",
          "April/Charity",
          "May/Groceries",
          "January/Finances",
          "May/Entertainment",
          "November/Charity",
          "October/Charity",
          "September/Gifts",
          "February/Groceries",
          "August/Groceries",
          "October/General",
          "February/Expenses"
         ],
         "labels": [
          "Finances",
          "Transfers",
          "Expenses",
          "Shopping",
          "Finances",
          "Personal care",
          "Finances",
          "Shit food",
          "Eating out",
          "Eating out",
          "General",
          "Shit food",
          "Transfers",
          "Gifts",
          "Gifts",
          "Gifts",
          "Entertainment",
          "Holidays",
          "Gifts",
          "November",
          "Groceries",
          "Savings",
          "Savings",
          "Holidays",
          "Savings",
          "Holidays",
          "Charity",
          "Income",
          "Savings",
          "Income",
          "Expenses",
          "Expenses",
          "Shopping",
          "Shit food",
          "Income",
          "Finances",
          "Shit food",
          "Shit food",
          "Savings",
          "Family",
          "Gifts",
          "Groceries",
          "April",
          "Entertainment",
          "February",
          "Bills",
          "Personal care",
          "Personal care",
          "Holidays",
          "July",
          "Savings",
          "Bills",
          "Finances",
          "Finances",
          "Bills",
          "Groceries",
          "Groceries",
          "December",
          "Savings",
          "Shit food",
          "Shit food",
          "Shit food",
          "Shit food",
          "Charity",
          "August",
          "Income",
          "Personal care",
          "Transfers",
          "May",
          "Entertainment",
          "Entertainment",
          "Personal care",
          "Personal care",
          "Transfers",
          "Shopping",
          "Entertainment",
          "Personal care",
          "Shopping",
          "Shopping",
          "Expenses",
          "March",
          "Family",
          "Entertainment",
          "Shopping",
          "Expenses",
          "Income",
          "Expenses",
          "Transfers",
          "Transfers",
          "Income",
          "Income",
          "Transfers",
          "Shopping",
          "Finances",
          "Gifts",
          "Finances",
          "Savings",
          "Holidays",
          "Personal care",
          "Family",
          "General",
          "Family",
          "Income",
          "Finances",
          "Transport",
          "Transport",
          "Family",
          "Holidays",
          "Expenses",
          "Savings",
          "Eating out",
          "January",
          "Personal care",
          "Savings",
          "Expenses",
          "Transport",
          "General",
          "Bills",
          "Gifts",
          "Bills",
          "Transport",
          "Shit food",
          "Transfers",
          "Gifts",
          "June",
          "Shopping",
          "Groceries",
          "Transfers",
          "Transport",
          "Holidays",
          "Groceries",
          "Family",
          "Income",
          "Income",
          "General",
          "General",
          "General",
          "Personal care",
          "Shopping",
          "Transport",
          "Shopping",
          "Shopping",
          "Shopping",
          "Transport",
          "Transport",
          "Transport",
          "Transport",
          "Savings",
          "Shit food",
          "Transfers",
          "Transport",
          "Bills",
          "Personal care",
          "Bills",
          "Charity",
          "Charity",
          "Eating out",
          "Eating out",
          "Eating out",
          "Entertainment",
          "Entertainment",
          "Entertainment",
          "Entertainment",
          "Expenses",
          "Family",
          "Finances",
          "Finances",
          "General",
          "Expenses",
          "Groceries",
          "Income",
          "Holidays",
          "September",
          "Family",
          "Transfers",
          "Family",
          "Holidays",
          "Savings",
          "General",
          "Charity",
          "Holidays",
          "Shit food",
          "Transport",
          "Bills",
          "Gifts",
          "Income",
          "Entertainment",
          "Personal care",
          "Groceries",
          "Holidays",
          "General",
          "Eating out",
          "Bills",
          "Bills",
          "Charity",
          "Charity",
          "Groceries",
          "Charity",
          "General",
          "October",
          "Eating out",
          "Eating out",
          "Gifts",
          "Eating out",
          "Expenses",
          "Family",
          "Transfers",
          "Family",
          "Eating out",
          "Holidays",
          "Eating out",
          "Bills",
          "Charity",
          "Bills",
          "Family",
          "Gifts",
          "General",
          "Charity",
          "Groceries",
          "Finances",
          "Entertainment",
          "Charity",
          "Charity",
          "Gifts",
          "Groceries",
          "Groceries",
          "General",
          "Expenses"
         ],
         "marker": {
          "colors": [
           "#AA0DFE",
           "#AA0DFE",
           "#AA0DFE",
           "#3283FE",
           "#85660D",
           "#AA0DFE",
           "#85660D",
           "#AA0DFE",
           "#782AB6",
           "#782AB6",
           "#565656",
           "#AA0DFE",
           "#AA0DFE",
           "#1C8356",
           "#AA0DFE",
           "#1C8356",
           "#AA0DFE",
           "#AA0DFE",
           "#1C8356",
           "#16FF32",
           "#F7E1A0",
           "#E2E2E2",
           "#E2E2E2",
           "#AA0DFE",
           "#E2E2E2",
           "#AA0DFE",
           "#1CBE4F",
           "#C4451C",
           "#E2E2E2",
           "#C4451C",
           "#AA0DFE",
           "#DEA0FD",
           "#AA0DFE",
           "#AA0DFE",
           "#C4451C",
           "#AA0DFE",
           "#AA0DFE",
           "#AA0DFE",
           "#E2E2E2",
           "#FE00FA",
           "#1C8356",
           "#F7E1A0",
           "#16FF32",
           "#325A9B",
           "#16FF32",
           "#FEAF16",
           "#F8A19F",
           "#AA0DFE",
           "#AA0DFE",
           "#16FF32",
           "#E2E2E2",
           "#FEAF16",
           "#85660D",
           "#85660D",
           "#FEAF16",
           "#F7E1A0",
           "#F7E1A0",
           "#16FF32",
           "#E2E2E2",
           "#AA0DFE",
           "#AA0DFE",
           "#AA0DFE",
           "#AA0DFE",
           "#1CBE4F",
           "#16FF32",
           "#C4451C",
           "#AA0DFE",
           "#AA0DFE",
           "#16FF32",
           "#AA0DFE",
           "#325A9B",
           "#AA0DFE",
           "#F8A19F",
           "#AA0DFE",
           "#3283FE",
           "#325A9B",
           "#F8A19F",
           "#3283FE",
           "#3283FE",
           "#DEA0FD",
           "#16FF32",
           "#FE00FA",
           "#325A9B",
           "#AA0DFE",
           "#DEA0FD",
           "#C4451C",
           "#AA0DFE",
           "#AA0DFE",
           "#AA0DFE",
           "#C4451C",
           "#C4451C",
           "#AA0DFE",
           "#AA0DFE",
           "#AA0DFE",
           "#AA0DFE",
           "#85660D",
           "#E2E2E2",
           "#AA0DFE",
           "#F8A19F",
           "#FE00FA",
           "#AA0DFE",
           "#FE00FA",
           "#C4451C",
           "#85660D",
           "#90AD1C",
           "#90AD1C",
           "#FE00FA",
           "#AA0DFE",
           "#AA0DFE",
           "#E2E2E2",
           "#782AB6",
           "#16FF32",
           "#AA0DFE",
           "#E2E2E2",
           "#AA0DFE",
           "#90AD1C",
           "#565656",
           "#FEAF16",
           "#1C8356",
           "#FEAF16",
           "#AA0DFE",
           "#AA0DFE",
           "#AA0DFE",
           "#AA0DFE",
           "#16FF32",
           "#3283FE",
           "#F7E1A0",
           "#AA0DFE",
           "#AA0DFE",
           "#AA0DFE",
           "#F7E1A0",
           "#FE00FA",
           "#C4451C",
           "#C4451C",
           "#AA0DFE",
           "#AA0DFE",
           "#565656",
           "#F8A19F",
           "#3283FE",
           "#90AD1C",
           "#3283FE",
           "#3283FE",
           "#AA0DFE",
           "#90AD1C",
           "#90AD1C",
           "#90AD1C",
           "#90AD1C",
           "#E2E2E2",
           "#AA0DFE",
           "#AA0DFE",
           "#AA0DFE",
           "#FEAF16",
           "#AA0DFE",
           "#FEAF16",
           "#1CBE4F",
           "#1CBE4F",
           "#782AB6",
           "#782AB6",
           "#782AB6",
           "#325A9B",
           "#AA0DFE",
           "#325A9B",
           "#325A9B",
           "#DEA0FD",
           "#FE00FA",
           "#85660D",
           "#85660D",
           "#565656",
           "#DEA0FD",
           "#F7E1A0",
           "#C4451C",
           "#AA0DFE",
           "#16FF32",
           "#FE00FA",
           "#AA0DFE",
           "#FE00FA",
           "#AA0DFE",
           "#E2E2E2",
           "#565656",
           "#1CBE4F",
           "#AA0DFE",
           "#AA0DFE",
           "#90AD1C",
           "#FEAF16",
           "#1C8356",
           "#C4451C",
           "#325A9B",
           "#F8A19F",
           "#F7E1A0",
           "#AA0DFE",
           "#565656",
           "#782AB6",
           "#FEAF16",
           "#FEAF16",
           "#1CBE4F",
           "#1CBE4F",
           "#F7E1A0",
           "#1CBE4F",
           "#565656",
           "#16FF32",
           "#782AB6",
           "#782AB6",
           "#1C8356",
           "#782AB6",
           "#DEA0FD",
           "#FE00FA",
           "#AA0DFE",
           "#FE00FA",
           "#782AB6",
           "#AA0DFE",
           "#782AB6",
           "#FEAF16",
           "#1CBE4F",
           "#FEAF16",
           "#FE00FA",
           "#1C8356",
           "#AA0DFE",
           "#1CBE4F",
           "#F7E1A0",
           "#AA0DFE",
           "#AA0DFE",
           "#1CBE4F",
           "#1CBE4F",
           "#1C8356",
           "#F7E1A0",
           "#F7E1A0",
           "#AA0DFE",
           "#DEA0FD"
          ]
         },
         "maxdepth": 2,
         "name": "",
         "parents": [
          "February",
          "December",
          "September",
          "February",
          "December",
          "March",
          "October",
          "September",
          "December",
          "August",
          "April",
          "October",
          "July",
          "August",
          "December",
          "February",
          "March",
          "May",
          "March",
          "",
          "December",
          "November",
          "May",
          "April",
          "February",
          "June",
          "January",
          "May",
          "April",
          "March",
          "August",
          "June",
          "March",
          "February",
          "January",
          "March",
          "November",
          "January",
          "October",
          "February",
          "April",
          "July",
          "",
          "July",
          "",
          "January",
          "October",
          "September",
          "November",
          "",
          "August",
          "March",
          "July",
          "June",
          "May",
          "November",
          "March",
          "",
          "September",
          "April",
          "June",
          "August",
          "December",
          "December",
          "",
          "July",
          "November",
          "June",
          "",
          "January",
          "February",
          "January",
          "February",
          "April",
          "September",
          "August",
          "December",
          "October",
          "November",
          "July",
          "",
          "November",
          "April",
          "May",
          "May",
          "September",
          "October",
          "May",
          "November",
          "October",
          "November",
          "October",
          "July",
          "May",
          "May",
          "November",
          "July",
          "December",
          "June",
          "March",
          "July",
          "June",
          "April",
          "April",
          "April",
          "August",
          "August",
          "July",
          "November",
          "January",
          "January",
          "",
          "August",
          "June",
          "December",
          "November",
          "January",
          "October",
          "June",
          "September",
          "June",
          "May",
          "January",
          "January",
          "",
          "June",
          "June",
          "March",
          "March",
          "August",
          "September",
          "May",
          "February",
          "December",
          "November",
          "May",
          "March",
          "May",
          "January",
          "December",
          "December",
          "August",
          "April",
          "October",
          "February",
          "January",
          "July",
          "March",
          "July",
          "September",
          "May",
          "April",
          "April",
          "June",
          "February",
          "March",
          "July",
          "March",
          "October",
          "December",
          "June",
          "November",
          "October",
          "March",
          "July",
          "August",
          "September",
          "February",
          "January",
          "January",
          "August",
          "October",
          "",
          "December",
          "August",
          "October",
          "January",
          "December",
          "August",
          "September",
          "September",
          "March",
          "September",
          "November",
          "July",
          "June",
          "September",
          "July",
          "October",
          "February",
          "June",
          "April",
          "August",
          "July",
          "August",
          "June",
          "April",
          "May",
          "December",
          "",
          "June",
          "November",
          "October",
          "September",
          "April",
          "September",
          "February",
          "January",
          "May",
          "March",
          "February",
          "February",
          "July",
          "December",
          "April",
          "November",
          "September",
          "April",
          "May",
          "January",
          "May",
          "November",
          "October",
          "September",
          "February",
          "August",
          "October",
          "February"
         ],
         "type": "treemap",
         "values": [
          0,
          0,
          0,
          11.99,
          2,
          0,
          565,
          0,
          18.54,
          21.49,
          2078.55,
          0,
          0,
          15,
          0,
          30,
          0,
          0,
          20,
          2200.89,
          104.61,
          571.8100000000001,
          30.09,
          0,
          78.24,
          0,
          128.44,
          0,
          280,
          0,
          0,
          0.01,
          0,
          0,
          0,
          0,
          0,
          0,
          666.21,
          107,
          0,
          46.96,
          6622.15,
          12.25,
          3168.85,
          781.81,
          43.89,
          0,
          0,
          1862.23,
          27.18,
          6402.34,
          470,
          250,
          395,
          52.92,
          75.17,
          2616.02,
          710.31,
          0,
          0,
          0,
          0,
          257.65,
          2854.64,
          0,
          0,
          0,
          1817.56,
          0,
          23.2,
          0,
          68,
          0,
          8.99,
          8.95,
          11,
          50.84,
          0,
          16,
          7054.4400000000005,
          384,
          13.3,
          0,
          815,
          0,
          0,
          0,
          0,
          0,
          0,
          0,
          0,
          0,
          0,
          250,
          326.08,
          0,
          14.99,
          265,
          0,
          339,
          0,
          500,
          5,
          24.8,
          467,
          0,
          0,
          128.41,
          14.129999999999999,
          1587.27,
          0,
          241.44,
          0,
          76.4,
          0.4,
          344,
          10,
          579,
          0,
          0,
          0,
          0,
          1506.24,
          8,
          11.5,
          0,
          0,
          0,
          78.28999999999999,
          239,
          0,
          0,
          0,
          0,
          26,
          26.99,
          24.380000000000003,
          56,
          32.97,
          22,
          0,
          52.4,
          109.78999999999999,
          69.69,
          0,
          0.87,
          0,
          0,
          0,
          1247,
          0,
          420,
          124.05,
          120.82,
          9.08,
          29.24,
          62.95,
          50,
          0,
          0,
          81.5,
          115,
          303.78999999999996,
          1501,
          500,
          14.5,
          20,
          61.010000000000005,
          0,
          0,
          2720.79,
          885.43,
          0,
          357.1,
          0,
          613.17,
          0,
          247.24,
          0,
          0,
          29.200000000000003,
          593.5,
          10,
          0,
          23.99,
          0.01,
          59.89,
          0,
          0,
          17.34,
          434,
          459.99,
          249.49,
          208.89999999999998,
          57.79,
          275.21,
          10,
          2620.23,
          2.4,
          25.21,
          11.33,
          43.86,
          1632,
          449.90999999999997,
          0,
          359,
          4.85,
          0,
          15.49,
          2518.3,
          208.07,
          574.65,
          588,
          45.55,
          0,
          203.17000000000002,
          31.42,
          0,
          0,
          201.5,
          325.12,
          50,
          38.29,
          83.73,
          0,
          30
         ]
        }
       ],
       "layout": {
        "autosize": true,
        "height": 900,
        "legend": {
         "tracegroupgap": 0
        },
        "margin": {
         "t": 100
        },
        "template": {
         "data": {
          "bar": [
           {
            "error_x": {
             "color": "#2a3f5f"
            },
            "error_y": {
             "color": "#2a3f5f"
            },
            "marker": {
             "line": {
              "color": "#E5ECF6",
              "width": 0.5
             },
             "pattern": {
              "fillmode": "overlay",
              "size": 10,
              "solidity": 0.2
             }
            },
            "type": "bar"
           }
          ],
          "barpolar": [
           {
            "marker": {
             "line": {
              "color": "#E5ECF6",
              "width": 0.5
             },
             "pattern": {
              "fillmode": "overlay",
              "size": 10,
              "solidity": 0.2
             }
            },
            "type": "barpolar"
           }
          ],
          "carpet": [
           {
            "aaxis": {
             "endlinecolor": "#2a3f5f",
             "gridcolor": "white",
             "linecolor": "white",
             "minorgridcolor": "white",
             "startlinecolor": "#2a3f5f"
            },
            "baxis": {
             "endlinecolor": "#2a3f5f",
             "gridcolor": "white",
             "linecolor": "white",
             "minorgridcolor": "white",
             "startlinecolor": "#2a3f5f"
            },
            "type": "carpet"
           }
          ],
          "choropleth": [
           {
            "colorbar": {
             "outlinewidth": 0,
             "ticks": ""
            },
            "type": "choropleth"
           }
          ],
          "contour": [
           {
            "colorbar": {
             "outlinewidth": 0,
             "ticks": ""
            },
            "colorscale": [
             [
              0,
              "#0d0887"
             ],
             [
              0.1111111111111111,
              "#46039f"
             ],
             [
              0.2222222222222222,
              "#7201a8"
             ],
             [
              0.3333333333333333,
              "#9c179e"
             ],
             [
              0.4444444444444444,
              "#bd3786"
             ],
             [
              0.5555555555555556,
              "#d8576b"
             ],
             [
              0.6666666666666666,
              "#ed7953"
             ],
             [
              0.7777777777777778,
              "#fb9f3a"
             ],
             [
              0.8888888888888888,
              "#fdca26"
             ],
             [
              1,
              "#f0f921"
             ]
            ],
            "type": "contour"
           }
          ],
          "contourcarpet": [
           {
            "colorbar": {
             "outlinewidth": 0,
             "ticks": ""
            },
            "type": "contourcarpet"
           }
          ],
          "heatmap": [
           {
            "colorbar": {
             "outlinewidth": 0,
             "ticks": ""
            },
            "colorscale": [
             [
              0,
              "#0d0887"
             ],
             [
              0.1111111111111111,
              "#46039f"
             ],
             [
              0.2222222222222222,
              "#7201a8"
             ],
             [
              0.3333333333333333,
              "#9c179e"
             ],
             [
              0.4444444444444444,
              "#bd3786"
             ],
             [
              0.5555555555555556,
              "#d8576b"
             ],
             [
              0.6666666666666666,
              "#ed7953"
             ],
             [
              0.7777777777777778,
              "#fb9f3a"
             ],
             [
              0.8888888888888888,
              "#fdca26"
             ],
             [
              1,
              "#f0f921"
             ]
            ],
            "type": "heatmap"
           }
          ],
          "heatmapgl": [
           {
            "colorbar": {
             "outlinewidth": 0,
             "ticks": ""
            },
            "colorscale": [
             [
              0,
              "#0d0887"
             ],
             [
              0.1111111111111111,
              "#46039f"
             ],
             [
              0.2222222222222222,
              "#7201a8"
             ],
             [
              0.3333333333333333,
              "#9c179e"
             ],
             [
              0.4444444444444444,
              "#bd3786"
             ],
             [
              0.5555555555555556,
              "#d8576b"
             ],
             [
              0.6666666666666666,
              "#ed7953"
             ],
             [
              0.7777777777777778,
              "#fb9f3a"
             ],
             [
              0.8888888888888888,
              "#fdca26"
             ],
             [
              1,
              "#f0f921"
             ]
            ],
            "type": "heatmapgl"
           }
          ],
          "histogram": [
           {
            "marker": {
             "pattern": {
              "fillmode": "overlay",
              "size": 10,
              "solidity": 0.2
             }
            },
            "type": "histogram"
           }
          ],
          "histogram2d": [
           {
            "colorbar": {
             "outlinewidth": 0,
             "ticks": ""
            },
            "colorscale": [
             [
              0,
              "#0d0887"
             ],
             [
              0.1111111111111111,
              "#46039f"
             ],
             [
              0.2222222222222222,
              "#7201a8"
             ],
             [
              0.3333333333333333,
              "#9c179e"
             ],
             [
              0.4444444444444444,
              "#bd3786"
             ],
             [
              0.5555555555555556,
              "#d8576b"
             ],
             [
              0.6666666666666666,
              "#ed7953"
             ],
             [
              0.7777777777777778,
              "#fb9f3a"
             ],
             [
              0.8888888888888888,
              "#fdca26"
             ],
             [
              1,
              "#f0f921"
             ]
            ],
            "type": "histogram2d"
           }
          ],
          "histogram2dcontour": [
           {
            "colorbar": {
             "outlinewidth": 0,
             "ticks": ""
            },
            "colorscale": [
             [
              0,
              "#0d0887"
             ],
             [
              0.1111111111111111,
              "#46039f"
             ],
             [
              0.2222222222222222,
              "#7201a8"
             ],
             [
              0.3333333333333333,
              "#9c179e"
             ],
             [
              0.4444444444444444,
              "#bd3786"
             ],
             [
              0.5555555555555556,
              "#d8576b"
             ],
             [
              0.6666666666666666,
              "#ed7953"
             ],
             [
              0.7777777777777778,
              "#fb9f3a"
             ],
             [
              0.8888888888888888,
              "#fdca26"
             ],
             [
              1,
              "#f0f921"
             ]
            ],
            "type": "histogram2dcontour"
           }
          ],
          "mesh3d": [
           {
            "colorbar": {
             "outlinewidth": 0,
             "ticks": ""
            },
            "type": "mesh3d"
           }
          ],
          "parcoords": [
           {
            "line": {
             "colorbar": {
              "outlinewidth": 0,
              "ticks": ""
             }
            },
            "type": "parcoords"
           }
          ],
          "pie": [
           {
            "automargin": true,
            "type": "pie"
           }
          ],
          "scatter": [
           {
            "fillpattern": {
             "fillmode": "overlay",
             "size": 10,
             "solidity": 0.2
            },
            "type": "scatter"
           }
          ],
          "scatter3d": [
           {
            "line": {
             "colorbar": {
              "outlinewidth": 0,
              "ticks": ""
             }
            },
            "marker": {
             "colorbar": {
              "outlinewidth": 0,
              "ticks": ""
             }
            },
            "type": "scatter3d"
           }
          ],
          "scattercarpet": [
           {
            "marker": {
             "colorbar": {
              "outlinewidth": 0,
              "ticks": ""
             }
            },
            "type": "scattercarpet"
           }
          ],
          "scattergeo": [
           {
            "marker": {
             "colorbar": {
              "outlinewidth": 0,
              "ticks": ""
             }
            },
            "type": "scattergeo"
           }
          ],
          "scattergl": [
           {
            "marker": {
             "colorbar": {
              "outlinewidth": 0,
              "ticks": ""
             }
            },
            "type": "scattergl"
           }
          ],
          "scattermapbox": [
           {
            "marker": {
             "colorbar": {
              "outlinewidth": 0,
              "ticks": ""
             }
            },
            "type": "scattermapbox"
           }
          ],
          "scatterpolar": [
           {
            "marker": {
             "colorbar": {
              "outlinewidth": 0,
              "ticks": ""
             }
            },
            "type": "scatterpolar"
           }
          ],
          "scatterpolargl": [
           {
            "marker": {
             "colorbar": {
              "outlinewidth": 0,
              "ticks": ""
             }
            },
            "type": "scatterpolargl"
           }
          ],
          "scatterternary": [
           {
            "marker": {
             "colorbar": {
              "outlinewidth": 0,
              "ticks": ""
             }
            },
            "type": "scatterternary"
           }
          ],
          "surface": [
           {
            "colorbar": {
             "outlinewidth": 0,
             "ticks": ""
            },
            "colorscale": [
             [
              0,
              "#0d0887"
             ],
             [
              0.1111111111111111,
              "#46039f"
             ],
             [
              0.2222222222222222,
              "#7201a8"
             ],
             [
              0.3333333333333333,
              "#9c179e"
             ],
             [
              0.4444444444444444,
              "#bd3786"
             ],
             [
              0.5555555555555556,
              "#d8576b"
             ],
             [
              0.6666666666666666,
              "#ed7953"
             ],
             [
              0.7777777777777778,
              "#fb9f3a"
             ],
             [
              0.8888888888888888,
              "#fdca26"
             ],
             [
              1,
              "#f0f921"
             ]
            ],
            "type": "surface"
           }
          ],
          "table": [
           {
            "cells": {
             "fill": {
              "color": "#EBF0F8"
             },
             "line": {
              "color": "white"
             }
            },
            "header": {
             "fill": {
              "color": "#C8D4E3"
             },
             "line": {
              "color": "white"
             }
            },
            "type": "table"
           }
          ]
         },
         "layout": {
          "annotationdefaults": {
           "arrowcolor": "#2a3f5f",
           "arrowhead": 0,
           "arrowwidth": 1
          },
          "autotypenumbers": "strict",
          "coloraxis": {
           "colorbar": {
            "outlinewidth": 0,
            "ticks": ""
           }
          },
          "colorscale": {
           "diverging": [
            [
             0,
             "#8e0152"
            ],
            [
             0.1,
             "#c51b7d"
            ],
            [
             0.2,
             "#de77ae"
            ],
            [
             0.3,
             "#f1b6da"
            ],
            [
             0.4,
             "#fde0ef"
            ],
            [
             0.5,
             "#f7f7f7"
            ],
            [
             0.6,
             "#e6f5d0"
            ],
            [
             0.7,
             "#b8e186"
            ],
            [
             0.8,
             "#7fbc41"
            ],
            [
             0.9,
             "#4d9221"
            ],
            [
             1,
             "#276419"
            ]
           ],
           "sequential": [
            [
             0,
             "#0d0887"
            ],
            [
             0.1111111111111111,
             "#46039f"
            ],
            [
             0.2222222222222222,
             "#7201a8"
            ],
            [
             0.3333333333333333,
             "#9c179e"
            ],
            [
             0.4444444444444444,
             "#bd3786"
            ],
            [
             0.5555555555555556,
             "#d8576b"
            ],
            [
             0.6666666666666666,
             "#ed7953"
            ],
            [
             0.7777777777777778,
             "#fb9f3a"
            ],
            [
             0.8888888888888888,
             "#fdca26"
            ],
            [
             1,
             "#f0f921"
            ]
           ],
           "sequentialminus": [
            [
             0,
             "#0d0887"
            ],
            [
             0.1111111111111111,
             "#46039f"
            ],
            [
             0.2222222222222222,
             "#7201a8"
            ],
            [
             0.3333333333333333,
             "#9c179e"
            ],
            [
             0.4444444444444444,
             "#bd3786"
            ],
            [
             0.5555555555555556,
             "#d8576b"
            ],
            [
             0.6666666666666666,
             "#ed7953"
            ],
            [
             0.7777777777777778,
             "#fb9f3a"
            ],
            [
             0.8888888888888888,
             "#fdca26"
            ],
            [
             1,
             "#f0f921"
            ]
           ]
          },
          "colorway": [
           "#636efa",
           "#EF553B",
           "#00cc96",
           "#ab63fa",
           "#FFA15A",
           "#19d3f3",
           "#FF6692",
           "#B6E880",
           "#FF97FF",
           "#FECB52"
          ],
          "font": {
           "color": "#2a3f5f"
          },
          "geo": {
           "bgcolor": "white",
           "lakecolor": "white",
           "landcolor": "#E5ECF6",
           "showlakes": true,
           "showland": true,
           "subunitcolor": "white"
          },
          "hoverlabel": {
           "align": "left"
          },
          "hovermode": "closest",
          "mapbox": {
           "style": "light"
          },
          "paper_bgcolor": "white",
          "plot_bgcolor": "#E5ECF6",
          "polar": {
           "angularaxis": {
            "gridcolor": "white",
            "linecolor": "white",
            "ticks": ""
           },
           "bgcolor": "#E5ECF6",
           "radialaxis": {
            "gridcolor": "white",
            "linecolor": "white",
            "ticks": ""
           }
          },
          "scene": {
           "xaxis": {
            "backgroundcolor": "#E5ECF6",
            "gridcolor": "white",
            "gridwidth": 2,
            "linecolor": "white",
            "showbackground": true,
            "ticks": "",
            "zerolinecolor": "white"
           },
           "yaxis": {
            "backgroundcolor": "#E5ECF6",
            "gridcolor": "white",
            "gridwidth": 2,
            "linecolor": "white",
            "showbackground": true,
            "ticks": "",
            "zerolinecolor": "white"
           },
           "zaxis": {
            "backgroundcolor": "#E5ECF6",
            "gridcolor": "white",
            "gridwidth": 2,
            "linecolor": "white",
            "showbackground": true,
            "ticks": "",
            "zerolinecolor": "white"
           }
          },
          "shapedefaults": {
           "line": {
            "color": "#2a3f5f"
           }
          },
          "ternary": {
           "aaxis": {
            "gridcolor": "white",
            "linecolor": "white",
            "ticks": ""
           },
           "baxis": {
            "gridcolor": "white",
            "linecolor": "white",
            "ticks": ""
           },
           "bgcolor": "#E5ECF6",
           "caxis": {
            "gridcolor": "white",
            "linecolor": "white",
            "ticks": ""
           }
          },
          "title": {
           "x": 0.05
          },
          "xaxis": {
           "automargin": true,
           "gridcolor": "white",
           "linecolor": "white",
           "ticks": "",
           "title": {
            "standoff": 15
           },
           "zerolinecolor": "white",
           "zerolinewidth": 2
          },
          "yaxis": {
           "automargin": true,
           "gridcolor": "white",
           "linecolor": "white",
           "ticks": "",
           "title": {
            "standoff": 15
           },
           "zerolinecolor": "white",
           "zerolinewidth": 2
          }
         }
        },
        "title": {
         "font": {
          "color": "black",
          "family": "Arial, sans-serif",
          "size": 18
         },
         "text": "<b>2024 Spending Breakdown</b><br><span style='font-size:14px;color:gray;'>A breakdown of my spending by month and category.</span>",
         "x": 0.5,
         "xanchor": "center",
         "yanchor": "top"
        },
        "treemapcolorway": [
         "#AA0DFE",
         "#3283FE",
         "#85660D",
         "#782AB6",
         "#565656",
         "#1C8356",
         "#16FF32",
         "#F7E1A0",
         "#E2E2E2",
         "#1CBE4F",
         "#C4451C",
         "#DEA0FD",
         "#FE00FA",
         "#325A9B",
         "#FEAF16",
         "#F8A19F",
         "#90AD1C",
         "#F6222E",
         "#1CFFCE",
         "#2ED9FF",
         "#B10DA1",
         "#C075A6",
         "#FC1CBF",
         "#B00068",
         "#FBE426",
         "#FA0087"
        ],
        "width": 1000
       }
      },
      "image/png": "[encoded data removed]",
      "text/html": [
       "<div>                            <div id=\"df90fba1-9e55-496e-97c4-114166bba6cf\" class=\"plotly-graph-div\" style=\"height:900px; width:1000px;\"></div>            <script type=\"text/javascript\">                require([\"plotly\"], function(Plotly) {                    window.PLOTLYENV=window.PLOTLYENV || {};                                    if (document.getElementById(\"df90fba1-9e55-496e-97c4-114166bba6cf\")) {                    Plotly.newPlot(                        \"df90fba1-9e55-496e-97c4-114166bba6cf\",                        [{\"branchvalues\":\"total\",\"customdata\":[[null],[null],[null],[\"Shopping\"],[\"Finances\"],[null],[\"Finances\"],[null],[\"Eating out\"],[\"Eating out\"],[\"General\"],[null],[null],[\"Gifts\"],[null],[\"Gifts\"],[null],[null],[\"Gifts\"],[\"(?)\"],[\"Groceries\"],[\"Savings\"],[\"Savings\"],[null],[\"Savings\"],[null],[\"Charity\"],[\"Income\"],[\"Savings\"],[\"Income\"],[null],[\"Expenses\"],[null],[null],[\"Income\"],[null],[null],[null],[\"Savings\"],[\"Family\"],[\"Gifts\"],[\"Groceries\"],[\"(?)\"],[\"Entertainment\"],[\"(?)\"],[\"Bills\"],[\"Personal care\"],[null],[null],[\"(?)\"],[\"Savings\"],[\"Bills\"],[\"Finances\"],[\"Finances\"],[\"Bills\"],[\"Groceries\"],[\"Groceries\"],[\"(?)\"],[\"Savings\"],[null],[null],[null],[null],[\"Charity\"],[\"(?)\"],[\"Income\"],[null],[null],[\"(?)\"],[null],[\"Entertainment\"],[null],[\"Personal care\"],[null],[\"Shopping\"],[\"Entertainment\"],[\"Personal care\"],[\"Shopping\"],[\"Shopping\"],[\"Expenses\"],[\"(?)\"],[\"Family\"],[\"Entertainment\"],[null],[\"Expenses\"],[\"Income\"],[null],[null],[null],[\"Income\"],[\"Income\"],[null],[null],[null],[null],[\"Finances\"],[\"Savings\"],[null],[\"Personal care\"],[\"Family\"],[null],[\"Family\"],[\"Income\"],[\"Finances\"],[\"Transport\"],[\"Transport\"],[\"Family\"],[null],[null],[\"Savings\"],[\"Eating out\"],[\"(?)\"],[null],[\"Savings\"],[null],[\"Transport\"],[\"General\"],[\"Bills\"],[\"Gifts\"],[\"Bills\"],[null],[null],[null],[null],[\"(?)\"],[\"Shopping\"],[\"Groceries\"],[null],[null],[null],[\"Groceries\"],[\"Family\"],[\"Income\"],[\"Income\"],[null],[null],[\"General\"],[\"Personal care\"],[\"Shopping\"],[\"Transport\"],[\"Shopping\"],[\"Shopping\"],[null],[\"Transport\"],[\"Transport\"],[\"Transport\"],[\"Transport\"],[\"Savings\"],[null],[null],[null],[\"Bills\"],[null],[\"Bills\"],[\"Charity\"],[\"Charity\"],[\"Eating out\"],[\"Eating out\"],[\"Eating out\"],[\"Entertainment\"],[null],[\"Entertainment\"],[\"Entertainment\"],[\"Expenses\"],[\"Family\"],[\"Finances\"],[\"Finances\"],[\"General\"],[\"Expenses\"],[\"Groceries\"],[\"Income\"],[null],[\"(?)\"],[\"Family\"],[null],[\"Family\"],[null],[\"Savings\"],[\"General\"],[\"Charity\"],[null],[null],[\"Transport\"],[\"Bills\"],[\"Gifts\"],[\"Income\"],[\"Entertainment\"],[\"Personal care\"],[\"Groceries\"],[null],[\"General\"],[\"Eating out\"],[\"Bills\"],[\"Bills\"],[\"Charity\"],[\"Charity\"],[\"Groceries\"],[\"Charity\"],[\"General\"],[\"(?)\"],[\"Eating out\"],[\"Eating out\"],[\"Gifts\"],[\"Eating out\"],[\"Expenses\"],[\"Family\"],[null],[\"Family\"],[\"Eating out\"],[null],[\"Eating out\"],[\"Bills\"],[\"Charity\"],[\"Bills\"],[\"Family\"],[\"Gifts\"],[null],[\"Charity\"],[\"Groceries\"],[null],[null],[\"Charity\"],[\"Charity\"],[\"Gifts\"],[\"Groceries\"],[\"Groceries\"],[null],[\"Expenses\"]],\"domain\":{\"x\":[0.0,1.0],\"y\":[0.0,1.0]},\"hovertemplate\":\"\\u003cb\\u003e%{parent}\\u003cbr\\u003e\\u003c\\u002fb\\u003e%{label}\\u003cbr\\u003e\\u00a3%{value:.2f}\\u003cextra\\u003e\\u003c\\u002fextra\\u003e\",\"hovertext\":[null,null,null,\"Shopping\",\"Finances\",null,\"Finances\",null,\"Eating out\",\"Eating out\",\"General\",null,null,\"Gifts\",null,\"Gifts\",null,null,\"Gifts\",\"(?)\",\"Groceries\",\"Savings\",\"Savings\",null,\"Savings\",null,\"Charity\",\"Income\",\"Savings\",\"Income\",null,\"Expenses\",null,null,\"Income\",null,null,null,\"Savings\",\"Family\",\"Gifts\",\"Groceries\",\"(?)\",\"Entertainment\",\"(?)\",\"Bills\",\"Personal care\",null,null,\"(?)\",\"Savings\",\"Bills\",\"Finances\",\"Finances\",\"Bills\",\"Groceries\",\"Groceries\",\"(?)\",\"Savings\",null,null,null,null,\"Charity\",\"(?)\",\"Income\",null,null,\"(?)\",null,\"Entertainment\",null,\"Personal care\",null,\"Shopping\",\"Entertainment\",\"Personal care\",\"Shopping\",\"Shopping\",\"Expenses\",\"(?)\",\"Family\",\"Entertainment\",null,\"Expenses\",\"Income\",null,null,null,\"Income\",\"Income\",null,null,null,null,\"Finances\",\"Savings\",null,\"Personal care\",\"Family\",null,\"Family\",\"Income\",\"Finances\",\"Transport\",\"Transport\",\"Family\",null,null,\"Savings\",\"Eating out\",\"(?)\",null,\"Savings\",null,\"Transport\",\"General\",\"Bills\",\"Gifts\",\"Bills\",null,null,null,null,\"(?)\",\"Shopping\",\"Groceries\",null,null,null,\"Groceries\",\"Family\",\"Income\",\"Income\",null,null,\"General\",\"Personal care\",\"Shopping\",\"Transport\",\"Shopping\",\"Shopping\",null,\"Transport\",\"Transport\",\"Transport\",\"Transport\",\"Savings\",null,null,null,\"Bills\",null,\"Bills\",\"Charity\",\"Charity\",\"Eating out\",\"Eating out\",\"Eating out\",\"Entertainment\",null,\"Entertainment\",\"Entertainment\",\"Expenses\",\"Family\",\"Finances\",\"Finances\",\"General\",\"Expenses\",\"Groceries\",\"Income\",null,\"(?)\",\"Family\",null,\"Family\",null,\"Savings\",\"General\",\"Charity\",null,null,\"Transport\",\"Bills\",\"Gifts\",\"Income\",\"Entertainment\",\"Personal care\",\"Groceries\",null,\"General\",\"Eating out\",\"Bills\",\"Bills\",\"Charity\",\"Charity\",\"Groceries\",\"Charity\",\"General\",\"(?)\",\"Eating out\",\"Eating out\",\"Gifts\",\"Eating out\",\"Expenses\",\"Family\",null,\"Family\",\"Eating out\",null,\"Eating out\",\"Bills\",\"Charity\",\"Bills\",\"Family\",\"Gifts\",null,\"Charity\",\"Groceries\",null,null,\"Charity\",\"Charity\",\"Gifts\",\"Groceries\",\"Groceries\",null,\"Expenses\"],\"ids\":[\"February\\u002fFinances\",\"December\\u002fTransfers\",\"September\\u002fExpenses\",\"February\\u002fShopping\",\"December\\u002fFinances\",\"March\\u002fPersonal care\",\"October\\u002fFinances\",\"September\\u002fShit food\",\"December\\u002fEating out\",\"August\\u002fEating out\",\"April\\u002fGeneral\",\"October\\u002fShit food\",\"July\\u002fTransfers\",\"August\\u002fGifts\",\"December\\u002fGifts\",\"February\\u002fGifts\",\"March\\u002fEntertainment\",\"May\\u002fHolidays\",\"March\\u002fGifts\",\"November\",\"December\\u002fGroceries\",\"November\\u002fSavings\",\"May\\u002fSavings\",\"April\\u002fHolidays\",\"February\\u002fSavings\",\"June\\u002fHolidays\",\"January\\u002fCharity\",\"May\\u002fIncome\",\"April\\u002fSavings\",\"March\\u002fIncome\",\"August\\u002fExpenses\",\"June\\u002fExpenses\",\"March\\u002fShopping\",\"February\\u002fShit food\",\"January\\u002fIncome\",\"March\\u002fFinances\",\"November\\u002fShit food\",\"January\\u002fShit food\",\"October\\u002fSavings\",\"February\\u002fFamily\",\"April\\u002fGifts\",\"July\\u002fGroceries\",\"April\",\"July\\u002fEntertainment\",\"February\",\"January\\u002fBills\",\"October\\u002fPersonal care\",\"September\\u002fPersonal care\",\"November\\u002fHolidays\",\"July\",\"August\\u002fSavings\",\"March\\u002fBills\",\"July\\u002fFinances\",\"June\\u002fFinances\",\"May\\u002fBills\",\"November\\u002fGroceries\",\"March\\u002fGroceries\",\"December\",\"September\\u002fSavings\",\"April\\u002fShit food\",\"June\\u002fShit food\",\"August\\u002fShit food\",\"December\\u002fShit food\",\"December\\u002fCharity\",\"August\",\"July\\u002fIncome\",\"November\\u002fPersonal care\",\"June\\u002fTransfers\",\"May\",\"January\\u002fEntertainment\",\"February\\u002fEntertainment\",\"January\\u002fPersonal care\",\"February\\u002fPersonal care\",\"April\\u002fTransfers\",\"September\\u002fShopping\",\"August\\u002fEntertainment\",\"December\\u002fPersonal care\",\"October\\u002fShopping\",\"November\\u002fShopping\",\"July\\u002fExpenses\",\"March\",\"November\\u002fFamily\",\"April\\u002fEntertainment\",\"May\\u002fShopping\",\"May\\u002fExpenses\",\"September\\u002fIncome\",\"October\\u002fExpenses\",\"May\\u002fTransfers\",\"November\\u002fTransfers\",\"October\\u002fIncome\",\"November\\u002fIncome\",\"October\\u002fTransfers\",\"July\\u002fShopping\",\"May\\u002fFinances\",\"May\\u002fGifts\",\"November\\u002fFinances\",\"July\\u002fSavings\",\"December\\u002fHolidays\",\"June\\u002fPersonal care\",\"March\\u002fFamily\",\"July\\u002fGeneral\",\"June\\u002fFamily\",\"April\\u002fIncome\",\"April\\u002fFinances\",\"April\\u002fTransport\",\"August\\u002fTransport\",\"August\\u002fFamily\",\"July\\u002fHolidays\",\"November\\u002fExpenses\",\"January\\u002fSavings\",\"January\\u002fEating out\",\"January\",\"August\\u002fPersonal care\",\"June\\u002fSavings\",\"December\\u002fExpenses\",\"November\\u002fTransport\",\"January\\u002fGeneral\",\"October\\u002fBills\",\"June\\u002fGifts\",\"September\\u002fBills\",\"June\\u002fTransport\",\"May\\u002fShit food\",\"January\\u002fTransfers\",\"January\\u002fGifts\",\"June\",\"June\\u002fShopping\",\"June\\u002fGroceries\",\"March\\u002fTransfers\",\"March\\u002fTransport\",\"August\\u002fHolidays\",\"September\\u002fGroceries\",\"May\\u002fFamily\",\"February\\u002fIncome\",\"December\\u002fIncome\",\"November\\u002fGeneral\",\"May\\u002fGeneral\",\"March\\u002fGeneral\",\"May\\u002fPersonal care\",\"January\\u002fShopping\",\"December\\u002fTransport\",\"December\\u002fShopping\",\"August\\u002fShopping\",\"April\\u002fShopping\",\"October\\u002fTransport\",\"February\\u002fTransport\",\"January\\u002fTransport\",\"July\\u002fTransport\",\"March\\u002fSavings\",\"July\\u002fShit food\",\"September\\u002fTransfers\",\"May\\u002fTransport\",\"April\\u002fBills\",\"April\\u002fPersonal care\",\"June\\u002fBills\",\"February\\u002fCharity\",\"March\\u002fCharity\",\"July\\u002fEating out\",\"March\\u002fEating out\",\"October\\u002fEating out\",\"December\\u002fEntertainment\",\"June\\u002fEntertainment\",\"November\\u002fEntertainment\",\"October\\u002fEntertainment\",\"March\\u002fExpenses\",\"July\\u002fFamily\",\"August\\u002fFinances\",\"September\\u002fFinances\",\"February\\u002fGeneral\",\"January\\u002fExpenses\",\"January\\u002fGroceries\",\"August\\u002fIncome\",\"October\\u002fHolidays\",\"September\",\"December\\u002fFamily\",\"August\\u002fTransfers\",\"October\\u002fFamily\",\"January\\u002fHolidays\",\"December\\u002fSavings\",\"August\\u002fGeneral\",\"September\\u002fCharity\",\"September\\u002fHolidays\",\"March\\u002fShit food\",\"September\\u002fTransport\",\"November\\u002fBills\",\"July\\u002fGifts\",\"June\\u002fIncome\",\"September\\u002fEntertainment\",\"July\\u002fPersonal care\",\"October\\u002fGroceries\",\"February\\u002fHolidays\",\"June\\u002fGeneral\",\"April\\u002fEating out\",\"August\\u002fBills\",\"July\\u002fBills\",\"August\\u002fCharity\",\"June\\u002fCharity\",\"April\\u002fGroceries\",\"May\\u002fCharity\",\"December\\u002fGeneral\",\"October\",\"June\\u002fEating out\",\"November\\u002fEating out\",\"October\\u002fGifts\",\"September\\u002fEating out\",\"April\\u002fExpenses\",\"September\\u002fFamily\",\"February\\u002fTransfers\",\"January\\u002fFamily\",\"May\\u002fEating out\",\"March\\u002fHolidays\",\"February\\u002fEating out\",\"February\\u002fBills\",\"July\\u002fCharity\",\"December\\u002fBills\",\"April\\u002fFamily\",\"November\\u002fGifts\",\"September\\u002fGeneral\",\"April\\u002fCharity\",\"May\\u002fGroceries\",\"January\\u002fFinances\",\"May\\u002fEntertainment\",\"November\\u002fCharity\",\"October\\u002fCharity\",\"September\\u002fGifts\",\"February\\u002fGroceries\",\"August\\u002fGroceries\",\"October\\u002fGeneral\",\"February\\u002fExpenses\"],\"labels\":[\"Finances\",\"Transfers\",\"Expenses\",\"Shopping\",\"Finances\",\"Personal care\",\"Finances\",\"Shit food\",\"Eating out\",\"Eating out\",\"General\",\"Shit food\",\"Transfers\",\"Gifts\",\"Gifts\",\"Gifts\",\"Entertainment\",\"Holidays\",\"Gifts\",\"November\",\"Groceries\",\"Savings\",\"Savings\",\"Holidays\",\"Savings\",\"Holidays\",\"Charity\",\"Income\",\"Savings\",\"Income\",\"Expenses\",\"Expenses\",\"Shopping\",\"Shit food\",\"Income\",\"Finances\",\"Shit food\",\"Shit food\",\"Savings\",\"Family\",\"Gifts\",\"Groceries\",\"April\",\"Entertainment\",\"February\",\"Bills\",\"Personal care\",\"Personal care\",\"Holidays\",\"July\",\"Savings\",\"Bills\",\"Finances\",\"Finances\",\"Bills\",\"Groceries\",\"Groceries\",\"December\",\"Savings\",\"Shit food\",\"Shit food\",\"Shit food\",\"Shit food\",\"Charity\",\"August\",\"Income\",\"Personal care\",\"Transfers\",\"May\",\"Entertainment\",\"Entertainment\",\"Personal care\",\"Personal care\",\"Transfers\",\"Shopping\",\"Entertainment\",\"Personal care\",\"Shopping\",\"Shopping\",\"Expenses\",\"March\",\"Family\",\"Entertainment\",\"Shopping\",\"Expenses\",\"Income\",\"Expenses\",\"Transfers\",\"Transfers\",\"Income\",\"Income\",\"Transfers\",\"Shopping\",\"Finances\",\"Gifts\",\"Finances\",\"Savings\",\"Holidays\",\"Personal care\",\"Family\",\"General\",\"Family\",\"Income\",\"Finances\",\"Transport\",\"Transport\",\"Family\",\"Holidays\",\"Expenses\",\"Savings\",\"Eating out\",\"January\",\"Personal care\",\"Savings\",\"Expenses\",\"Transport\",\"General\",\"Bills\",\"Gifts\",\"Bills\",\"Transport\",\"Shit food\",\"Transfers\",\"Gifts\",\"June\",\"Shopping\",\"Groceries\",\"Transfers\",\"Transport\",\"Holidays\",\"Groceries\",\"Family\",\"Income\",\"Income\",\"General\",\"General\",\"General\",\"Personal care\",\"Shopping\",\"Transport\",\"Shopping\",\"Shopping\",\"Shopping\",\"Transport\",\"Transport\",\"Transport\",\"Transport\",\"Savings\",\"Shit food\",\"Transfers\",\"Transport\",\"Bills\",\"Personal care\",\"Bills\",\"Charity\",\"Charity\",\"Eating out\",\"Eating out\",\"Eating out\",\"Entertainment\",\"Entertainment\",\"Entertainment\",\"Entertainment\",\"Expenses\",\"Family\",\"Finances\",\"Finances\",\"General\",\"Expenses\",\"Groceries\",\"Income\",\"Holidays\",\"September\",\"Family\",\"Transfers\",\"Family\",\"Holidays\",\"Savings\",\"General\",\"Charity\",\"Holidays\",\"Shit food\",\"Transport\",\"Bills\",\"Gifts\",\"Income\",\"Entertainment\",\"Personal care\",\"Groceries\",\"Holidays\",\"General\",\"Eating out\",\"Bills\",\"Bills\",\"Charity\",\"Charity\",\"Groceries\",\"Charity\",\"General\",\"October\",\"Eating out\",\"Eating out\",\"Gifts\",\"Eating out\",\"Expenses\",\"Family\",\"Transfers\",\"Family\",\"Eating out\",\"Holidays\",\"Eating out\",\"Bills\",\"Charity\",\"Bills\",\"Family\",\"Gifts\",\"General\",\"Charity\",\"Groceries\",\"Finances\",\"Entertainment\",\"Charity\",\"Charity\",\"Gifts\",\"Groceries\",\"Groceries\",\"General\",\"Expenses\"],\"marker\":{\"colors\":[\"#AA0DFE\",\"#AA0DFE\",\"#AA0DFE\",\"#3283FE\",\"#85660D\",\"#AA0DFE\",\"#85660D\",\"#AA0DFE\",\"#782AB6\",\"#782AB6\",\"#565656\",\"#AA0DFE\",\"#AA0DFE\",\"#1C8356\",\"#AA0DFE\",\"#1C8356\",\"#AA0DFE\",\"#AA0DFE\",\"#1C8356\",\"#16FF32\",\"#F7E1A0\",\"#E2E2E2\",\"#E2E2E2\",\"#AA0DFE\",\"#E2E2E2\",\"#AA0DFE\",\"#1CBE4F\",\"#C4451C\",\"#E2E2E2\",\"#C4451C\",\"#AA0DFE\",\"#DEA0FD\",\"#AA0DFE\",\"#AA0DFE\",\"#C4451C\",\"#AA0DFE\",\"#AA0DFE\",\"#AA0DFE\",\"#E2E2E2\",\"#FE00FA\",\"#1C8356\",\"#F7E1A0\",\"#16FF32\",\"#325A9B\",\"#16FF32\",\"#FEAF16\",\"#F8A19F\",\"#AA0DFE\",\"#AA0DFE\",\"#16FF32\",\"#E2E2E2\",\"#FEAF16\",\"#85660D\",\"#85660D\",\"#FEAF16\",\"#F7E1A0\",\"#F7E1A0\",\"#16FF32\",\"#E2E2E2\",\"#AA0DFE\",\"#AA0DFE\",\"#AA0DFE\",\"#AA0DFE\",\"#1CBE4F\",\"#16FF32\",\"#C4451C\",\"#AA0DFE\",\"#AA0DFE\",\"#16FF32\",\"#AA0DFE\",\"#325A9B\",\"#AA0DFE\",\"#F8A19F\",\"#AA0DFE\",\"#3283FE\",\"#325A9B\",\"#F8A19F\",\"#3283FE\",\"#3283FE\",\"#DEA0FD\",\"#16FF32\",\"#FE00FA\",\"#325A9B\",\"#AA0DFE\",\"#DEA0FD\",\"#C4451C\",\"#AA0DFE\",\"#AA0DFE\",\"#AA0DFE\",\"#C4451C\",\"#C4451C\",\"#AA0DFE\",\"#AA0DFE\",\"#AA0DFE\",\"#AA0DFE\",\"#85660D\",\"#E2E2E2\",\"#AA0DFE\",\"#F8A19F\",\"#FE00FA\",\"#AA0DFE\",\"#FE00FA\",\"#C4451C\",\"#85660D\",\"#90AD1C\",\"#90AD1C\",\"#FE00FA\",\"#AA0DFE\",\"#AA0DFE\",\"#E2E2E2\",\"#782AB6\",\"#16FF32\",\"#AA0DFE\",\"#E2E2E2\",\"#AA0DFE\",\"#90AD1C\",\"#565656\",\"#FEAF16\",\"#1C8356\",\"#FEAF16\",\"#AA0DFE\",\"#AA0DFE\",\"#AA0DFE\",\"#AA0DFE\",\"#16FF32\",\"#3283FE\",\"#F7E1A0\",\"#AA0DFE\",\"#AA0DFE\",\"#AA0DFE\",\"#F7E1A0\",\"#FE00FA\",\"#C4451C\",\"#C4451C\",\"#AA0DFE\",\"#AA0DFE\",\"#565656\",\"#F8A19F\",\"#3283FE\",\"#90AD1C\",\"#3283FE\",\"#3283FE\",\"#AA0DFE\",\"#90AD1C\",\"#90AD1C\",\"#90AD1C\",\"#90AD1C\",\"#E2E2E2\",\"#AA0DFE\",\"#AA0DFE\",\"#AA0DFE\",\"#FEAF16\",\"#AA0DFE\",\"#FEAF16\",\"#1CBE4F\",\"#1CBE4F\",\"#782AB6\",\"#782AB6\",\"#782AB6\",\"#325A9B\",\"#AA0DFE\",\"#325A9B\",\"#325A9B\",\"#DEA0FD\",\"#FE00FA\",\"#85660D\",\"#85660D\",\"#565656\",\"#DEA0FD\",\"#F7E1A0\",\"#C4451C\",\"#AA0DFE\",\"#16FF32\",\"#FE00FA\",\"#AA0DFE\",\"#FE00FA\",\"#AA0DFE\",\"#E2E2E2\",\"#565656\",\"#1CBE4F\",\"#AA0DFE\",\"#AA0DFE\",\"#90AD1C\",\"#FEAF16\",\"#1C8356\",\"#C4451C\",\"#325A9B\",\"#F8A19F\",\"#F7E1A0\",\"#AA0DFE\",\"#565656\",\"#782AB6\",\"#FEAF16\",\"#FEAF16\",\"#1CBE4F\",\"#1CBE4F\",\"#F7E1A0\",\"#1CBE4F\",\"#565656\",\"#16FF32\",\"#782AB6\",\"#782AB6\",\"#1C8356\",\"#782AB6\",\"#DEA0FD\",\"#FE00FA\",\"#AA0DFE\",\"#FE00FA\",\"#782AB6\",\"#AA0DFE\",\"#782AB6\",\"#FEAF16\",\"#1CBE4F\",\"#FEAF16\",\"#FE00FA\",\"#1C8356\",\"#AA0DFE\",\"#1CBE4F\",\"#F7E1A0\",\"#AA0DFE\",\"#AA0DFE\",\"#1CBE4F\",\"#1CBE4F\",\"#1C8356\",\"#F7E1A0\",\"#F7E1A0\",\"#AA0DFE\",\"#DEA0FD\"]},\"name\":\"\",\"parents\":[\"February\",\"December\",\"September\",\"February\",\"December\",\"March\",\"October\",\"September\",\"December\",\"August\",\"April\",\"October\",\"July\",\"August\",\"December\",\"February\",\"March\",\"May\",\"March\",\"\",\"December\",\"November\",\"May\",\"April\",\"February\",\"June\",\"January\",\"May\",\"April\",\"March\",\"August\",\"June\",\"March\",\"February\",\"January\",\"March\",\"November\",\"January\",\"October\",\"February\",\"April\",\"July\",\"\",\"July\",\"\",\"January\",\"October\",\"September\",\"November\",\"\",\"August\",\"March\",\"July\",\"June\",\"May\",\"November\",\"March\",\"\",\"September\",\"April\",\"June\",\"August\",\"December\",\"December\",\"\",\"July\",\"November\",\"June\",\"\",\"January\",\"February\",\"January\",\"February\",\"April\",\"September\",\"August\",\"December\",\"October\",\"November\",\"July\",\"\",\"November\",\"April\",\"May\",\"May\",\"September\",\"October\",\"May\",\"November\",\"October\",\"November\",\"October\",\"July\",\"May\",\"May\",\"November\",\"July\",\"December\",\"June\",\"March\",\"July\",\"June\",\"April\",\"April\",\"April\",\"August\",\"August\",\"July\",\"November\",\"January\",\"January\",\"\",\"August\",\"June\",\"December\",\"November\",\"January\",\"October\",\"June\",\"September\",\"June\",\"May\",\"January\",\"January\",\"\",\"June\",\"June\",\"March\",\"March\",\"August\",\"September\",\"May\",\"February\",\"December\",\"November\",\"May\",\"March\",\"May\",\"January\",\"December\",\"December\",\"August\",\"April\",\"October\",\"February\",\"January\",\"July\",\"March\",\"July\",\"September\",\"May\",\"April\",\"April\",\"June\",\"February\",\"March\",\"July\",\"March\",\"October\",\"December\",\"June\",\"November\",\"October\",\"March\",\"July\",\"August\",\"September\",\"February\",\"January\",\"January\",\"August\",\"October\",\"\",\"December\",\"August\",\"October\",\"January\",\"December\",\"August\",\"September\",\"September\",\"March\",\"September\",\"November\",\"July\",\"June\",\"September\",\"July\",\"October\",\"February\",\"June\",\"April\",\"August\",\"July\",\"August\",\"June\",\"April\",\"May\",\"December\",\"\",\"June\",\"November\",\"October\",\"September\",\"April\",\"September\",\"February\",\"January\",\"May\",\"March\",\"February\",\"February\",\"July\",\"December\",\"April\",\"November\",\"September\",\"April\",\"May\",\"January\",\"May\",\"November\",\"October\",\"September\",\"February\",\"August\",\"October\",\"February\"],\"values\":[0.0,0.0,0.0,11.99,2.0,0.0,565.0,0.0,18.54,21.49,2078.55,0.0,0.0,15.0,0.0,30.0,0.0,0.0,20.0,2200.89,104.61,571.8100000000001,30.09,0.0,78.24,0.0,128.44,0.0,280.0,0.0,0.0,0.01,0.0,0.0,0.0,0.0,0.0,0.0,666.21,107.0,0.0,46.96,6622.15,12.25,3168.85,781.81,43.89,0.0,0.0,1862.23,27.18,6402.34,470.0,250.0,395.0,52.92,75.17,2616.02,710.31,0.0,0.0,0.0,0.0,257.65,2854.64,0.0,0.0,0.0,1817.56,0.0,23.2,0.0,68.0,0.0,8.99,8.95,11.0,50.84,0.0,16.0,7054.4400000000005,384.0,13.3,0.0,815.0,0.0,0.0,0.0,0.0,0.0,0.0,0.0,0.0,0.0,0.0,250.0,326.08,0.0,14.99,265.0,0.0,339.0,0.0,500.0,5.0,24.8,467.0,0.0,0.0,128.41,14.129999999999999,1587.27,0.0,241.44,0.0,76.4,0.4,344.0,10.0,579.0,0.0,0.0,0.0,0.0,1506.24,8.0,11.5,0.0,0.0,0.0,78.28999999999999,239.0,0.0,0.0,0.0,0.0,26.0,26.99,24.380000000000003,56.0,32.97,22.0,0.0,52.4,109.78999999999999,69.69,0.0,0.87,0.0,0.0,0.0,1247.0,0.0,420.0,124.05,120.82,9.08,29.24,62.95,50.0,0.0,0.0,81.5,115.0,303.78999999999996,1501.0,500.0,14.5,20.0,61.010000000000005,0.0,0.0,2720.79,885.43,0.0,357.1,0.0,613.17,0.0,247.24,0.0,0.0,29.200000000000003,593.5,10.0,0.0,23.99,0.01,59.89,0.0,0.0,17.34,434.0,459.99,249.49,208.89999999999998,57.79,275.21,10.0,2620.23,2.4,25.21,11.33,43.86,1632.0,449.90999999999997,0.0,359.0,4.85,0.0,15.49,2518.3,208.07,574.65,588.0,45.55,0.0,203.17000000000002,31.42,0.0,0.0,201.5,325.12,50.0,38.29,83.73,0.0,30.0],\"type\":\"treemap\",\"maxdepth\":2}],                        {\"template\":{\"data\":{\"histogram2dcontour\":[{\"type\":\"histogram2dcontour\",\"colorbar\":{\"outlinewidth\":0,\"ticks\":\"\"},\"colorscale\":[[0.0,\"#0d0887\"],[0.1111111111111111,\"#46039f\"],[0.2222222222222222,\"#7201a8\"],[0.3333333333333333,\"#9c179e\"],[0.4444444444444444,\"#bd3786\"],[0.5555555555555556,\"#d8576b\"],[0.6666666666666666,\"#ed7953\"],[0.7777777777777778,\"#fb9f3a\"],[0.8888888888888888,\"#fdca26\"],[1.0,\"#f0f921\"]]}],\"choropleth\":[{\"type\":\"choropleth\",\"colorbar\":{\"outlinewidth\":0,\"ticks\":\"\"}}],\"histogram2d\":[{\"type\":\"histogram2d\",\"colorbar\":{\"outlinewidth\":0,\"ticks\":\"\"},\"colorscale\":[[0.0,\"#0d0887\"],[0.1111111111111111,\"#46039f\"],[0.2222222222222222,\"#7201a8\"],[0.3333333333333333,\"#9c179e\"],[0.4444444444444444,\"#bd3786\"],[0.5555555555555556,\"#d8576b\"],[0.6666666666666666,\"#ed7953\"],[0.7777777777777778,\"#fb9f3a\"],[0.8888888888888888,\"#fdca26\"],[1.0,\"#f0f921\"]]}],\"heatmap\":[{\"type\":\"heatmap\",\"colorbar\":{\"outlinewidth\":0,\"ticks\":\"\"},\"colorscale\":[[0.0,\"#0d0887\"],[0.1111111111111111,\"#46039f\"],[0.2222222222222222,\"#7201a8\"],[0.3333333333333333,\"#9c179e\"],[0.4444444444444444,\"#bd3786\"],[0.5555555555555556,\"#d8576b\"],[0.6666666666666666,\"#ed7953\"],[0.7777777777777778,\"#fb9f3a\"],[0.8888888888888888,\"#fdca26\"],[1.0,\"#f0f921\"]]}],\"heatmapgl\":[{\"type\":\"heatmapgl\",\"colorbar\":{\"outlinewidth\":0,\"ticks\":\"\"},\"colorscale\":[[0.0,\"#0d0887\"],[0.1111111111111111,\"#46039f\"],[0.2222222222222222,\"#7201a8\"],[0.3333333333333333,\"#9c179e\"],[0.4444444444444444,\"#bd3786\"],[0.5555555555555556,\"#d8576b\"],[0.6666666666666666,\"#ed7953\"],[0.7777777777777778,\"#fb9f3a\"],[0.8888888888888888,\"#fdca26\"],[1.0,\"#f0f921\"]]}],\"contourcarpet\":[{\"type\":\"contourcarpet\",\"colorbar\":{\"outlinewidth\":0,\"ticks\":\"\"}}],\"contour\":[{\"type\":\"contour\",\"colorbar\":{\"outlinewidth\":0,\"ticks\":\"\"},\"colorscale\":[[0.0,\"#0d0887\"],[0.1111111111111111,\"#46039f\"],[0.2222222222222222,\"#7201a8\"],[0.3333333333333333,\"#9c179e\"],[0.4444444444444444,\"#bd3786\"],[0.5555555555555556,\"#d8576b\"],[0.6666666666666666,\"#ed7953\"],[0.7777777777777778,\"#fb9f3a\"],[0.8888888888888888,\"#fdca26\"],[1.0,\"#f0f921\"]]}],\"surface\":[{\"type\":\"surface\",\"colorbar\":{\"outlinewidth\":0,\"ticks\":\"\"},\"colorscale\":[[0.0,\"#0d0887\"],[0.1111111111111111,\"#46039f\"],[0.2222222222222222,\"#7201a8\"],[0.3333333333333333,\"#9c179e\"],[0.4444444444444444,\"#bd3786\"],[0.5555555555555556,\"#d8576b\"],[0.6666666666666666,\"#ed7953\"],[0.7777777777777778,\"#fb9f3a\"],[0.8888888888888888,\"#fdca26\"],[1.0,\"#f0f921\"]]}],\"mesh3d\":[{\"type\":\"mesh3d\",\"colorbar\":{\"outlinewidth\":0,\"ticks\":\"\"}}],\"scatter\":[{\"fillpattern\":{\"fillmode\":\"overlay\",\"size\":10,\"solidity\":0.2},\"type\":\"scatter\"}],\"parcoords\":[{\"type\":\"parcoords\",\"line\":{\"colorbar\":{\"outlinewidth\":0,\"ticks\":\"\"}}}],\"scatterpolargl\":[{\"type\":\"scatterpolargl\",\"marker\":{\"colorbar\":{\"outlinewidth\":0,\"ticks\":\"\"}}}],\"bar\":[{\"error_x\":{\"color\":\"#2a3f5f\"},\"error_y\":{\"color\":\"#2a3f5f\"},\"marker\":{\"line\":{\"color\":\"#E5ECF6\",\"width\":0.5},\"pattern\":{\"fillmode\":\"overlay\",\"size\":10,\"solidity\":0.2}},\"type\":\"bar\"}],\"scattergeo\":[{\"type\":\"scattergeo\",\"marker\":{\"colorbar\":{\"outlinewidth\":0,\"ticks\":\"\"}}}],\"scatterpolar\":[{\"type\":\"scatterpolar\",\"marker\":{\"colorbar\":{\"outlinewidth\":0,\"ticks\":\"\"}}}],\"histogram\":[{\"marker\":{\"pattern\":{\"fillmode\":\"overlay\",\"size\":10,\"solidity\":0.2}},\"type\":\"histogram\"}],\"scattergl\":[{\"type\":\"scattergl\",\"marker\":{\"colorbar\":{\"outlinewidth\":0,\"ticks\":\"\"}}}],\"scatter3d\":[{\"type\":\"scatter3d\",\"line\":{\"colorbar\":{\"outlinewidth\":0,\"ticks\":\"\"}},\"marker\":{\"colorbar\":{\"outlinewidth\":0,\"ticks\":\"\"}}}],\"scattermapbox\":[{\"type\":\"scattermapbox\",\"marker\":{\"colorbar\":{\"outlinewidth\":0,\"ticks\":\"\"}}}],\"scatterternary\":[{\"type\":\"scatterternary\",\"marker\":{\"colorbar\":{\"outlinewidth\":0,\"ticks\":\"\"}}}],\"scattercarpet\":[{\"type\":\"scattercarpet\",\"marker\":{\"colorbar\":{\"outlinewidth\":0,\"ticks\":\"\"}}}],\"carpet\":[{\"aaxis\":{\"endlinecolor\":\"#2a3f5f\",\"gridcolor\":\"white\",\"linecolor\":\"white\",\"minorgridcolor\":\"white\",\"startlinecolor\":\"#2a3f5f\"},\"baxis\":{\"endlinecolor\":\"#2a3f5f\",\"gridcolor\":\"white\",\"linecolor\":\"white\",\"minorgridcolor\":\"white\",\"startlinecolor\":\"#2a3f5f\"},\"type\":\"carpet\"}],\"table\":[{\"cells\":{\"fill\":{\"color\":\"#EBF0F8\"},\"line\":{\"color\":\"white\"}},\"header\":{\"fill\":{\"color\":\"#C8D4E3\"},\"line\":{\"color\":\"white\"}},\"type\":\"table\"}],\"barpolar\":[{\"marker\":{\"line\":{\"color\":\"#E5ECF6\",\"width\":0.5},\"pattern\":{\"fillmode\":\"overlay\",\"size\":10,\"solidity\":0.2}},\"type\":\"barpolar\"}],\"pie\":[{\"automargin\":true,\"type\":\"pie\"}]},\"layout\":{\"autotypenumbers\":\"strict\",\"colorway\":[\"#636efa\",\"#EF553B\",\"#00cc96\",\"#ab63fa\",\"#FFA15A\",\"#19d3f3\",\"#FF6692\",\"#B6E880\",\"#FF97FF\",\"#FECB52\"],\"font\":{\"color\":\"#2a3f5f\"},\"hovermode\":\"closest\",\"hoverlabel\":{\"align\":\"left\"},\"paper_bgcolor\":\"white\",\"plot_bgcolor\":\"#E5ECF6\",\"polar\":{\"bgcolor\":\"#E5ECF6\",\"angularaxis\":{\"gridcolor\":\"white\",\"linecolor\":\"white\",\"ticks\":\"\"},\"radialaxis\":{\"gridcolor\":\"white\",\"linecolor\":\"white\",\"ticks\":\"\"}},\"ternary\":{\"bgcolor\":\"#E5ECF6\",\"aaxis\":{\"gridcolor\":\"white\",\"linecolor\":\"white\",\"ticks\":\"\"},\"baxis\":{\"gridcolor\":\"white\",\"linecolor\":\"white\",\"ticks\":\"\"},\"caxis\":{\"gridcolor\":\"white\",\"linecolor\":\"white\",\"ticks\":\"\"}},\"coloraxis\":{\"colorbar\":{\"outlinewidth\":0,\"ticks\":\"\"}},\"colorscale\":{\"sequential\":[[0.0,\"#0d0887\"],[0.1111111111111111,\"#46039f\"],[0.2222222222222222,\"#7201a8\"],[0.3333333333333333,\"#9c179e\"],[0.4444444444444444,\"#bd3786\"],[0.5555555555555556,\"#d8576b\"],[0.6666666666666666,\"#ed7953\"],[0.7777777777777778,\"#fb9f3a\"],[0.8888888888888888,\"#fdca26\"],[1.0,\"#f0f921\"]],\"sequentialminus\":[[0.0,\"#0d0887\"],[0.1111111111111111,\"#46039f\"],[0.2222222222222222,\"#7201a8\"],[0.3333333333333333,\"#9c179e\"],[0.4444444444444444,\"#bd3786\"],[0.5555555555555556,\"#d8576b\"],[0.6666666666666666,\"#ed7953\"],[0.7777777777777778,\"#fb9f3a\"],[0.8888888888888888,\"#fdca26\"],[1.0,\"#f0f921\"]],\"diverging\":[[0,\"#8e0152\"],[0.1,\"#c51b7d\"],[0.2,\"#de77ae\"],[0.3,\"#f1b6da\"],[0.4,\"#fde0ef\"],[0.5,\"#f7f7f7\"],[0.6,\"#e6f5d0\"],[0.7,\"#b8e186\"],[0.8,\"#7fbc41\"],[0.9,\"#4d9221\"],[1,\"#276419\"]]},\"xaxis\":{\"gridcolor\":\"white\",\"linecolor\":\"white\",\"ticks\":\"\",\"title\":{\"standoff\":15},\"zerolinecolor\":\"white\",\"automargin\":true,\"zerolinewidth\":2},\"yaxis\":{\"gridcolor\":\"white\",\"linecolor\":\"white\",\"ticks\":\"\",\"title\":{\"standoff\":15},\"zerolinecolor\":\"white\",\"automargin\":true,\"zerolinewidth\":2},\"scene\":{\"xaxis\":{\"backgroundcolor\":\"#E5ECF6\",\"gridcolor\":\"white\",\"linecolor\":\"white\",\"showbackground\":true,\"ticks\":\"\",\"zerolinecolor\":\"white\",\"gridwidth\":2},\"yaxis\":{\"backgroundcolor\":\"#E5ECF6\",\"gridcolor\":\"white\",\"linecolor\":\"white\",\"showbackground\":true,\"ticks\":\"\",\"zerolinecolor\":\"white\",\"gridwidth\":2},\"zaxis\":{\"backgroundcolor\":\"#E5ECF6\",\"gridcolor\":\"white\",\"linecolor\":\"white\",\"showbackground\":true,\"ticks\":\"\",\"zerolinecolor\":\"white\",\"gridwidth\":2}},\"shapedefaults\":{\"line\":{\"color\":\"#2a3f5f\"}},\"annotationdefaults\":{\"arrowcolor\":\"#2a3f5f\",\"arrowhead\":0,\"arrowwidth\":1},\"geo\":{\"bgcolor\":\"white\",\"landcolor\":\"#E5ECF6\",\"subunitcolor\":\"white\",\"showland\":true,\"showlakes\":true,\"lakecolor\":\"white\"},\"title\":{\"x\":0.05},\"mapbox\":{\"style\":\"light\"}}},\"legend\":{\"tracegroupgap\":0},\"title\":{\"text\":\"\\u003cb\\u003e2024 Spending Breakdown\\u003c\\u002fb\\u003e\\u003cbr\\u003e\\u003cspan style='font-size:14px;color:gray;'\\u003eA breakdown of my spending by month and category.\\u003c\\u002fspan\\u003e\",\"font\":{\"size\":18,\"family\":\"Arial, sans-serif\",\"color\":\"black\"},\"x\":0.5,\"xanchor\":\"center\",\"yanchor\":\"top\"},\"treemapcolorway\":[\"#AA0DFE\",\"#3283FE\",\"#85660D\",\"#782AB6\",\"#565656\",\"#1C8356\",\"#16FF32\",\"#F7E1A0\",\"#E2E2E2\",\"#1CBE4F\",\"#C4451C\",\"#DEA0FD\",\"#FE00FA\",\"#325A9B\",\"#FEAF16\",\"#F8A19F\",\"#90AD1C\",\"#F6222E\",\"#1CFFCE\",\"#2ED9FF\",\"#B10DA1\",\"#C075A6\",\"#FC1CBF\",\"#B00068\",\"#FBE426\",\"#FA0087\"],\"height\":900,\"width\":1000,\"margin\":{\"t\":100},\"autosize\":true},                        {\"responsive\": true}                    ).then(function(){\n",
       "                            \n",
       "var gd = document.getElementById('df90fba1-9e55-496e-97c4-114166bba6cf');\n",
       "var x = new MutationObserver(function (mutations, observer) {{\n",
       "        var display = window.getComputedStyle(gd).display;\n",
       "        if (!display || display === 'none') {{\n",
       "            console.log([gd, 'removed!']);\n",
       "            Plotly.purge(gd);\n",
       "            observer.disconnect();\n",
       "        }}\n",
       "}});\n",
       "\n",
       "// Listen for the removal of the full notebook cells\n",
       "var notebookContainer = gd.closest('#notebook-container');\n",
       "if (notebookContainer) {{\n",
       "    x.observe(notebookContainer, {childList: true});\n",
       "}}\n",
       "\n",
       "// Listen for the clearing of the current output cell\n",
       "var outputEl = gd.closest('.output');\n",
       "if (outputEl) {{\n",
       "    x.observe(outputEl, {childList: true});\n",
       "}}\n",
       "\n",
       "                        })                };                });            </script>        </div>"
      ]
     },
     "metadata": {},
     "output_type": "display_data"
    }
   ],
   "source": [
    "fig = px.treemap(data_2024_tree, \n",
    "                 path=['Month', 'Category'], \n",
    "                 values='Money Out', \n",
    "                 title='2024 Monthly Spending Breakdown', \n",
    "                 color='Category', \n",
    "                 color_discrete_sequence=px.colors.qualitative.Alphabet, \n",
    "                 #color_continuous_scale = 'plotly3',\n",
    "                 labels={'Money Out': 'Total Amount Spent'},\n",
    "                 width=1000, \n",
    "                 height=900, \n",
    "                 branchvalues='total',\n",
    "                 hover_name='Category')\n",
    "\n",
    "fig.update_layout(autosize=True, \n",
    "                  title={\n",
    "        'text': \"<b>2024 Spending Breakdown</b><br><span style='font-size:14px;color:gray;'>A breakdown of my spending by month and category.</span>\",\n",
    "        'x': 0.5,  \n",
    "        'xanchor': 'center', \n",
    "        'yanchor': 'top'\n",
    "    },\n",
    "    title_font=dict(size=18, family='Arial, sans-serif', color='black'),  \n",
    "    margin=dict(t=100)  \n",
    "                 )\n",
    "\n",
    "fig.update_traces(\n",
    "    hovertemplate='<b>%{parent}<br></b>' +\n",
    "                  '%{label}<br>' +\n",
    "                  '£%{value:.2f}<extra></extra>',\n",
    "    #root_color='lightblue',\n",
    "    maxdepth=2\n",
    ")\n",
    "\n",
    "fig.show()\n"
   ]
  },
  {
   "cell_type": "markdown",
   "id": "6f69cacd-b9a3-4b99-8f3a-c53f00b47c58",
   "metadata": {},
   "source": [
    "This is the end of my analysis, thank you"
   ]
  }
 ],
 "metadata": {
  "kernelspec": {
   "display_name": "Python 3 (ipykernel)",
   "language": "python",
   "name": "python3"
  },
  "language_info": {
   "codemirror_mode": {
    "name": "ipython",
    "version": 3
   },
   "file_extension": ".py",
   "mimetype": "text/x-python",
   "name": "python",
   "nbconvert_exporter": "python",
   "pygments_lexer": "ipython3",
   "version": "3.12.0"
  }
 },
 "nbformat": 4,
 "nbformat_minor": 5
}
